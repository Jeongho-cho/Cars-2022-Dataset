{
 "cells": [
  {
   "cell_type": "code",
   "execution_count": 133,
   "id": "52e68e0d",
   "metadata": {},
   "outputs": [],
   "source": [
    "import pandas as pd"
   ]
  },
  {
   "cell_type": "code",
   "execution_count": 2,
   "id": "ead2e98e",
   "metadata": {},
   "outputs": [],
   "source": [
    "df = pd.read_csv('./CARS_1.csv')"
   ]
  },
  {
   "cell_type": "code",
   "execution_count": 30,
   "id": "16f80d11",
   "metadata": {
    "scrolled": true
   },
   "outputs": [
    {
     "data": {
      "text/html": [
       "<div>\n",
       "<style scoped>\n",
       "    .dataframe tbody tr th:only-of-type {\n",
       "        vertical-align: middle;\n",
       "    }\n",
       "\n",
       "    .dataframe tbody tr th {\n",
       "        vertical-align: top;\n",
       "    }\n",
       "\n",
       "    .dataframe thead th {\n",
       "        text-align: right;\n",
       "    }\n",
       "</style>\n",
       "<table border=\"1\" class=\"dataframe\">\n",
       "  <thead>\n",
       "    <tr style=\"text-align: right;\">\n",
       "      <th></th>\n",
       "      <th>car_name</th>\n",
       "      <th>reviews_count</th>\n",
       "      <th>fuel_type</th>\n",
       "      <th>engine_displacement</th>\n",
       "      <th>no_cylinder</th>\n",
       "      <th>seating_capacity</th>\n",
       "      <th>transmission_type</th>\n",
       "      <th>fuel_tank_capacity</th>\n",
       "      <th>body_type</th>\n",
       "      <th>rating</th>\n",
       "      <th>starting_price</th>\n",
       "      <th>ending_price</th>\n",
       "      <th>max_torque_nm</th>\n",
       "      <th>max_torque_rpm</th>\n",
       "      <th>max_power_bhp</th>\n",
       "      <th>max_power_rp</th>\n",
       "    </tr>\n",
       "  </thead>\n",
       "  <tbody>\n",
       "    <tr>\n",
       "      <th>0</th>\n",
       "      <td>Maruti Alto K10</td>\n",
       "      <td>51</td>\n",
       "      <td>Petrol</td>\n",
       "      <td>998</td>\n",
       "      <td>3</td>\n",
       "      <td>5.0</td>\n",
       "      <td>Automatic</td>\n",
       "      <td>27.0</td>\n",
       "      <td>Hatchback</td>\n",
       "      <td>4.5</td>\n",
       "      <td>399000</td>\n",
       "      <td>583000</td>\n",
       "      <td>89.0</td>\n",
       "      <td>3500</td>\n",
       "      <td>65.71</td>\n",
       "      <td>5500</td>\n",
       "    </tr>\n",
       "    <tr>\n",
       "      <th>1</th>\n",
       "      <td>Maruti Brezza</td>\n",
       "      <td>86</td>\n",
       "      <td>Petrol</td>\n",
       "      <td>1462</td>\n",
       "      <td>4</td>\n",
       "      <td>5.0</td>\n",
       "      <td>Automatic</td>\n",
       "      <td>48.0</td>\n",
       "      <td>SUV</td>\n",
       "      <td>4.5</td>\n",
       "      <td>799000</td>\n",
       "      <td>1396000</td>\n",
       "      <td>136.8</td>\n",
       "      <td>4400</td>\n",
       "      <td>101.65</td>\n",
       "      <td>6000</td>\n",
       "    </tr>\n",
       "    <tr>\n",
       "      <th>2</th>\n",
       "      <td>Mahindra Thar</td>\n",
       "      <td>242</td>\n",
       "      <td>Diesel</td>\n",
       "      <td>2184</td>\n",
       "      <td>4</td>\n",
       "      <td>4.0</td>\n",
       "      <td>Automatic</td>\n",
       "      <td>57.0</td>\n",
       "      <td>SUV</td>\n",
       "      <td>4.5</td>\n",
       "      <td>1353000</td>\n",
       "      <td>1603000</td>\n",
       "      <td>300.0</td>\n",
       "      <td>2800</td>\n",
       "      <td>130.00</td>\n",
       "      <td>3750</td>\n",
       "    </tr>\n",
       "    <tr>\n",
       "      <th>3</th>\n",
       "      <td>Mahindra XUV700</td>\n",
       "      <td>313</td>\n",
       "      <td>Diesel</td>\n",
       "      <td>2198</td>\n",
       "      <td>4</td>\n",
       "      <td>7.0</td>\n",
       "      <td>Automatic</td>\n",
       "      <td>60.0</td>\n",
       "      <td>SUV</td>\n",
       "      <td>4.5</td>\n",
       "      <td>1318000</td>\n",
       "      <td>2458000</td>\n",
       "      <td>450.0</td>\n",
       "      <td>2800</td>\n",
       "      <td>182.38</td>\n",
       "      <td>3500</td>\n",
       "    </tr>\n",
       "    <tr>\n",
       "      <th>4</th>\n",
       "      <td>Mahindra Scorpio-N</td>\n",
       "      <td>107</td>\n",
       "      <td>Diesel</td>\n",
       "      <td>2198</td>\n",
       "      <td>4</td>\n",
       "      <td>7.0</td>\n",
       "      <td>Automatic</td>\n",
       "      <td>57.0</td>\n",
       "      <td>SUV</td>\n",
       "      <td>4.5</td>\n",
       "      <td>1199000</td>\n",
       "      <td>2390000</td>\n",
       "      <td>400.0</td>\n",
       "      <td>2750</td>\n",
       "      <td>172.45</td>\n",
       "      <td>3500</td>\n",
       "    </tr>\n",
       "  </tbody>\n",
       "</table>\n",
       "</div>"
      ],
      "text/plain": [
       "             car_name  reviews_count fuel_type  engine_displacement  \\\n",
       "0     Maruti Alto K10             51    Petrol                  998   \n",
       "1       Maruti Brezza             86    Petrol                 1462   \n",
       "2       Mahindra Thar            242    Diesel                 2184   \n",
       "3     Mahindra XUV700            313    Diesel                 2198   \n",
       "4  Mahindra Scorpio-N            107    Diesel                 2198   \n",
       "\n",
       "   no_cylinder  seating_capacity transmission_type  fuel_tank_capacity  \\\n",
       "0            3               5.0         Automatic                27.0   \n",
       "1            4               5.0         Automatic                48.0   \n",
       "2            4               4.0         Automatic                57.0   \n",
       "3            4               7.0         Automatic                60.0   \n",
       "4            4               7.0         Automatic                57.0   \n",
       "\n",
       "   body_type  rating  starting_price  ending_price  max_torque_nm  \\\n",
       "0  Hatchback     4.5          399000        583000           89.0   \n",
       "1        SUV     4.5          799000       1396000          136.8   \n",
       "2        SUV     4.5         1353000       1603000          300.0   \n",
       "3        SUV     4.5         1318000       2458000          450.0   \n",
       "4        SUV     4.5         1199000       2390000          400.0   \n",
       "\n",
       "   max_torque_rpm  max_power_bhp  max_power_rp  \n",
       "0            3500          65.71          5500  \n",
       "1            4400         101.65          6000  \n",
       "2            2800         130.00          3750  \n",
       "3            2800         182.38          3500  \n",
       "4            2750         172.45          3500  "
      ]
     },
     "execution_count": 30,
     "metadata": {},
     "output_type": "execute_result"
    }
   ],
   "source": [
    "df.head(5)"
   ]
  },
  {
   "cell_type": "code",
   "execution_count": 71,
   "id": "44f70160",
   "metadata": {},
   "outputs": [],
   "source": [
    "import matplotlib.pyplot as plt\n",
    "import seaborn as sns"
   ]
  },
  {
   "cell_type": "code",
   "execution_count": 7,
   "id": "f15c81ab",
   "metadata": {},
   "outputs": [],
   "source": [
    "import warnings \n",
    "warnings.filterwarnings('ignore')"
   ]
  },
  {
   "cell_type": "code",
   "execution_count": 20,
   "id": "8a8ea307",
   "metadata": {
    "scrolled": false
   },
   "outputs": [
    {
     "data": {
      "image/png": "[encoded data removed]",
      "text/plain": [
       "<Figure size 864x576 with 12 Axes>"
      ]
     },
     "metadata": {
      "needs_background": "light"
     },
     "output_type": "display_data"
    }
   ],
   "source": [
    "plt.figure(figsize = (12,8),constrained_layout=True)\n",
    "subplot = 1\n",
    "for i in numeric_list :\n",
    "    plt.subplot(3,4,subplot)\n",
    "    sns.boxplot(df[i])\n",
    "    subplot += 1\n",
    "plt.show()"
   ]
  },
  {
   "cell_type": "code",
   "execution_count": 655,
   "id": "19b77a76",
   "metadata": {},
   "outputs": [],
   "source": [
    "numeric_list=[]\n",
    "categoical_list=[]\n",
    "for i in df.columns :\n",
    "  if df[i].dtypes == 'O' :\n",
    "    categoical_list.append(i)\n",
    "  else :\n",
    "    numeric_list.append(i)\n"
   ]
  },
  {
   "cell_type": "code",
   "execution_count": 22,
   "id": "8acb3278",
   "metadata": {},
   "outputs": [
    {
     "data": {
      "text/plain": [
       "(203, 16)"
      ]
     },
     "execution_count": 22,
     "metadata": {},
     "output_type": "execute_result"
    }
   ],
   "source": [
    "df.shape"
   ]
  },
  {
   "cell_type": "code",
   "execution_count": 24,
   "id": "f04e4dae",
   "metadata": {},
   "outputs": [
    {
     "data": {
      "text/plain": [
       "array(['Petrol', 'Diesel', 'CNG', 'Electric'], dtype=object)"
      ]
     },
     "execution_count": 24,
     "metadata": {},
     "output_type": "execute_result"
    }
   ],
   "source": [
    "df['fuel_type'].unique()"
   ]
  },
  {
   "cell_type": "code",
   "execution_count": 36,
   "id": "55f889bd",
   "metadata": {},
   "outputs": [
    {
     "data": {
      "text/plain": [
       "0                  Maruti Alto K10\n",
       "1                    Maruti Brezza\n",
       "2                    Mahindra Thar\n",
       "3                  Mahindra XUV700\n",
       "4               Mahindra Scorpio-N\n",
       "                  ...             \n",
       "198       Mercedes-Benz AMG A 45 S\n",
       "199    BMW 3 Series Gran Limousine\n",
       "200                 MG Hector Plus\n",
       "201                     Audi RS Q8\n",
       "202           Maruti Alto 800 tour\n",
       "Name: car_name, Length: 203, dtype: object"
      ]
     },
     "execution_count": 36,
     "metadata": {},
     "output_type": "execute_result"
    }
   ],
   "source": [
    "df['car_name']"
   ]
  },
  {
   "cell_type": "code",
   "execution_count": 56,
   "id": "eb2e034a",
   "metadata": {},
   "outputs": [
    {
     "data": {
      "text/plain": [
       "0             Maruti\n",
       "1             Maruti\n",
       "2           Mahindra\n",
       "3           Mahindra\n",
       "4           Mahindra\n",
       "           ...      \n",
       "198    Mercedes-Benz\n",
       "199              BMW\n",
       "200               MG\n",
       "201             Audi\n",
       "202           Maruti\n",
       "Name: car_name, Length: 203, dtype: object"
      ]
     },
     "execution_count": 56,
     "metadata": {},
     "output_type": "execute_result"
    }
   ],
   "source": [
    "df['car_name'].str.split(' ').str.get(0)"
   ]
  },
  {
   "cell_type": "code",
   "execution_count": 59,
   "id": "19000a10",
   "metadata": {
    "scrolled": true
   },
   "outputs": [
    {
     "data": {
      "text/html": [
       "<div>\n",
       "<style scoped>\n",
       "    .dataframe tbody tr th:only-of-type {\n",
       "        vertical-align: middle;\n",
       "    }\n",
       "\n",
       "    .dataframe tbody tr th {\n",
       "        vertical-align: top;\n",
       "    }\n",
       "\n",
       "    .dataframe thead th {\n",
       "        text-align: right;\n",
       "    }\n",
       "</style>\n",
       "<table border=\"1\" class=\"dataframe\">\n",
       "  <thead>\n",
       "    <tr style=\"text-align: right;\">\n",
       "      <th></th>\n",
       "      <th>car_name</th>\n",
       "      <th>reviews_count</th>\n",
       "      <th>fuel_type</th>\n",
       "      <th>engine_displacement</th>\n",
       "      <th>no_cylinder</th>\n",
       "      <th>seating_capacity</th>\n",
       "      <th>transmission_type</th>\n",
       "      <th>fuel_tank_capacity</th>\n",
       "      <th>body_type</th>\n",
       "      <th>rating</th>\n",
       "      <th>starting_price</th>\n",
       "      <th>ending_price</th>\n",
       "      <th>max_torque_nm</th>\n",
       "      <th>max_torque_rpm</th>\n",
       "      <th>max_power_bhp</th>\n",
       "      <th>max_power_rp</th>\n",
       "      <th>company</th>\n",
       "      <th>brand</th>\n",
       "    </tr>\n",
       "  </thead>\n",
       "  <tbody>\n",
       "    <tr>\n",
       "      <th>0</th>\n",
       "      <td>Maruti Alto K10</td>\n",
       "      <td>51</td>\n",
       "      <td>Petrol</td>\n",
       "      <td>998</td>\n",
       "      <td>3</td>\n",
       "      <td>5.0</td>\n",
       "      <td>Automatic</td>\n",
       "      <td>27.0</td>\n",
       "      <td>Hatchback</td>\n",
       "      <td>4.5</td>\n",
       "      <td>399000</td>\n",
       "      <td>583000</td>\n",
       "      <td>89.0</td>\n",
       "      <td>3500</td>\n",
       "      <td>65.71</td>\n",
       "      <td>5500</td>\n",
       "      <td>Maruti</td>\n",
       "      <td>Maruti</td>\n",
       "    </tr>\n",
       "    <tr>\n",
       "      <th>1</th>\n",
       "      <td>Maruti Brezza</td>\n",
       "      <td>86</td>\n",
       "      <td>Petrol</td>\n",
       "      <td>1462</td>\n",
       "      <td>4</td>\n",
       "      <td>5.0</td>\n",
       "      <td>Automatic</td>\n",
       "      <td>48.0</td>\n",
       "      <td>SUV</td>\n",
       "      <td>4.5</td>\n",
       "      <td>799000</td>\n",
       "      <td>1396000</td>\n",
       "      <td>136.8</td>\n",
       "      <td>4400</td>\n",
       "      <td>101.65</td>\n",
       "      <td>6000</td>\n",
       "      <td>Maruti</td>\n",
       "      <td>Maruti</td>\n",
       "    </tr>\n",
       "    <tr>\n",
       "      <th>2</th>\n",
       "      <td>Mahindra Thar</td>\n",
       "      <td>242</td>\n",
       "      <td>Diesel</td>\n",
       "      <td>2184</td>\n",
       "      <td>4</td>\n",
       "      <td>4.0</td>\n",
       "      <td>Automatic</td>\n",
       "      <td>57.0</td>\n",
       "      <td>SUV</td>\n",
       "      <td>4.5</td>\n",
       "      <td>1353000</td>\n",
       "      <td>1603000</td>\n",
       "      <td>300.0</td>\n",
       "      <td>2800</td>\n",
       "      <td>130.00</td>\n",
       "      <td>3750</td>\n",
       "      <td>Mahindra</td>\n",
       "      <td>Mahindra</td>\n",
       "    </tr>\n",
       "    <tr>\n",
       "      <th>3</th>\n",
       "      <td>Mahindra XUV700</td>\n",
       "      <td>313</td>\n",
       "      <td>Diesel</td>\n",
       "      <td>2198</td>\n",
       "      <td>4</td>\n",
       "      <td>7.0</td>\n",
       "      <td>Automatic</td>\n",
       "      <td>60.0</td>\n",
       "      <td>SUV</td>\n",
       "      <td>4.5</td>\n",
       "      <td>1318000</td>\n",
       "      <td>2458000</td>\n",
       "      <td>450.0</td>\n",
       "      <td>2800</td>\n",
       "      <td>182.38</td>\n",
       "      <td>3500</td>\n",
       "      <td>Mahindra</td>\n",
       "      <td>Mahindra</td>\n",
       "    </tr>\n",
       "    <tr>\n",
       "      <th>4</th>\n",
       "      <td>Mahindra Scorpio-N</td>\n",
       "      <td>107</td>\n",
       "      <td>Diesel</td>\n",
       "      <td>2198</td>\n",
       "      <td>4</td>\n",
       "      <td>7.0</td>\n",
       "      <td>Automatic</td>\n",
       "      <td>57.0</td>\n",
       "      <td>SUV</td>\n",
       "      <td>4.5</td>\n",
       "      <td>1199000</td>\n",
       "      <td>2390000</td>\n",
       "      <td>400.0</td>\n",
       "      <td>2750</td>\n",
       "      <td>172.45</td>\n",
       "      <td>3500</td>\n",
       "      <td>Mahindra</td>\n",
       "      <td>Mahindra</td>\n",
       "    </tr>\n",
       "  </tbody>\n",
       "</table>\n",
       "</div>"
      ],
      "text/plain": [
       "             car_name  reviews_count fuel_type  engine_displacement  \\\n",
       "0     Maruti Alto K10             51    Petrol                  998   \n",
       "1       Maruti Brezza             86    Petrol                 1462   \n",
       "2       Mahindra Thar            242    Diesel                 2184   \n",
       "3     Mahindra XUV700            313    Diesel                 2198   \n",
       "4  Mahindra Scorpio-N            107    Diesel                 2198   \n",
       "\n",
       "   no_cylinder  seating_capacity transmission_type  fuel_tank_capacity  \\\n",
       "0            3               5.0         Automatic                27.0   \n",
       "1            4               5.0         Automatic                48.0   \n",
       "2            4               4.0         Automatic                57.0   \n",
       "3            4               7.0         Automatic                60.0   \n",
       "4            4               7.0         Automatic                57.0   \n",
       "\n",
       "   body_type  rating  starting_price  ending_price  max_torque_nm  \\\n",
       "0  Hatchback     4.5          399000        583000           89.0   \n",
       "1        SUV     4.5          799000       1396000          136.8   \n",
       "2        SUV     4.5         1353000       1603000          300.0   \n",
       "3        SUV     4.5         1318000       2458000          450.0   \n",
       "4        SUV     4.5         1199000       2390000          400.0   \n",
       "\n",
       "   max_torque_rpm  max_power_bhp  max_power_rp   company     brand  \n",
       "0            3500          65.71          5500    Maruti    Maruti  \n",
       "1            4400         101.65          6000    Maruti    Maruti  \n",
       "2            2800         130.00          3750  Mahindra  Mahindra  \n",
       "3            2800         182.38          3500  Mahindra  Mahindra  \n",
       "4            2750         172.45          3500  Mahindra  Mahindra  "
      ]
     },
     "execution_count": 59,
     "metadata": {},
     "output_type": "execute_result"
    }
   ],
   "source": [
    "df['brand'] = df['car_name'].str.split(' ').str.get(0)\n",
    "df.head()"
   ]
  },
  {
   "cell_type": "code",
   "execution_count": 60,
   "id": "9b514c9a",
   "metadata": {},
   "outputs": [],
   "source": [
    "df = df.drop('company',axis=1)"
   ]
  },
  {
   "cell_type": "code",
   "execution_count": 68,
   "id": "35fae174",
   "metadata": {},
   "outputs": [],
   "source": [
    "df_kr = df[df['brand'].isin(['Hyundai','Kia'])]"
   ]
  },
  {
   "cell_type": "code",
   "execution_count": 66,
   "id": "cf3720c8",
   "metadata": {},
   "outputs": [],
   "source": [
    "df_n_kr = df[~df['brand'].isin(['Hyundai','Kia'])]"
   ]
  },
  {
   "cell_type": "code",
   "execution_count": 69,
   "id": "00d57123",
   "metadata": {},
   "outputs": [
    {
     "data": {
      "text/html": [
       "<div>\n",
       "<style scoped>\n",
       "    .dataframe tbody tr th:only-of-type {\n",
       "        vertical-align: middle;\n",
       "    }\n",
       "\n",
       "    .dataframe tbody tr th {\n",
       "        vertical-align: top;\n",
       "    }\n",
       "\n",
       "    .dataframe thead th {\n",
       "        text-align: right;\n",
       "    }\n",
       "</style>\n",
       "<table border=\"1\" class=\"dataframe\">\n",
       "  <thead>\n",
       "    <tr style=\"text-align: right;\">\n",
       "      <th></th>\n",
       "      <th>car_name</th>\n",
       "      <th>reviews_count</th>\n",
       "      <th>fuel_type</th>\n",
       "      <th>engine_displacement</th>\n",
       "      <th>no_cylinder</th>\n",
       "      <th>seating_capacity</th>\n",
       "      <th>transmission_type</th>\n",
       "      <th>fuel_tank_capacity</th>\n",
       "      <th>body_type</th>\n",
       "      <th>rating</th>\n",
       "      <th>starting_price</th>\n",
       "      <th>ending_price</th>\n",
       "      <th>max_torque_nm</th>\n",
       "      <th>max_torque_rpm</th>\n",
       "      <th>max_power_bhp</th>\n",
       "      <th>max_power_rp</th>\n",
       "      <th>brand</th>\n",
       "    </tr>\n",
       "  </thead>\n",
       "  <tbody>\n",
       "    <tr>\n",
       "      <th>6</th>\n",
       "      <td>Hyundai Creta</td>\n",
       "      <td>731</td>\n",
       "      <td>Diesel</td>\n",
       "      <td>1493</td>\n",
       "      <td>4</td>\n",
       "      <td>5.0</td>\n",
       "      <td>Automatic</td>\n",
       "      <td>50.0</td>\n",
       "      <td>SUV</td>\n",
       "      <td>4.5</td>\n",
       "      <td>1044000</td>\n",
       "      <td>1818000</td>\n",
       "      <td>250.0</td>\n",
       "      <td>2750</td>\n",
       "      <td>113.45</td>\n",
       "      <td>4000</td>\n",
       "      <td>Hyundai</td>\n",
       "    </tr>\n",
       "    <tr>\n",
       "      <th>11</th>\n",
       "      <td>Hyundai Venue</td>\n",
       "      <td>36</td>\n",
       "      <td>Petrol</td>\n",
       "      <td>998</td>\n",
       "      <td>3</td>\n",
       "      <td>5.0</td>\n",
       "      <td>Automatic</td>\n",
       "      <td>45.0</td>\n",
       "      <td>SUV</td>\n",
       "      <td>4.5</td>\n",
       "      <td>753000</td>\n",
       "      <td>1272000</td>\n",
       "      <td>172.0</td>\n",
       "      <td>4000</td>\n",
       "      <td>118.41</td>\n",
       "      <td>6000</td>\n",
       "      <td>Hyundai</td>\n",
       "    </tr>\n",
       "    <tr>\n",
       "      <th>12</th>\n",
       "      <td>Kia Seltos</td>\n",
       "      <td>2171</td>\n",
       "      <td>Diesel</td>\n",
       "      <td>1493</td>\n",
       "      <td>4</td>\n",
       "      <td>5.0</td>\n",
       "      <td>Automatic</td>\n",
       "      <td>50.0</td>\n",
       "      <td>SUV</td>\n",
       "      <td>4.5</td>\n",
       "      <td>1049000</td>\n",
       "      <td>1865000</td>\n",
       "      <td>250.0</td>\n",
       "      <td>2750</td>\n",
       "      <td>113.43</td>\n",
       "      <td>4000</td>\n",
       "      <td>Kia</td>\n",
       "    </tr>\n",
       "    <tr>\n",
       "      <th>13</th>\n",
       "      <td>Hyundai Tucson</td>\n",
       "      <td>8</td>\n",
       "      <td>Diesel</td>\n",
       "      <td>1997</td>\n",
       "      <td>4</td>\n",
       "      <td>5.0</td>\n",
       "      <td>Automatic</td>\n",
       "      <td>54.0</td>\n",
       "      <td>SUV</td>\n",
       "      <td>4.5</td>\n",
       "      <td>2770000</td>\n",
       "      <td>3454000</td>\n",
       "      <td>416.0</td>\n",
       "      <td>2750</td>\n",
       "      <td>183.72</td>\n",
       "      <td>4000</td>\n",
       "      <td>Hyundai</td>\n",
       "    </tr>\n",
       "    <tr>\n",
       "      <th>18</th>\n",
       "      <td>Kia Sonet</td>\n",
       "      <td>523</td>\n",
       "      <td>Diesel</td>\n",
       "      <td>1493</td>\n",
       "      <td>4</td>\n",
       "      <td>5.0</td>\n",
       "      <td>Automatic</td>\n",
       "      <td>45.0</td>\n",
       "      <td>SUV</td>\n",
       "      <td>4.0</td>\n",
       "      <td>749000</td>\n",
       "      <td>1379000</td>\n",
       "      <td>250.0</td>\n",
       "      <td>2750</td>\n",
       "      <td>113.43</td>\n",
       "      <td>4000</td>\n",
       "      <td>Kia</td>\n",
       "    </tr>\n",
       "  </tbody>\n",
       "</table>\n",
       "</div>"
      ],
      "text/plain": [
       "          car_name  reviews_count fuel_type  engine_displacement  no_cylinder  \\\n",
       "6    Hyundai Creta            731    Diesel                 1493            4   \n",
       "11   Hyundai Venue             36    Petrol                  998            3   \n",
       "12      Kia Seltos           2171    Diesel                 1493            4   \n",
       "13  Hyundai Tucson              8    Diesel                 1997            4   \n",
       "18       Kia Sonet            523    Diesel                 1493            4   \n",
       "\n",
       "    seating_capacity transmission_type  fuel_tank_capacity body_type  rating  \\\n",
       "6                5.0         Automatic                50.0       SUV     4.5   \n",
       "11               5.0         Automatic                45.0       SUV     4.5   \n",
       "12               5.0         Automatic                50.0       SUV     4.5   \n",
       "13               5.0         Automatic                54.0       SUV     4.5   \n",
       "18               5.0         Automatic                45.0       SUV     4.0   \n",
       "\n",
       "    starting_price  ending_price  max_torque_nm  max_torque_rpm  \\\n",
       "6          1044000       1818000          250.0            2750   \n",
       "11          753000       1272000          172.0            4000   \n",
       "12         1049000       1865000          250.0            2750   \n",
       "13         2770000       3454000          416.0            2750   \n",
       "18          749000       1379000          250.0            2750   \n",
       "\n",
       "    max_power_bhp  max_power_rp    brand  \n",
       "6          113.45          4000  Hyundai  \n",
       "11         118.41          6000  Hyundai  \n",
       "12         113.43          4000      Kia  \n",
       "13         183.72          4000  Hyundai  \n",
       "18         113.43          4000      Kia  "
      ]
     },
     "execution_count": 69,
     "metadata": {},
     "output_type": "execute_result"
    }
   ],
   "source": [
    "df_kr.head()"
   ]
  },
  {
   "cell_type": "code",
   "execution_count": 108,
   "id": "64eac82b",
   "metadata": {},
   "outputs": [
    {
     "data": {
      "text/plain": [
       "21.57473124974059"
      ]
     },
     "execution_count": 108,
     "metadata": {},
     "output_type": "execute_result"
    }
   ],
   "source": [
    "# 전체데이터중 국산차의 리뷰비율\n",
    "df_kr['reviews_count'].sum()/df['reviews_count'].sum()*100"
   ]
  },
  {
   "cell_type": "code",
   "execution_count": 109,
   "id": "e504e831",
   "metadata": {},
   "outputs": [
    {
     "data": {
      "text/plain": [
       "6.403940886699508"
      ]
     },
     "execution_count": 109,
     "metadata": {},
     "output_type": "execute_result"
    }
   ],
   "source": [
    "# 전체 데이터중 국산차의 비율\n",
    "len(df_kr)/len(df)*100"
   ]
  },
  {
   "cell_type": "code",
   "execution_count": 113,
   "id": "6e97684d",
   "metadata": {},
   "outputs": [
    {
     "data": {
      "text/html": [
       "<div>\n",
       "<style scoped>\n",
       "    .dataframe tbody tr th:only-of-type {\n",
       "        vertical-align: middle;\n",
       "    }\n",
       "\n",
       "    .dataframe tbody tr th {\n",
       "        vertical-align: top;\n",
       "    }\n",
       "\n",
       "    .dataframe thead th {\n",
       "        text-align: right;\n",
       "    }\n",
       "</style>\n",
       "<table border=\"1\" class=\"dataframe\">\n",
       "  <thead>\n",
       "    <tr style=\"text-align: right;\">\n",
       "      <th></th>\n",
       "      <th>fuel_type</th>\n",
       "      <th>counts</th>\n",
       "      <th>total</th>\n",
       "      <th>ratio</th>\n",
       "    </tr>\n",
       "  </thead>\n",
       "  <tbody>\n",
       "    <tr>\n",
       "      <th>0</th>\n",
       "      <td>Diesel</td>\n",
       "      <td>6</td>\n",
       "      <td>13</td>\n",
       "      <td>46.15</td>\n",
       "    </tr>\n",
       "    <tr>\n",
       "      <th>1</th>\n",
       "      <td>Petrol</td>\n",
       "      <td>3</td>\n",
       "      <td>13</td>\n",
       "      <td>23.08</td>\n",
       "    </tr>\n",
       "    <tr>\n",
       "      <th>2</th>\n",
       "      <td>Electric</td>\n",
       "      <td>2</td>\n",
       "      <td>13</td>\n",
       "      <td>15.38</td>\n",
       "    </tr>\n",
       "    <tr>\n",
       "      <th>3</th>\n",
       "      <td>CNG</td>\n",
       "      <td>2</td>\n",
       "      <td>13</td>\n",
       "      <td>15.38</td>\n",
       "    </tr>\n",
       "  </tbody>\n",
       "</table>\n",
       "</div>"
      ],
      "text/plain": [
       "  fuel_type  counts  total  ratio\n",
       "0    Diesel       6     13  46.15\n",
       "1    Petrol       3     13  23.08\n",
       "2  Electric       2     13  15.38\n",
       "3       CNG       2     13  15.38"
      ]
     },
     "execution_count": 113,
     "metadata": {},
     "output_type": "execute_result"
    }
   ],
   "source": [
    "#국산차의 연료타입별 생산비율 \n",
    "df_kr_ft = df_kr['fuel_type'].value_counts().reset_index()\n",
    "df_kr_ft.columns = ['fuel_type','counts']\n",
    "df_kr_ft['total'] = df_kr_ft['counts'].sum()\n",
    "df_kr_ft['ratio'] = round((df_kr_ft['counts']/df_kr_ft['total'])*100,2)\n",
    "df_kr_ft"
   ]
  },
  {
   "cell_type": "code",
   "execution_count": 114,
   "id": "dd7e99f0",
   "metadata": {},
   "outputs": [
    {
     "data": {
      "text/html": [
       "<div>\n",
       "<style scoped>\n",
       "    .dataframe tbody tr th:only-of-type {\n",
       "        vertical-align: middle;\n",
       "    }\n",
       "\n",
       "    .dataframe tbody tr th {\n",
       "        vertical-align: top;\n",
       "    }\n",
       "\n",
       "    .dataframe thead th {\n",
       "        text-align: right;\n",
       "    }\n",
       "</style>\n",
       "<table border=\"1\" class=\"dataframe\">\n",
       "  <thead>\n",
       "    <tr style=\"text-align: right;\">\n",
       "      <th></th>\n",
       "      <th>fuel_type</th>\n",
       "      <th>counts</th>\n",
       "      <th>total</th>\n",
       "      <th>ratio</th>\n",
       "    </tr>\n",
       "  </thead>\n",
       "  <tbody>\n",
       "    <tr>\n",
       "      <th>0</th>\n",
       "      <td>Petrol</td>\n",
       "      <td>125</td>\n",
       "      <td>203</td>\n",
       "      <td>61.58</td>\n",
       "    </tr>\n",
       "    <tr>\n",
       "      <th>1</th>\n",
       "      <td>Diesel</td>\n",
       "      <td>55</td>\n",
       "      <td>203</td>\n",
       "      <td>27.09</td>\n",
       "    </tr>\n",
       "    <tr>\n",
       "      <th>2</th>\n",
       "      <td>Electric</td>\n",
       "      <td>16</td>\n",
       "      <td>203</td>\n",
       "      <td>7.88</td>\n",
       "    </tr>\n",
       "    <tr>\n",
       "      <th>3</th>\n",
       "      <td>CNG</td>\n",
       "      <td>7</td>\n",
       "      <td>203</td>\n",
       "      <td>3.45</td>\n",
       "    </tr>\n",
       "  </tbody>\n",
       "</table>\n",
       "</div>"
      ],
      "text/plain": [
       "  fuel_type  counts  total  ratio\n",
       "0    Petrol     125    203  61.58\n",
       "1    Diesel      55    203  27.09\n",
       "2  Electric      16    203   7.88\n",
       "3       CNG       7    203   3.45"
      ]
     },
     "execution_count": 114,
     "metadata": {},
     "output_type": "execute_result"
    }
   ],
   "source": [
    "#차의 연료타입별 생산비율\n",
    "df_ft = df['fuel_type'].value_counts().reset_index()\n",
    "df_ft.columns = ['fuel_type','counts']\n",
    "df_ft['total'] = df_ft['counts'].sum()\n",
    "df_ft['ratio'] = round((df_ft['counts']/df_ft['total'])*100,2)\n",
    "df_ft"
   ]
  },
  {
   "cell_type": "code",
   "execution_count": 119,
   "id": "4539384e",
   "metadata": {},
   "outputs": [
    {
     "name": "stdout",
     "output_type": "stream",
     "text": [
      "998.0\n",
      "2849.8837209302324\n"
     ]
    }
   ],
   "source": [
    "# 엔진배기량 비교(engine_displacement) - 차종별로 구분\n",
    "# 국산차\n",
    "print(df_kr[(df_kr['body_type'] == 'SUV')&(df_kr['fuel_type'] == 'Petrol') ]['engine_displacement'].mean())\n",
    "# 해외차\n",
    "print(df[(df['body_type'] == 'SUV')&(df['fuel_type'] == 'Petrol')]['engine_displacement'].mean())"
   ]
  },
  {
   "cell_type": "code",
   "execution_count": 120,
   "id": "611e53b0",
   "metadata": {},
   "outputs": [
    {
     "name": "stdout",
     "output_type": "stream",
     "text": [
      "3.0\n",
      "5.5813953488372094\n"
     ]
    }
   ],
   "source": [
    "# 실린더 개수 비교(engine_displacement) - 차종별로 구분\n",
    "# 국산차\n",
    "print(df_kr[(df_kr['body_type'] == 'SUV')&(df_kr['fuel_type'] == 'Petrol') ]['no_cylinder'].mean())\n",
    "# 해외차\n",
    "print(df[(df['body_type'] == 'SUV')&(df['fuel_type'] == 'Petrol')]['no_cylinder'].mean())"
   ]
  },
  {
   "cell_type": "code",
   "execution_count": 121,
   "id": "602ebc3d",
   "metadata": {},
   "outputs": [
    {
     "name": "stdout",
     "output_type": "stream",
     "text": [
      "5.0\n",
      "5.27906976744186\n"
     ]
    }
   ],
   "source": [
    "# 실린더 개수 비교(engine_displacement) - 차종별로 구분\n",
    "# 국산차\n",
    "print(df_kr[(df_kr['body_type'] == 'SUV')&(df_kr['fuel_type'] == 'Petrol') ]['seating_capacity'].mean())\n",
    "# 해외차\n",
    "print(df[(df['body_type'] == 'SUV')&(df['fuel_type'] == 'Petrol')]['seating_capacity'].mean())"
   ]
  },
  {
   "cell_type": "code",
   "execution_count": 123,
   "id": "85c3a20b",
   "metadata": {},
   "outputs": [
    {
     "data": {
      "text/plain": [
       "<AxesSubplot:xlabel='reviews_count'>"
      ]
     },
     "execution_count": 123,
     "metadata": {},
     "output_type": "execute_result"
    },
    {
     "data": {
      "image/png": "[encoded data removed]",
      "text/plain": [
       "<Figure size 432x288 with 1 Axes>"
      ]
     },
     "metadata": {
      "needs_background": "light"
     },
     "output_type": "display_data"
    }
   ],
   "source": [
    "sns.boxplot(df['reviews_count'])"
   ]
  },
  {
   "cell_type": "code",
   "execution_count": 130,
   "id": "e5309dc4",
   "metadata": {},
   "outputs": [
    {
     "data": {
      "text/html": [
       "<div>\n",
       "<style scoped>\n",
       "    .dataframe tbody tr th:only-of-type {\n",
       "        vertical-align: middle;\n",
       "    }\n",
       "\n",
       "    .dataframe tbody tr th {\n",
       "        vertical-align: top;\n",
       "    }\n",
       "\n",
       "    .dataframe thead th {\n",
       "        text-align: right;\n",
       "    }\n",
       "</style>\n",
       "<table border=\"1\" class=\"dataframe\">\n",
       "  <thead>\n",
       "    <tr style=\"text-align: right;\">\n",
       "      <th></th>\n",
       "      <th>car_name</th>\n",
       "      <th>reviews_count</th>\n",
       "    </tr>\n",
       "  </thead>\n",
       "  <tbody>\n",
       "    <tr>\n",
       "      <th>14</th>\n",
       "      <td>Tata Harrier</td>\n",
       "      <td>2392</td>\n",
       "    </tr>\n",
       "    <tr>\n",
       "      <th>24</th>\n",
       "      <td>Mahindra XUV300</td>\n",
       "      <td>2245</td>\n",
       "    </tr>\n",
       "    <tr>\n",
       "      <th>12</th>\n",
       "      <td>Kia Seltos</td>\n",
       "      <td>2171</td>\n",
       "    </tr>\n",
       "    <tr>\n",
       "      <th>20</th>\n",
       "      <td>Honda City 4th Generation</td>\n",
       "      <td>1067</td>\n",
       "    </tr>\n",
       "    <tr>\n",
       "      <th>26</th>\n",
       "      <td>Tata Altroz</td>\n",
       "      <td>1025</td>\n",
       "    </tr>\n",
       "    <tr>\n",
       "      <th>43</th>\n",
       "      <td>Renault Triber</td>\n",
       "      <td>774</td>\n",
       "    </tr>\n",
       "    <tr>\n",
       "      <th>6</th>\n",
       "      <td>Hyundai Creta</td>\n",
       "      <td>731</td>\n",
       "    </tr>\n",
       "    <tr>\n",
       "      <th>57</th>\n",
       "      <td>Maruti Ciaz</td>\n",
       "      <td>666</td>\n",
       "    </tr>\n",
       "    <tr>\n",
       "      <th>10</th>\n",
       "      <td>Tata Nexon</td>\n",
       "      <td>568</td>\n",
       "    </tr>\n",
       "    <tr>\n",
       "      <th>33</th>\n",
       "      <td>Renault KWID</td>\n",
       "      <td>545</td>\n",
       "    </tr>\n",
       "  </tbody>\n",
       "</table>\n",
       "</div>"
      ],
      "text/plain": [
       "                     car_name  reviews_count\n",
       "14               Tata Harrier           2392\n",
       "24            Mahindra XUV300           2245\n",
       "12                 Kia Seltos           2171\n",
       "20  Honda City 4th Generation           1067\n",
       "26                Tata Altroz           1025\n",
       "43             Renault Triber            774\n",
       "6               Hyundai Creta            731\n",
       "57                Maruti Ciaz            666\n",
       "10                 Tata Nexon            568\n",
       "33               Renault KWID            545"
      ]
     },
     "execution_count": 130,
     "metadata": {},
     "output_type": "execute_result"
    }
   ],
   "source": [
    "df[['car_name','reviews_count']].sort_values(by = 'reviews_count',ascending = False).head(10)"
   ]
  },
  {
   "cell_type": "code",
   "execution_count": 131,
   "id": "77748a9a",
   "metadata": {},
   "outputs": [
    {
     "data": {
      "text/plain": [
       "<AxesSubplot:xlabel='engine_displacement'>"
      ]
     },
     "execution_count": 131,
     "metadata": {},
     "output_type": "execute_result"
    },
    {
     "data": {
      "image/png": "[encoded data removed]",
      "text/plain": [
       "<Figure size 432x288 with 1 Axes>"
      ]
     },
     "metadata": {
      "needs_background": "light"
     },
     "output_type": "display_data"
    }
   ],
   "source": [
    "sns.boxplot(df['engine_displacement'])"
   ]
  },
  {
   "cell_type": "code",
   "execution_count": 134,
   "id": "30dce8d2",
   "metadata": {},
   "outputs": [
    {
     "data": {
      "text/html": [
       "<div>\n",
       "<style scoped>\n",
       "    .dataframe tbody tr th:only-of-type {\n",
       "        vertical-align: middle;\n",
       "    }\n",
       "\n",
       "    .dataframe tbody tr th {\n",
       "        vertical-align: top;\n",
       "    }\n",
       "\n",
       "    .dataframe thead th {\n",
       "        text-align: right;\n",
       "    }\n",
       "</style>\n",
       "<table border=\"1\" class=\"dataframe\">\n",
       "  <thead>\n",
       "    <tr style=\"text-align: right;\">\n",
       "      <th></th>\n",
       "      <th>car_name</th>\n",
       "      <th>engine_displacement</th>\n",
       "    </tr>\n",
       "  </thead>\n",
       "  <tbody>\n",
       "    <tr>\n",
       "      <th>70</th>\n",
       "      <td>Rolls-Royce Ghost</td>\n",
       "      <td>6750</td>\n",
       "    </tr>\n",
       "    <tr>\n",
       "      <th>125</th>\n",
       "      <td>Rolls-Royce Cullinan</td>\n",
       "      <td>6750</td>\n",
       "    </tr>\n",
       "    <tr>\n",
       "      <th>175</th>\n",
       "      <td>Rolls Royce Dawn</td>\n",
       "      <td>6598</td>\n",
       "    </tr>\n",
       "    <tr>\n",
       "      <th>148</th>\n",
       "      <td>Rolls Royce Wraith</td>\n",
       "      <td>6592</td>\n",
       "    </tr>\n",
       "    <tr>\n",
       "      <th>65</th>\n",
       "      <td>Lamborghini Aventador</td>\n",
       "      <td>6498</td>\n",
       "    </tr>\n",
       "    <tr>\n",
       "      <th>140</th>\n",
       "      <td>Ferrari 812</td>\n",
       "      <td>6496</td>\n",
       "    </tr>\n",
       "    <tr>\n",
       "      <th>138</th>\n",
       "      <td>Bentley Continental</td>\n",
       "      <td>5998</td>\n",
       "    </tr>\n",
       "    <tr>\n",
       "      <th>134</th>\n",
       "      <td>Mercedes-Benz Maybach S-Class</td>\n",
       "      <td>5980</td>\n",
       "    </tr>\n",
       "    <tr>\n",
       "      <th>128</th>\n",
       "      <td>Bentley Flying Spur</td>\n",
       "      <td>5950</td>\n",
       "    </tr>\n",
       "    <tr>\n",
       "      <th>181</th>\n",
       "      <td>Lexus LX</td>\n",
       "      <td>5663</td>\n",
       "    </tr>\n",
       "  </tbody>\n",
       "</table>\n",
       "</div>"
      ],
      "text/plain": [
       "                          car_name  engine_displacement\n",
       "70               Rolls-Royce Ghost                 6750\n",
       "125           Rolls-Royce Cullinan                 6750\n",
       "175               Rolls Royce Dawn                 6598\n",
       "148             Rolls Royce Wraith                 6592\n",
       "65           Lamborghini Aventador                 6498\n",
       "140                    Ferrari 812                 6496\n",
       "138            Bentley Continental                 5998\n",
       "134  Mercedes-Benz Maybach S-Class                 5980\n",
       "128            Bentley Flying Spur                 5950\n",
       "181                       Lexus LX                 5663"
      ]
     },
     "execution_count": 134,
     "metadata": {},
     "output_type": "execute_result"
    }
   ],
   "source": [
    "df[['car_name','engine_displacement']].sort_values(by = 'engine_displacement',ascending = False).head(10)"
   ]
  },
  {
   "cell_type": "code",
   "execution_count": 141,
   "id": "2141c2cb",
   "metadata": {},
   "outputs": [],
   "source": [
    "df_kr_e =df_kr[df_kr['fuel_type'] != 'Electric']\n",
    "df_n_kr_e = df_n_kr[df_n_kr['fuel_type'] !='Electric']"
   ]
  },
  {
   "cell_type": "code",
   "execution_count": 154,
   "id": "e439b14c",
   "metadata": {},
   "outputs": [],
   "source": [
    "df_kf = pd.pivot_table(df_kr_e.groupby('fuel_type')['engine_displacement'].mean().reset_index(),\n",
    "              columns = 'fuel_type',\n",
    "              values = 'engine_displacement').set_axis(['korea'],axis = 'index')"
   ]
  },
  {
   "cell_type": "code",
   "execution_count": 155,
   "id": "e40d79cb",
   "metadata": {},
   "outputs": [],
   "source": [
    "df_of = pd.pivot_table(df_n_kr_e.groupby('fuel_type')['engine_displacement'].mean().reset_index(),\n",
    "              columns = 'fuel_type',\n",
    "              values = 'engine_displacement').set_axis(['Other countries'],axis = 'index')"
   ]
  },
  {
   "cell_type": "code",
   "execution_count": 174,
   "id": "3ec2ee5a",
   "metadata": {},
   "outputs": [],
   "source": [
    "df_kf.reset_index(drop = True,inplace = True)"
   ]
  },
  {
   "cell_type": "code",
   "execution_count": 167,
   "id": "456af8e9",
   "metadata": {},
   "outputs": [
    {
     "data": {
      "text/plain": [
       "fuel_type\n",
       "CNG        921.400000\n",
       "Diesel    2210.265306\n",
       "Petrol    2790.598361\n",
       "Name: Other countries, dtype: float64"
      ]
     },
     "execution_count": 167,
     "metadata": {},
     "output_type": "execute_result"
    }
   ],
   "source": [
    "df_of.iloc[0]"
   ]
  },
  {
   "cell_type": "code",
   "execution_count": 236,
   "id": "7b5c0c64",
   "metadata": {},
   "outputs": [
    {
     "data": {
      "text/plain": [
       "<AxesSubplot:>"
      ]
     },
     "execution_count": 236,
     "metadata": {},
     "output_type": "execute_result"
    },
    {
     "data": {
      "image/png": "[encoded data removed]",
      "text/plain": [
       "<Figure size 432x288 with 1 Axes>"
      ]
     },
     "metadata": {
      "needs_background": "light"
     },
     "output_type": "display_data"
    }
   ],
   "source": [
    "df_kf['CNG'].plot(kind = 'bar')"
   ]
  },
  {
   "cell_type": "code",
   "execution_count": 176,
   "id": "e1ccf80e",
   "metadata": {},
   "outputs": [],
   "source": [
    "df_kf.loc[len(df_kf)] = ['921.4','2210.265306','2790.598361']"
   ]
  },
  {
   "cell_type": "code",
   "execution_count": 199,
   "id": "97973fd2",
   "metadata": {},
   "outputs": [],
   "source": [
    "df_kf = df_kf.set_axis(['korea','Other countries'],axis = 'index')"
   ]
  },
  {
   "cell_type": "code",
   "execution_count": 193,
   "id": "e519bdfe",
   "metadata": {},
   "outputs": [],
   "source": [
    "df_kf = df_kf.astype(float)"
   ]
  },
  {
   "cell_type": "code",
   "execution_count": 274,
   "id": "eae0c533",
   "metadata": {},
   "outputs": [
    {
     "data": {
      "text/plain": [
       "Text(0.5, 0, 'CNG')"
      ]
     },
     "execution_count": 274,
     "metadata": {},
     "output_type": "execute_result"
    },
    {
     "data": {
      "image/png": "[encoded data removed]",
      "text/plain": [
       "<Figure size 432x288 with 1 Axes>"
      ]
     },
     "metadata": {
      "needs_background": "light"
     },
     "output_type": "display_data"
    }
   ],
   "source": [
    "sns.barplot(data = df_kf[['CNG']],x = df_kf['CNG'].index,y = df_kf['CNG'].values)\n",
    "plt.axhline(df.groupby('fuel_type')['engine_displacement'].mean()['CNG'],color = 'r',linewidth = 1)\n",
    "#plt.xlabel('CNG')"
   ]
  },
  {
   "cell_type": "code",
   "execution_count": 269,
   "id": "f61950a0",
   "metadata": {},
   "outputs": [
    {
     "data": {
      "text/plain": [
       "984.2857142857143"
      ]
     },
     "execution_count": 269,
     "metadata": {},
     "output_type": "execute_result"
    }
   ],
   "source": [
    "df.groupby('fuel_type')['engine_displacement'].mean()['CNG']"
   ]
  },
  {
   "cell_type": "code",
   "execution_count": 282,
   "id": "750072d9",
   "metadata": {},
   "outputs": [
    {
     "data": {
      "text/plain": [
       "array(['Automatic', 'Manual'], dtype=object)"
      ]
     },
     "execution_count": 282,
     "metadata": {},
     "output_type": "execute_result"
    }
   ],
   "source": [
    "df_kr_e['transmission_type'].unique()"
   ]
  },
  {
   "cell_type": "code",
   "execution_count": 280,
   "id": "ab5f3f72",
   "metadata": {},
   "outputs": [
    {
     "data": {
      "text/html": [
       "<div>\n",
       "<style scoped>\n",
       "    .dataframe tbody tr th:only-of-type {\n",
       "        vertical-align: middle;\n",
       "    }\n",
       "\n",
       "    .dataframe tbody tr th {\n",
       "        vertical-align: top;\n",
       "    }\n",
       "\n",
       "    .dataframe thead th {\n",
       "        text-align: right;\n",
       "    }\n",
       "</style>\n",
       "<table border=\"1\" class=\"dataframe\">\n",
       "  <thead>\n",
       "    <tr style=\"text-align: right;\">\n",
       "      <th></th>\n",
       "      <th>car_name</th>\n",
       "      <th>reviews_count</th>\n",
       "      <th>fuel_type</th>\n",
       "      <th>engine_displacement</th>\n",
       "      <th>no_cylinder</th>\n",
       "      <th>seating_capacity</th>\n",
       "      <th>transmission_type</th>\n",
       "      <th>fuel_tank_capacity</th>\n",
       "      <th>body_type</th>\n",
       "      <th>rating</th>\n",
       "      <th>starting_price</th>\n",
       "      <th>ending_price</th>\n",
       "      <th>max_torque_nm</th>\n",
       "      <th>max_torque_rpm</th>\n",
       "      <th>max_power_bhp</th>\n",
       "      <th>max_power_rp</th>\n",
       "      <th>brand</th>\n",
       "    </tr>\n",
       "  </thead>\n",
       "  <tbody>\n",
       "    <tr>\n",
       "      <th>6</th>\n",
       "      <td>Hyundai Creta</td>\n",
       "      <td>731</td>\n",
       "      <td>Diesel</td>\n",
       "      <td>1493</td>\n",
       "      <td>4</td>\n",
       "      <td>5.0</td>\n",
       "      <td>Automatic</td>\n",
       "      <td>50.0</td>\n",
       "      <td>SUV</td>\n",
       "      <td>4.5</td>\n",
       "      <td>1044000</td>\n",
       "      <td>1818000</td>\n",
       "      <td>250.0</td>\n",
       "      <td>2750</td>\n",
       "      <td>113.45</td>\n",
       "      <td>4000</td>\n",
       "      <td>Hyundai</td>\n",
       "    </tr>\n",
       "    <tr>\n",
       "      <th>11</th>\n",
       "      <td>Hyundai Venue</td>\n",
       "      <td>36</td>\n",
       "      <td>Petrol</td>\n",
       "      <td>998</td>\n",
       "      <td>3</td>\n",
       "      <td>5.0</td>\n",
       "      <td>Automatic</td>\n",
       "      <td>45.0</td>\n",
       "      <td>SUV</td>\n",
       "      <td>4.5</td>\n",
       "      <td>753000</td>\n",
       "      <td>1272000</td>\n",
       "      <td>172.0</td>\n",
       "      <td>4000</td>\n",
       "      <td>118.41</td>\n",
       "      <td>6000</td>\n",
       "      <td>Hyundai</td>\n",
       "    </tr>\n",
       "    <tr>\n",
       "      <th>12</th>\n",
       "      <td>Kia Seltos</td>\n",
       "      <td>2171</td>\n",
       "      <td>Diesel</td>\n",
       "      <td>1493</td>\n",
       "      <td>4</td>\n",
       "      <td>5.0</td>\n",
       "      <td>Automatic</td>\n",
       "      <td>50.0</td>\n",
       "      <td>SUV</td>\n",
       "      <td>4.5</td>\n",
       "      <td>1049000</td>\n",
       "      <td>1865000</td>\n",
       "      <td>250.0</td>\n",
       "      <td>2750</td>\n",
       "      <td>113.43</td>\n",
       "      <td>4000</td>\n",
       "      <td>Kia</td>\n",
       "    </tr>\n",
       "    <tr>\n",
       "      <th>13</th>\n",
       "      <td>Hyundai Tucson</td>\n",
       "      <td>8</td>\n",
       "      <td>Diesel</td>\n",
       "      <td>1997</td>\n",
       "      <td>4</td>\n",
       "      <td>5.0</td>\n",
       "      <td>Automatic</td>\n",
       "      <td>54.0</td>\n",
       "      <td>SUV</td>\n",
       "      <td>4.5</td>\n",
       "      <td>2770000</td>\n",
       "      <td>3454000</td>\n",
       "      <td>416.0</td>\n",
       "      <td>2750</td>\n",
       "      <td>183.72</td>\n",
       "      <td>4000</td>\n",
       "      <td>Hyundai</td>\n",
       "    </tr>\n",
       "    <tr>\n",
       "      <th>18</th>\n",
       "      <td>Kia Sonet</td>\n",
       "      <td>523</td>\n",
       "      <td>Diesel</td>\n",
       "      <td>1493</td>\n",
       "      <td>4</td>\n",
       "      <td>5.0</td>\n",
       "      <td>Automatic</td>\n",
       "      <td>45.0</td>\n",
       "      <td>SUV</td>\n",
       "      <td>4.0</td>\n",
       "      <td>749000</td>\n",
       "      <td>1379000</td>\n",
       "      <td>250.0</td>\n",
       "      <td>2750</td>\n",
       "      <td>113.43</td>\n",
       "      <td>4000</td>\n",
       "      <td>Kia</td>\n",
       "    </tr>\n",
       "  </tbody>\n",
       "</table>\n",
       "</div>"
      ],
      "text/plain": [
       "          car_name  reviews_count fuel_type  engine_displacement  no_cylinder  \\\n",
       "6    Hyundai Creta            731    Diesel                 1493            4   \n",
       "11   Hyundai Venue             36    Petrol                  998            3   \n",
       "12      Kia Seltos           2171    Diesel                 1493            4   \n",
       "13  Hyundai Tucson              8    Diesel                 1997            4   \n",
       "18       Kia Sonet            523    Diesel                 1493            4   \n",
       "\n",
       "    seating_capacity transmission_type  fuel_tank_capacity body_type  rating  \\\n",
       "6                5.0         Automatic                50.0       SUV     4.5   \n",
       "11               5.0         Automatic                45.0       SUV     4.5   \n",
       "12               5.0         Automatic                50.0       SUV     4.5   \n",
       "13               5.0         Automatic                54.0       SUV     4.5   \n",
       "18               5.0         Automatic                45.0       SUV     4.0   \n",
       "\n",
       "    starting_price  ending_price  max_torque_nm  max_torque_rpm  \\\n",
       "6          1044000       1818000          250.0            2750   \n",
       "11          753000       1272000          172.0            4000   \n",
       "12         1049000       1865000          250.0            2750   \n",
       "13         2770000       3454000          416.0            2750   \n",
       "18          749000       1379000          250.0            2750   \n",
       "\n",
       "    max_power_bhp  max_power_rp    brand  \n",
       "6          113.45          4000  Hyundai  \n",
       "11         118.41          6000  Hyundai  \n",
       "12         113.43          4000      Kia  \n",
       "13         183.72          4000  Hyundai  \n",
       "18         113.43          4000      Kia  "
      ]
     },
     "execution_count": 280,
     "metadata": {},
     "output_type": "execute_result"
    }
   ],
   "source": [
    "df_kr_e.head()"
   ]
  },
  {
   "cell_type": "code",
   "execution_count": 283,
   "id": "e73ced6d",
   "metadata": {
    "collapsed": true
   },
   "outputs": [
    {
     "ename": "NameError",
     "evalue": "name 'listNum' is not defined",
     "output_type": "error",
     "traceback": [
      "\u001b[1;31m---------------------------------------------------------------------------\u001b[0m",
      "\u001b[1;31mNameError\u001b[0m                                 Traceback (most recent call last)",
      "Input \u001b[1;32mIn [283]\u001b[0m, in \u001b[0;36m<cell line: 3>\u001b[1;34m()\u001b[0m\n\u001b[0;32m      1\u001b[0m plt\u001b[38;5;241m.\u001b[39mfigure(figsize \u001b[38;5;241m=\u001b[39m (\u001b[38;5;241m12\u001b[39m,\u001b[38;5;241m10\u001b[39m),constrained_layout\u001b[38;5;241m=\u001b[39m\u001b[38;5;28;01mTrue\u001b[39;00m)\n\u001b[0;32m      2\u001b[0m subplot \u001b[38;5;241m=\u001b[39m \u001b[38;5;241m1\u001b[39m\n\u001b[1;32m----> 3\u001b[0m \u001b[38;5;28;01mfor\u001b[39;00m i \u001b[38;5;129;01min\u001b[39;00m \u001b[43mlistNum\u001b[49m: \n\u001b[0;32m      4\u001b[0m     plt\u001b[38;5;241m.\u001b[39msubplot(\u001b[38;5;241m3\u001b[39m,\u001b[38;5;241m4\u001b[39m,subplot)\n\u001b[0;32m      5\u001b[0m     \u001b[38;5;66;03m#sns.histplot(data=df, x=i)\u001b[39;00m\n",
      "\u001b[1;31mNameError\u001b[0m: name 'listNum' is not defined"
     ]
    },
    {
     "data": {
      "text/plain": [
       "<Figure size 864x720 with 0 Axes>"
      ]
     },
     "metadata": {},
     "output_type": "display_data"
    }
   ],
   "source": [
    "plt.figure(figsize = (12,10),constrained_layout=True)\n",
    "subplot = 1\n",
    "for i in listNum: \n",
    "    plt.subplot(3,4,subplot)\n",
    "    sns.barplot(data = df.groupby(df['transmission_type'])[i].mean().reset_index(),\n",
    "           x = 'transmission_type',\n",
    "           y = i)\n",
    "    subplot = subplot +1\n",
    "    plt.ylabel('')\n",
    "plt.show()"
   ]
  },
  {
   "cell_type": "code",
   "execution_count": 287,
   "id": "f894e1e1",
   "metadata": {},
   "outputs": [
    {
     "data": {
      "text/plain": [
       "fuel_type  body_type\n",
       "CNG        Hatchback    1086.0\n",
       "           Sedan        1197.0\n",
       "Diesel     SUV          1593.8\n",
       "           Sedan        1493.0\n",
       "Petrol     Hatchback     998.0\n",
       "           SUV           998.0\n",
       "           Sedan         998.0\n",
       "Name: engine_displacement, dtype: float64"
      ]
     },
     "execution_count": 287,
     "metadata": {},
     "output_type": "execute_result"
    }
   ],
   "source": [
    "df_kr_e.groupby(['fuel_type','body_type'])['engine_displacement'].mean()"
   ]
  },
  {
   "cell_type": "code",
   "execution_count": 290,
   "id": "5757a8e4",
   "metadata": {},
   "outputs": [
    {
     "data": {
      "text/plain": [
       "['CNG', 'Diesel', 'Petrol']"
      ]
     },
     "execution_count": 290,
     "metadata": {},
     "output_type": "execute_result"
    }
   ],
   "source": [
    "df_kf.columns.tolist()"
   ]
  },
  {
   "cell_type": "code",
   "execution_count": 320,
   "id": "7bf1c786",
   "metadata": {},
   "outputs": [
    {
     "data": {
      "image/png": "[encoded data removed]",
      "text/plain": [
       "<Figure size 864x720 with 3 Axes>"
      ]
     },
     "metadata": {
      "needs_background": "light"
     },
     "output_type": "display_data"
    }
   ],
   "source": [
    "plt.figure(figsize = (12,10),constrained_layout=True)\n",
    "subplot = 1\n",
    "for i in df_kf.columns.tolist():\n",
    "    plt.subplot(1,3,subplot)\n",
    "    sns.barplot(data = df_kf[[i]],x = df_kf[i].index,y = df_kf[i].values)\n",
    "    plt.axhline(df.groupby('fuel_type')['engine_displacement'].mean()[i],color = 'r',linewidth = 1)\n",
    "    subplot +=1\n",
    "    plt.xlabel(i,fontsize= 25)\n",
    "#plt.ylabel('engine_displacement')\n",
    "plt.show()"
   ]
  },
  {
   "cell_type": "code",
   "execution_count": 324,
   "id": "21e5cc3d",
   "metadata": {},
   "outputs": [
    {
     "data": {
      "text/html": [
       "<div>\n",
       "<style scoped>\n",
       "    .dataframe tbody tr th:only-of-type {\n",
       "        vertical-align: middle;\n",
       "    }\n",
       "\n",
       "    .dataframe tbody tr th {\n",
       "        vertical-align: top;\n",
       "    }\n",
       "\n",
       "    .dataframe thead th {\n",
       "        text-align: right;\n",
       "    }\n",
       "</style>\n",
       "<table border=\"1\" class=\"dataframe\">\n",
       "  <thead>\n",
       "    <tr style=\"text-align: right;\">\n",
       "      <th></th>\n",
       "      <th>fuel_type</th>\n",
       "      <th>transmission_type</th>\n",
       "      <th>engine_displacement</th>\n",
       "    </tr>\n",
       "  </thead>\n",
       "  <tbody>\n",
       "    <tr>\n",
       "      <th>0</th>\n",
       "      <td>CNG</td>\n",
       "      <td>Manual</td>\n",
       "      <td>1141.5</td>\n",
       "    </tr>\n",
       "    <tr>\n",
       "      <th>1</th>\n",
       "      <td>Diesel</td>\n",
       "      <td>Automatic</td>\n",
       "      <td>1577.0</td>\n",
       "    </tr>\n",
       "    <tr>\n",
       "      <th>2</th>\n",
       "      <td>Petrol</td>\n",
       "      <td>Automatic</td>\n",
       "      <td>998.0</td>\n",
       "    </tr>\n",
       "    <tr>\n",
       "      <th>3</th>\n",
       "      <td>Petrol</td>\n",
       "      <td>Manual</td>\n",
       "      <td>998.0</td>\n",
       "    </tr>\n",
       "  </tbody>\n",
       "</table>\n",
       "</div>"
      ],
      "text/plain": [
       "  fuel_type transmission_type  engine_displacement\n",
       "0       CNG            Manual               1141.5\n",
       "1    Diesel         Automatic               1577.0\n",
       "2    Petrol         Automatic                998.0\n",
       "3    Petrol            Manual                998.0"
      ]
     },
     "execution_count": 324,
     "metadata": {},
     "output_type": "execute_result"
    }
   ],
   "source": [
    "df_kr_ft = df_kr_e.groupby(['fuel_type','transmission_type'])['engine_displacement'].mean().reset_index()\n",
    "df_kr_ft"
   ]
  },
  {
   "cell_type": "code",
   "execution_count": 323,
   "id": "99c05791",
   "metadata": {},
   "outputs": [
    {
     "data": {
      "text/html": [
       "<div>\n",
       "<style scoped>\n",
       "    .dataframe tbody tr th:only-of-type {\n",
       "        vertical-align: middle;\n",
       "    }\n",
       "\n",
       "    .dataframe tbody tr th {\n",
       "        vertical-align: top;\n",
       "    }\n",
       "\n",
       "    .dataframe thead th {\n",
       "        text-align: right;\n",
       "    }\n",
       "</style>\n",
       "<table border=\"1\" class=\"dataframe\">\n",
       "  <thead>\n",
       "    <tr style=\"text-align: right;\">\n",
       "      <th></th>\n",
       "      <th>fuel_type</th>\n",
       "      <th>transmission_type</th>\n",
       "      <th>engine_displacement</th>\n",
       "    </tr>\n",
       "  </thead>\n",
       "  <tbody>\n",
       "    <tr>\n",
       "      <th>0</th>\n",
       "      <td>CNG</td>\n",
       "      <td>Manual</td>\n",
       "      <td>921.400000</td>\n",
       "    </tr>\n",
       "    <tr>\n",
       "      <th>1</th>\n",
       "      <td>Diesel</td>\n",
       "      <td>Automatic</td>\n",
       "      <td>2318.142857</td>\n",
       "    </tr>\n",
       "    <tr>\n",
       "      <th>2</th>\n",
       "      <td>Diesel</td>\n",
       "      <td>Manual</td>\n",
       "      <td>1940.571429</td>\n",
       "    </tr>\n",
       "    <tr>\n",
       "      <th>3</th>\n",
       "      <td>Petrol</td>\n",
       "      <td>Automatic</td>\n",
       "      <td>2857.260870</td>\n",
       "    </tr>\n",
       "    <tr>\n",
       "      <th>4</th>\n",
       "      <td>Petrol</td>\n",
       "      <td>Manual</td>\n",
       "      <td>1695.428571</td>\n",
       "    </tr>\n",
       "  </tbody>\n",
       "</table>\n",
       "</div>"
      ],
      "text/plain": [
       "  fuel_type transmission_type  engine_displacement\n",
       "0       CNG            Manual           921.400000\n",
       "1    Diesel         Automatic          2318.142857\n",
       "2    Diesel            Manual          1940.571429\n",
       "3    Petrol         Automatic          2857.260870\n",
       "4    Petrol            Manual          1695.428571"
      ]
     },
     "execution_count": 323,
     "metadata": {},
     "output_type": "execute_result"
    }
   ],
   "source": [
    "df_n_kr_ft = df_n_kr_e.groupby(['fuel_type','transmission_type'])['engine_displacement'].mean().reset_index()\n",
    "df_n_kr_ft"
   ]
  },
  {
   "cell_type": "code",
   "execution_count": 311,
   "id": "d896f5c2",
   "metadata": {},
   "outputs": [
    {
     "data": {
      "text/plain": [
       "1141.5"
      ]
     },
     "execution_count": 311,
     "metadata": {},
     "output_type": "execute_result"
    }
   ],
   "source": [
    "df_kr_e[(df_kr_e['fuel_type']=='CNG')&(df_kr_e['transmission_type'] =='Manual')]['engine_displacement'].mean()"
   ]
  },
  {
   "cell_type": "code",
   "execution_count": 304,
   "id": "cb10ef2e",
   "metadata": {},
   "outputs": [
    {
     "data": {
      "text/html": [
       "<div>\n",
       "<style scoped>\n",
       "    .dataframe tbody tr th:only-of-type {\n",
       "        vertical-align: middle;\n",
       "    }\n",
       "\n",
       "    .dataframe tbody tr th {\n",
       "        vertical-align: top;\n",
       "    }\n",
       "\n",
       "    .dataframe thead th {\n",
       "        text-align: right;\n",
       "    }\n",
       "</style>\n",
       "<table border=\"1\" class=\"dataframe\">\n",
       "  <thead>\n",
       "    <tr style=\"text-align: right;\">\n",
       "      <th></th>\n",
       "      <th>car_name</th>\n",
       "      <th>reviews_count</th>\n",
       "      <th>fuel_type</th>\n",
       "      <th>engine_displacement</th>\n",
       "      <th>no_cylinder</th>\n",
       "      <th>seating_capacity</th>\n",
       "      <th>transmission_type</th>\n",
       "      <th>fuel_tank_capacity</th>\n",
       "      <th>body_type</th>\n",
       "      <th>rating</th>\n",
       "      <th>starting_price</th>\n",
       "      <th>ending_price</th>\n",
       "      <th>max_torque_nm</th>\n",
       "      <th>max_torque_rpm</th>\n",
       "      <th>max_power_bhp</th>\n",
       "      <th>max_power_rp</th>\n",
       "      <th>brand</th>\n",
       "    </tr>\n",
       "  </thead>\n",
       "  <tbody>\n",
       "    <tr>\n",
       "      <th>22</th>\n",
       "      <td>Tata Tiago</td>\n",
       "      <td>435</td>\n",
       "      <td>CNG</td>\n",
       "      <td>1199</td>\n",
       "      <td>3</td>\n",
       "      <td>5.0</td>\n",
       "      <td>Manual</td>\n",
       "      <td>60.0</td>\n",
       "      <td>Hatchback</td>\n",
       "      <td>4.5</td>\n",
       "      <td>540000</td>\n",
       "      <td>782000</td>\n",
       "      <td>95.0</td>\n",
       "      <td>3500</td>\n",
       "      <td>72.00</td>\n",
       "      <td>6000</td>\n",
       "      <td>Tata</td>\n",
       "    </tr>\n",
       "    <tr>\n",
       "      <th>35</th>\n",
       "      <td>Maruti Alto 800</td>\n",
       "      <td>437</td>\n",
       "      <td>CNG</td>\n",
       "      <td>796</td>\n",
       "      <td>3</td>\n",
       "      <td>5.0</td>\n",
       "      <td>Manual</td>\n",
       "      <td>60.0</td>\n",
       "      <td>Hatchback</td>\n",
       "      <td>4.5</td>\n",
       "      <td>339000</td>\n",
       "      <td>503000</td>\n",
       "      <td>60.0</td>\n",
       "      <td>3500</td>\n",
       "      <td>40.36</td>\n",
       "      <td>6000</td>\n",
       "      <td>Maruti</td>\n",
       "    </tr>\n",
       "    <tr>\n",
       "      <th>37</th>\n",
       "      <td>Tata Tigor</td>\n",
       "      <td>136</td>\n",
       "      <td>CNG</td>\n",
       "      <td>1199</td>\n",
       "      <td>3</td>\n",
       "      <td>5.0</td>\n",
       "      <td>Manual</td>\n",
       "      <td>60.0</td>\n",
       "      <td>Sedan</td>\n",
       "      <td>4.5</td>\n",
       "      <td>600000</td>\n",
       "      <td>859000</td>\n",
       "      <td>95.0</td>\n",
       "      <td>3500</td>\n",
       "      <td>72.40</td>\n",
       "      <td>6000</td>\n",
       "      <td>Tata</td>\n",
       "    </tr>\n",
       "    <tr>\n",
       "      <th>91</th>\n",
       "      <td>Bajaj Qute (RE60)</td>\n",
       "      <td>43</td>\n",
       "      <td>CNG</td>\n",
       "      <td>216</td>\n",
       "      <td>1</td>\n",
       "      <td>4.0</td>\n",
       "      <td>Manual</td>\n",
       "      <td>35.0</td>\n",
       "      <td>Hatchback</td>\n",
       "      <td>4.0</td>\n",
       "      <td>361000</td>\n",
       "      <td>361000</td>\n",
       "      <td>16.1</td>\n",
       "      <td>4000</td>\n",
       "      <td>10.80</td>\n",
       "      <td>5500</td>\n",
       "      <td>Bajaj</td>\n",
       "    </tr>\n",
       "    <tr>\n",
       "      <th>188</th>\n",
       "      <td>Maruti Swift Dzire Tour</td>\n",
       "      <td>1</td>\n",
       "      <td>CNG</td>\n",
       "      <td>1197</td>\n",
       "      <td>4</td>\n",
       "      <td>5.0</td>\n",
       "      <td>Manual</td>\n",
       "      <td>55.0</td>\n",
       "      <td>Sedan</td>\n",
       "      <td>4.5</td>\n",
       "      <td>13500000</td>\n",
       "      <td>25700000</td>\n",
       "      <td>95.0</td>\n",
       "      <td>4000</td>\n",
       "      <td>70.40</td>\n",
       "      <td>6000</td>\n",
       "      <td>Maruti</td>\n",
       "    </tr>\n",
       "  </tbody>\n",
       "</table>\n",
       "</div>"
      ],
      "text/plain": [
       "                    car_name  reviews_count fuel_type  engine_displacement  \\\n",
       "22                Tata Tiago            435       CNG                 1199   \n",
       "35           Maruti Alto 800            437       CNG                  796   \n",
       "37                Tata Tigor            136       CNG                 1199   \n",
       "91         Bajaj Qute (RE60)             43       CNG                  216   \n",
       "188  Maruti Swift Dzire Tour              1       CNG                 1197   \n",
       "\n",
       "     no_cylinder  seating_capacity transmission_type  fuel_tank_capacity  \\\n",
       "22             3               5.0            Manual                60.0   \n",
       "35             3               5.0            Manual                60.0   \n",
       "37             3               5.0            Manual                60.0   \n",
       "91             1               4.0            Manual                35.0   \n",
       "188            4               5.0            Manual                55.0   \n",
       "\n",
       "     body_type  rating  starting_price  ending_price  max_torque_nm  \\\n",
       "22   Hatchback     4.5          540000        782000           95.0   \n",
       "35   Hatchback     4.5          339000        503000           60.0   \n",
       "37       Sedan     4.5          600000        859000           95.0   \n",
       "91   Hatchback     4.0          361000        361000           16.1   \n",
       "188      Sedan     4.5        13500000      25700000           95.0   \n",
       "\n",
       "     max_torque_rpm  max_power_bhp  max_power_rp   brand  \n",
       "22             3500          72.00          6000    Tata  \n",
       "35             3500          40.36          6000  Maruti  \n",
       "37             3500          72.40          6000    Tata  \n",
       "91             4000          10.80          5500   Bajaj  \n",
       "188            4000          70.40          6000  Maruti  "
      ]
     },
     "execution_count": 304,
     "metadata": {},
     "output_type": "execute_result"
    }
   ],
   "source": [
    "df_n_kr_e[(df_n_kr_e['fuel_type']=='CNG')&(df_n_kr_e['transmission_type'] =='Manual')]['engine_displacement'].mean()"
   ]
  },
  {
   "cell_type": "code",
   "execution_count": 314,
   "id": "42bc15fa",
   "metadata": {
    "scrolled": true
   },
   "outputs": [
    {
     "data": {
      "text/plain": [
       "1141.5"
      ]
     },
     "execution_count": 314,
     "metadata": {},
     "output_type": "execute_result"
    }
   ],
   "source": [
    "df_kr_e[(df_kr_e['fuel_type']=='CNG')&(df_kr_e['transmission_type'] =='Manual')]['engine_displacement'].mean()"
   ]
  },
  {
   "cell_type": "code",
   "execution_count": 327,
   "id": "456b3113",
   "metadata": {},
   "outputs": [
    {
     "data": {
      "text/html": [
       "<div>\n",
       "<style scoped>\n",
       "    .dataframe tbody tr th:only-of-type {\n",
       "        vertical-align: middle;\n",
       "    }\n",
       "\n",
       "    .dataframe tbody tr th {\n",
       "        vertical-align: top;\n",
       "    }\n",
       "\n",
       "    .dataframe thead th {\n",
       "        text-align: right;\n",
       "    }\n",
       "</style>\n",
       "<table border=\"1\" class=\"dataframe\">\n",
       "  <thead>\n",
       "    <tr style=\"text-align: right;\">\n",
       "      <th></th>\n",
       "      <th>fuel_type</th>\n",
       "      <th>transmission_type</th>\n",
       "      <th>engine_displacement</th>\n",
       "    </tr>\n",
       "  </thead>\n",
       "  <tbody>\n",
       "    <tr>\n",
       "      <th>0</th>\n",
       "      <td>CNG</td>\n",
       "      <td>Manual</td>\n",
       "      <td>1141.5</td>\n",
       "    </tr>\n",
       "    <tr>\n",
       "      <th>1</th>\n",
       "      <td>Diesel</td>\n",
       "      <td>Automatic</td>\n",
       "      <td>1577.0</td>\n",
       "    </tr>\n",
       "    <tr>\n",
       "      <th>2</th>\n",
       "      <td>Petrol</td>\n",
       "      <td>Automatic</td>\n",
       "      <td>998.0</td>\n",
       "    </tr>\n",
       "    <tr>\n",
       "      <th>3</th>\n",
       "      <td>Petrol</td>\n",
       "      <td>Manual</td>\n",
       "      <td>998.0</td>\n",
       "    </tr>\n",
       "  </tbody>\n",
       "</table>\n",
       "</div>"
      ],
      "text/plain": [
       "  fuel_type transmission_type  engine_displacement\n",
       "0       CNG            Manual               1141.5\n",
       "1    Diesel         Automatic               1577.0\n",
       "2    Petrol         Automatic                998.0\n",
       "3    Petrol            Manual                998.0"
      ]
     },
     "execution_count": 327,
     "metadata": {},
     "output_type": "execute_result"
    }
   ],
   "source": [
    "df_kr_ft"
   ]
  },
  {
   "cell_type": "code",
   "execution_count": 338,
   "id": "50b08c40",
   "metadata": {},
   "outputs": [
    {
     "data": {
      "text/html": [
       "<div>\n",
       "<style scoped>\n",
       "    .dataframe tbody tr th:only-of-type {\n",
       "        vertical-align: middle;\n",
       "    }\n",
       "\n",
       "    .dataframe tbody tr th {\n",
       "        vertical-align: top;\n",
       "    }\n",
       "\n",
       "    .dataframe thead th {\n",
       "        text-align: right;\n",
       "    }\n",
       "</style>\n",
       "<table border=\"1\" class=\"dataframe\">\n",
       "  <thead>\n",
       "    <tr style=\"text-align: right;\">\n",
       "      <th>transmission_type</th>\n",
       "      <th>Manual</th>\n",
       "    </tr>\n",
       "    <tr>\n",
       "      <th>fuel_type</th>\n",
       "      <th></th>\n",
       "    </tr>\n",
       "  </thead>\n",
       "  <tbody>\n",
       "    <tr>\n",
       "      <th>CNG</th>\n",
       "      <td>1141.5</td>\n",
       "    </tr>\n",
       "  </tbody>\n",
       "</table>\n",
       "</div>"
      ],
      "text/plain": [
       "transmission_type  Manual\n",
       "fuel_type                \n",
       "CNG                1141.5"
      ]
     },
     "execution_count": 338,
     "metadata": {},
     "output_type": "execute_result"
    }
   ],
   "source": [
    "df_fte = pd.pivot_table(df_kr_ft[(df_kr_ft['fuel_type']=='CNG')&(df_kr_ft['transmission_type']=='Manual')],\n",
    "              index = 'fuel_type',\n",
    "              columns= 'transmission_type',\n",
    "              values ='engine_displacement')\n",
    "\n",
    "df_fte"
   ]
  },
  {
   "cell_type": "code",
   "execution_count": 334,
   "id": "067ff4b9",
   "metadata": {},
   "outputs": [
    {
     "data": {
      "text/html": [
       "<div>\n",
       "<style scoped>\n",
       "    .dataframe tbody tr th:only-of-type {\n",
       "        vertical-align: middle;\n",
       "    }\n",
       "\n",
       "    .dataframe tbody tr th {\n",
       "        vertical-align: top;\n",
       "    }\n",
       "\n",
       "    .dataframe thead th {\n",
       "        text-align: right;\n",
       "    }\n",
       "</style>\n",
       "<table border=\"1\" class=\"dataframe\">\n",
       "  <thead>\n",
       "    <tr style=\"text-align: right;\">\n",
       "      <th>transmission_type</th>\n",
       "      <th>Manual</th>\n",
       "    </tr>\n",
       "    <tr>\n",
       "      <th>fuel_type</th>\n",
       "      <th></th>\n",
       "    </tr>\n",
       "  </thead>\n",
       "  <tbody>\n",
       "    <tr>\n",
       "      <th>CNG</th>\n",
       "      <td>921.4</td>\n",
       "    </tr>\n",
       "  </tbody>\n",
       "</table>\n",
       "</div>"
      ],
      "text/plain": [
       "transmission_type  Manual\n",
       "fuel_type                \n",
       "CNG                 921.4"
      ]
     },
     "execution_count": 334,
     "metadata": {},
     "output_type": "execute_result"
    }
   ],
   "source": [
    "pd.pivot_table(df_n_kr_ft[(df_n_kr_ft['fuel_type']=='CNG')&(df_n_kr_ft['transmission_type']=='Manual')],\n",
    "              index = 'fuel_type',\n",
    "              columns= 'transmission_type',\n",
    "              values ='engine_displacement')\n",
    "\n"
   ]
  },
  {
   "cell_type": "code",
   "execution_count": 339,
   "id": "40d29527",
   "metadata": {},
   "outputs": [],
   "source": [
    "df_fte.loc[len(df_fte)] = ['921.4']"
   ]
  },
  {
   "cell_type": "code",
   "execution_count": 340,
   "id": "569f57b9",
   "metadata": {},
   "outputs": [
    {
     "data": {
      "text/html": [
       "<div>\n",
       "<style scoped>\n",
       "    .dataframe tbody tr th:only-of-type {\n",
       "        vertical-align: middle;\n",
       "    }\n",
       "\n",
       "    .dataframe tbody tr th {\n",
       "        vertical-align: top;\n",
       "    }\n",
       "\n",
       "    .dataframe thead th {\n",
       "        text-align: right;\n",
       "    }\n",
       "</style>\n",
       "<table border=\"1\" class=\"dataframe\">\n",
       "  <thead>\n",
       "    <tr style=\"text-align: right;\">\n",
       "      <th>transmission_type</th>\n",
       "      <th>Manual</th>\n",
       "    </tr>\n",
       "    <tr>\n",
       "      <th>fuel_type</th>\n",
       "      <th></th>\n",
       "    </tr>\n",
       "  </thead>\n",
       "  <tbody>\n",
       "    <tr>\n",
       "      <th>CNG</th>\n",
       "      <td>1141.5</td>\n",
       "    </tr>\n",
       "    <tr>\n",
       "      <th>1</th>\n",
       "      <td>921.4</td>\n",
       "    </tr>\n",
       "  </tbody>\n",
       "</table>\n",
       "</div>"
      ],
      "text/plain": [
       "transmission_type  Manual\n",
       "fuel_type                \n",
       "CNG                1141.5\n",
       "1                   921.4"
      ]
     },
     "execution_count": 340,
     "metadata": {},
     "output_type": "execute_result"
    }
   ],
   "source": [
    "df_fte"
   ]
  },
  {
   "cell_type": "code",
   "execution_count": 341,
   "id": "606db156",
   "metadata": {},
   "outputs": [
    {
     "data": {
      "text/html": [
       "<div>\n",
       "<style scoped>\n",
       "    .dataframe tbody tr th:only-of-type {\n",
       "        vertical-align: middle;\n",
       "    }\n",
       "\n",
       "    .dataframe tbody tr th {\n",
       "        vertical-align: top;\n",
       "    }\n",
       "\n",
       "    .dataframe thead th {\n",
       "        text-align: right;\n",
       "    }\n",
       "</style>\n",
       "<table border=\"1\" class=\"dataframe\">\n",
       "  <thead>\n",
       "    <tr style=\"text-align: right;\">\n",
       "      <th></th>\n",
       "      <th>fuel_type</th>\n",
       "      <th>transmission_type</th>\n",
       "      <th>engine_displacement</th>\n",
       "    </tr>\n",
       "  </thead>\n",
       "  <tbody>\n",
       "    <tr>\n",
       "      <th>0</th>\n",
       "      <td>CNG</td>\n",
       "      <td>Manual</td>\n",
       "      <td>921.400000</td>\n",
       "    </tr>\n",
       "    <tr>\n",
       "      <th>1</th>\n",
       "      <td>Diesel</td>\n",
       "      <td>Automatic</td>\n",
       "      <td>2318.142857</td>\n",
       "    </tr>\n",
       "    <tr>\n",
       "      <th>2</th>\n",
       "      <td>Diesel</td>\n",
       "      <td>Manual</td>\n",
       "      <td>1940.571429</td>\n",
       "    </tr>\n",
       "    <tr>\n",
       "      <th>3</th>\n",
       "      <td>Petrol</td>\n",
       "      <td>Automatic</td>\n",
       "      <td>2857.260870</td>\n",
       "    </tr>\n",
       "    <tr>\n",
       "      <th>4</th>\n",
       "      <td>Petrol</td>\n",
       "      <td>Manual</td>\n",
       "      <td>1695.428571</td>\n",
       "    </tr>\n",
       "  </tbody>\n",
       "</table>\n",
       "</div>"
      ],
      "text/plain": [
       "  fuel_type transmission_type  engine_displacement\n",
       "0       CNG            Manual           921.400000\n",
       "1    Diesel         Automatic          2318.142857\n",
       "2    Diesel            Manual          1940.571429\n",
       "3    Petrol         Automatic          2857.260870\n",
       "4    Petrol            Manual          1695.428571"
      ]
     },
     "execution_count": 341,
     "metadata": {},
     "output_type": "execute_result"
    }
   ],
   "source": [
    "df_n_kr_ft"
   ]
  },
  {
   "cell_type": "code",
   "execution_count": 372,
   "id": "1ecbaf1f",
   "metadata": {},
   "outputs": [
    {
     "data": {
      "text/html": [
       "<div>\n",
       "<style scoped>\n",
       "    .dataframe tbody tr th:only-of-type {\n",
       "        vertical-align: middle;\n",
       "    }\n",
       "\n",
       "    .dataframe tbody tr th {\n",
       "        vertical-align: top;\n",
       "    }\n",
       "\n",
       "    .dataframe thead th {\n",
       "        text-align: right;\n",
       "    }\n",
       "</style>\n",
       "<table border=\"1\" class=\"dataframe\">\n",
       "  <thead>\n",
       "    <tr style=\"text-align: right;\">\n",
       "      <th>transmission_type</th>\n",
       "      <th>Automatic</th>\n",
       "      <th>Manual</th>\n",
       "    </tr>\n",
       "    <tr>\n",
       "      <th>fuel_type</th>\n",
       "      <th></th>\n",
       "      <th></th>\n",
       "    </tr>\n",
       "  </thead>\n",
       "  <tbody>\n",
       "    <tr>\n",
       "      <th>CNG</th>\n",
       "      <td>0.000000</td>\n",
       "      <td>921.400000</td>\n",
       "    </tr>\n",
       "    <tr>\n",
       "      <th>Diesel</th>\n",
       "      <td>2318.142857</td>\n",
       "      <td>1940.571429</td>\n",
       "    </tr>\n",
       "    <tr>\n",
       "      <th>Petrol</th>\n",
       "      <td>2857.260870</td>\n",
       "      <td>1695.428571</td>\n",
       "    </tr>\n",
       "  </tbody>\n",
       "</table>\n",
       "</div>"
      ],
      "text/plain": [
       "transmission_type    Automatic       Manual\n",
       "fuel_type                                  \n",
       "CNG                   0.000000   921.400000\n",
       "Diesel             2318.142857  1940.571429\n",
       "Petrol             2857.260870  1695.428571"
      ]
     },
     "execution_count": 372,
     "metadata": {},
     "output_type": "execute_result"
    }
   ],
   "source": [
    "df_nkrft = pd.pivot_table(df_n_kr_ft,\n",
    "              index = 'fuel_type',\n",
    "              columns='transmission_type',\n",
    "              values = 'engine_displacement').fillna(0)\n",
    "df_nkrft"
   ]
  },
  {
   "cell_type": "code",
   "execution_count": 373,
   "id": "7c5e1d5d",
   "metadata": {},
   "outputs": [
    {
     "data": {
      "text/html": [
       "<div>\n",
       "<style scoped>\n",
       "    .dataframe tbody tr th:only-of-type {\n",
       "        vertical-align: middle;\n",
       "    }\n",
       "\n",
       "    .dataframe tbody tr th {\n",
       "        vertical-align: top;\n",
       "    }\n",
       "\n",
       "    .dataframe thead th {\n",
       "        text-align: right;\n",
       "    }\n",
       "</style>\n",
       "<table border=\"1\" class=\"dataframe\">\n",
       "  <thead>\n",
       "    <tr style=\"text-align: right;\">\n",
       "      <th>transmission_type</th>\n",
       "      <th>Automatic</th>\n",
       "      <th>Manual</th>\n",
       "    </tr>\n",
       "    <tr>\n",
       "      <th>fuel_type</th>\n",
       "      <th></th>\n",
       "      <th></th>\n",
       "    </tr>\n",
       "  </thead>\n",
       "  <tbody>\n",
       "    <tr>\n",
       "      <th>CNG</th>\n",
       "      <td>0.0</td>\n",
       "      <td>1141.5</td>\n",
       "    </tr>\n",
       "    <tr>\n",
       "      <th>Diesel</th>\n",
       "      <td>1577.0</td>\n",
       "      <td>0.0</td>\n",
       "    </tr>\n",
       "    <tr>\n",
       "      <th>Petrol</th>\n",
       "      <td>998.0</td>\n",
       "      <td>998.0</td>\n",
       "    </tr>\n",
       "  </tbody>\n",
       "</table>\n",
       "</div>"
      ],
      "text/plain": [
       "transmission_type  Automatic  Manual\n",
       "fuel_type                           \n",
       "CNG                      0.0  1141.5\n",
       "Diesel                1577.0     0.0\n",
       "Petrol                 998.0   998.0"
      ]
     },
     "execution_count": 373,
     "metadata": {},
     "output_type": "execute_result"
    }
   ],
   "source": [
    "df_krft = pd.pivot_table(df_kr_ft,\n",
    "              index = 'fuel_type',\n",
    "              columns='transmission_type',\n",
    "              values = 'engine_displacement').fillna(0)\n",
    "df_krft"
   ]
  },
  {
   "cell_type": "code",
   "execution_count": 386,
   "id": "35baafb5",
   "metadata": {},
   "outputs": [
    {
     "data": {
      "text/plain": [
       "['CNG', 'Diesel', 'Petrol']"
      ]
     },
     "execution_count": 386,
     "metadata": {},
     "output_type": "execute_result"
    }
   ],
   "source": [
    "df_f_a.index.tolist()"
   ]
  },
  {
   "cell_type": "code",
   "execution_count": 387,
   "id": "c4f1701e",
   "metadata": {},
   "outputs": [
    {
     "data": {
      "text/html": [
       "<div>\n",
       "<style scoped>\n",
       "    .dataframe tbody tr th:only-of-type {\n",
       "        vertical-align: middle;\n",
       "    }\n",
       "\n",
       "    .dataframe tbody tr th {\n",
       "        vertical-align: top;\n",
       "    }\n",
       "\n",
       "    .dataframe thead th {\n",
       "        text-align: right;\n",
       "    }\n",
       "</style>\n",
       "<table border=\"1\" class=\"dataframe\">\n",
       "  <thead>\n",
       "    <tr style=\"text-align: right;\">\n",
       "      <th></th>\n",
       "      <th>korea</th>\n",
       "      <th>Other countries</th>\n",
       "    </tr>\n",
       "    <tr>\n",
       "      <th>fuel_type</th>\n",
       "      <th></th>\n",
       "      <th></th>\n",
       "    </tr>\n",
       "  </thead>\n",
       "  <tbody>\n",
       "    <tr>\n",
       "      <th>CNG</th>\n",
       "      <td>0.0</td>\n",
       "      <td>0.000000</td>\n",
       "    </tr>\n",
       "    <tr>\n",
       "      <th>Diesel</th>\n",
       "      <td>1577.0</td>\n",
       "      <td>2318.142857</td>\n",
       "    </tr>\n",
       "    <tr>\n",
       "      <th>Petrol</th>\n",
       "      <td>998.0</td>\n",
       "      <td>2857.260870</td>\n",
       "    </tr>\n",
       "  </tbody>\n",
       "</table>\n",
       "</div>"
      ],
      "text/plain": [
       "            korea  Other countries\n",
       "fuel_type                         \n",
       "CNG           0.0         0.000000\n",
       "Diesel     1577.0      2318.142857\n",
       "Petrol      998.0      2857.260870"
      ]
     },
     "execution_count": 387,
     "metadata": {},
     "output_type": "execute_result"
    }
   ],
   "source": [
    "df_f_a"
   ]
  },
  {
   "cell_type": "code",
   "execution_count": 389,
   "id": "11efee11",
   "metadata": {},
   "outputs": [
    {
     "data": {
      "text/html": [
       "<div>\n",
       "<style scoped>\n",
       "    .dataframe tbody tr th:only-of-type {\n",
       "        vertical-align: middle;\n",
       "    }\n",
       "\n",
       "    .dataframe tbody tr th {\n",
       "        vertical-align: top;\n",
       "    }\n",
       "\n",
       "    .dataframe thead th {\n",
       "        text-align: right;\n",
       "    }\n",
       "</style>\n",
       "<table border=\"1\" class=\"dataframe\">\n",
       "  <thead>\n",
       "    <tr style=\"text-align: right;\">\n",
       "      <th></th>\n",
       "      <th>korea</th>\n",
       "      <th>Other countries</th>\n",
       "    </tr>\n",
       "    <tr>\n",
       "      <th>fuel_type</th>\n",
       "      <th></th>\n",
       "      <th></th>\n",
       "    </tr>\n",
       "  </thead>\n",
       "  <tbody>\n",
       "    <tr>\n",
       "      <th>CNG</th>\n",
       "      <td>0.0</td>\n",
       "      <td>0.0</td>\n",
       "    </tr>\n",
       "  </tbody>\n",
       "</table>\n",
       "</div>"
      ],
      "text/plain": [
       "           korea  Other countries\n",
       "fuel_type                        \n",
       "CNG          0.0              0.0"
      ]
     },
     "execution_count": 389,
     "metadata": {},
     "output_type": "execute_result"
    }
   ],
   "source": [
    "df_f_a[df_f_a.index == 'CNG']"
   ]
  },
  {
   "cell_type": "code",
   "execution_count": 552,
   "id": "ba8e9d49",
   "metadata": {},
   "outputs": [
    {
     "ename": "KeyError",
     "evalue": "'korea'",
     "output_type": "error",
     "traceback": [
      "\u001b[1;31m---------------------------------------------------------------------------\u001b[0m",
      "\u001b[1;31mKeyError\u001b[0m                                  Traceback (most recent call last)",
      "File \u001b[1;32m~\\anaconda3\\lib\\site-packages\\pandas\\core\\indexes\\base.py:3621\u001b[0m, in \u001b[0;36mIndex.get_loc\u001b[1;34m(self, key, method, tolerance)\u001b[0m\n\u001b[0;32m   3620\u001b[0m \u001b[38;5;28;01mtry\u001b[39;00m:\n\u001b[1;32m-> 3621\u001b[0m     \u001b[38;5;28;01mreturn\u001b[39;00m \u001b[38;5;28;43mself\u001b[39;49m\u001b[38;5;241;43m.\u001b[39;49m\u001b[43m_engine\u001b[49m\u001b[38;5;241;43m.\u001b[39;49m\u001b[43mget_loc\u001b[49m\u001b[43m(\u001b[49m\u001b[43mcasted_key\u001b[49m\u001b[43m)\u001b[49m\n\u001b[0;32m   3622\u001b[0m \u001b[38;5;28;01mexcept\u001b[39;00m \u001b[38;5;167;01mKeyError\u001b[39;00m \u001b[38;5;28;01mas\u001b[39;00m err:\n",
      "File \u001b[1;32m~\\anaconda3\\lib\\site-packages\\pandas\\_libs\\index.pyx:136\u001b[0m, in \u001b[0;36mpandas._libs.index.IndexEngine.get_loc\u001b[1;34m()\u001b[0m\n",
      "File \u001b[1;32m~\\anaconda3\\lib\\site-packages\\pandas\\_libs\\index.pyx:163\u001b[0m, in \u001b[0;36mpandas._libs.index.IndexEngine.get_loc\u001b[1;34m()\u001b[0m\n",
      "File \u001b[1;32mpandas\\_libs\\hashtable_class_helper.pxi:5198\u001b[0m, in \u001b[0;36mpandas._libs.hashtable.PyObjectHashTable.get_item\u001b[1;34m()\u001b[0m\n",
      "File \u001b[1;32mpandas\\_libs\\hashtable_class_helper.pxi:5206\u001b[0m, in \u001b[0;36mpandas._libs.hashtable.PyObjectHashTable.get_item\u001b[1;34m()\u001b[0m\n",
      "\u001b[1;31mKeyError\u001b[0m: 'korea'",
      "\nThe above exception was the direct cause of the following exception:\n",
      "\u001b[1;31mKeyError\u001b[0m                                  Traceback (most recent call last)",
      "Input \u001b[1;32mIn [552]\u001b[0m, in \u001b[0;36m<cell line: 3>\u001b[1;34m()\u001b[0m\n\u001b[0;32m      5\u001b[0m sns\u001b[38;5;241m.\u001b[39mbarplot(data \u001b[38;5;241m=\u001b[39m df_f_a[df_f_a\u001b[38;5;241m.\u001b[39mindex \u001b[38;5;241m==\u001b[39m i])\n\u001b[0;32m      6\u001b[0m plt\u001b[38;5;241m.\u001b[39mylim(\u001b[38;5;241m0\u001b[39m,\u001b[38;5;241m3000\u001b[39m)\n\u001b[1;32m----> 7\u001b[0m plt\u001b[38;5;241m.\u001b[39maxhline(\u001b[43mdf_ftep\u001b[49m\u001b[38;5;241;43m.\u001b[39;49m\u001b[43mloc\u001b[49m\u001b[43m[\u001b[49m\u001b[43mi\u001b[49m\u001b[43m,\u001b[49m\u001b[38;5;124;43m'\u001b[39;49m\u001b[38;5;124;43mAutomatic\u001b[39;49m\u001b[38;5;124;43m'\u001b[39;49m\u001b[43m]\u001b[49m,color \u001b[38;5;241m=\u001b[39m \u001b[38;5;124m'\u001b[39m\u001b[38;5;124mr\u001b[39m\u001b[38;5;124m'\u001b[39m,linewidth \u001b[38;5;241m=\u001b[39m \u001b[38;5;241m1\u001b[39m)\n\u001b[0;32m      8\u001b[0m subplot \u001b[38;5;241m+\u001b[39m\u001b[38;5;241m=\u001b[39m\u001b[38;5;241m1\u001b[39m\n\u001b[0;32m      9\u001b[0m plt\u001b[38;5;241m.\u001b[39msubplot(\u001b[38;5;241m1\u001b[39m,\u001b[38;5;241m3\u001b[39m,\u001b[38;5;241m1\u001b[39m)\n",
      "File \u001b[1;32m~\\anaconda3\\lib\\site-packages\\pandas\\core\\indexing.py:960\u001b[0m, in \u001b[0;36m_LocationIndexer.__getitem__\u001b[1;34m(self, key)\u001b[0m\n\u001b[0;32m    958\u001b[0m     key \u001b[38;5;241m=\u001b[39m \u001b[38;5;28mtuple\u001b[39m(com\u001b[38;5;241m.\u001b[39mapply_if_callable(x, \u001b[38;5;28mself\u001b[39m\u001b[38;5;241m.\u001b[39mobj) \u001b[38;5;28;01mfor\u001b[39;00m x \u001b[38;5;129;01min\u001b[39;00m key)\n\u001b[0;32m    959\u001b[0m     \u001b[38;5;28;01mif\u001b[39;00m \u001b[38;5;28mself\u001b[39m\u001b[38;5;241m.\u001b[39m_is_scalar_access(key):\n\u001b[1;32m--> 960\u001b[0m         \u001b[38;5;28;01mreturn\u001b[39;00m \u001b[38;5;28;43mself\u001b[39;49m\u001b[38;5;241;43m.\u001b[39;49m\u001b[43mobj\u001b[49m\u001b[38;5;241;43m.\u001b[39;49m\u001b[43m_get_value\u001b[49m\u001b[43m(\u001b[49m\u001b[38;5;241;43m*\u001b[39;49m\u001b[43mkey\u001b[49m\u001b[43m,\u001b[49m\u001b[43m \u001b[49m\u001b[43mtakeable\u001b[49m\u001b[38;5;241;43m=\u001b[39;49m\u001b[38;5;28;43mself\u001b[39;49m\u001b[38;5;241;43m.\u001b[39;49m\u001b[43m_takeable\u001b[49m\u001b[43m)\u001b[49m\n\u001b[0;32m    961\u001b[0m     \u001b[38;5;28;01mreturn\u001b[39;00m \u001b[38;5;28mself\u001b[39m\u001b[38;5;241m.\u001b[39m_getitem_tuple(key)\n\u001b[0;32m    962\u001b[0m \u001b[38;5;28;01melse\u001b[39;00m:\n\u001b[0;32m    963\u001b[0m     \u001b[38;5;66;03m# we by definition only have the 0th axis\u001b[39;00m\n",
      "File \u001b[1;32m~\\anaconda3\\lib\\site-packages\\pandas\\core\\frame.py:3622\u001b[0m, in \u001b[0;36mDataFrame._get_value\u001b[1;34m(self, index, col, takeable)\u001b[0m\n\u001b[0;32m   3616\u001b[0m engine \u001b[38;5;241m=\u001b[39m \u001b[38;5;28mself\u001b[39m\u001b[38;5;241m.\u001b[39mindex\u001b[38;5;241m.\u001b[39m_engine\n\u001b[0;32m   3618\u001b[0m \u001b[38;5;28;01mif\u001b[39;00m \u001b[38;5;129;01mnot\u001b[39;00m \u001b[38;5;28misinstance\u001b[39m(\u001b[38;5;28mself\u001b[39m\u001b[38;5;241m.\u001b[39mindex, MultiIndex):\n\u001b[0;32m   3619\u001b[0m     \u001b[38;5;66;03m# CategoricalIndex: Trying to use the engine fastpath may give incorrect\u001b[39;00m\n\u001b[0;32m   3620\u001b[0m     \u001b[38;5;66;03m#  results if our categories are integers that dont match our codes\u001b[39;00m\n\u001b[0;32m   3621\u001b[0m     \u001b[38;5;66;03m# IntervalIndex: IntervalTree has no get_loc\u001b[39;00m\n\u001b[1;32m-> 3622\u001b[0m     row \u001b[38;5;241m=\u001b[39m \u001b[38;5;28;43mself\u001b[39;49m\u001b[38;5;241;43m.\u001b[39;49m\u001b[43mindex\u001b[49m\u001b[38;5;241;43m.\u001b[39;49m\u001b[43mget_loc\u001b[49m\u001b[43m(\u001b[49m\u001b[43mindex\u001b[49m\u001b[43m)\u001b[49m\n\u001b[0;32m   3623\u001b[0m     \u001b[38;5;28;01mreturn\u001b[39;00m series\u001b[38;5;241m.\u001b[39m_values[row]\n\u001b[0;32m   3625\u001b[0m \u001b[38;5;66;03m# For MultiIndex going through engine effectively restricts us to\u001b[39;00m\n\u001b[0;32m   3626\u001b[0m \u001b[38;5;66;03m#  same-length tuples; see test_get_set_value_no_partial_indexing\u001b[39;00m\n",
      "File \u001b[1;32m~\\anaconda3\\lib\\site-packages\\pandas\\core\\indexes\\base.py:3623\u001b[0m, in \u001b[0;36mIndex.get_loc\u001b[1;34m(self, key, method, tolerance)\u001b[0m\n\u001b[0;32m   3621\u001b[0m     \u001b[38;5;28;01mreturn\u001b[39;00m \u001b[38;5;28mself\u001b[39m\u001b[38;5;241m.\u001b[39m_engine\u001b[38;5;241m.\u001b[39mget_loc(casted_key)\n\u001b[0;32m   3622\u001b[0m \u001b[38;5;28;01mexcept\u001b[39;00m \u001b[38;5;167;01mKeyError\u001b[39;00m \u001b[38;5;28;01mas\u001b[39;00m err:\n\u001b[1;32m-> 3623\u001b[0m     \u001b[38;5;28;01mraise\u001b[39;00m \u001b[38;5;167;01mKeyError\u001b[39;00m(key) \u001b[38;5;28;01mfrom\u001b[39;00m \u001b[38;5;21;01merr\u001b[39;00m\n\u001b[0;32m   3624\u001b[0m \u001b[38;5;28;01mexcept\u001b[39;00m \u001b[38;5;167;01mTypeError\u001b[39;00m:\n\u001b[0;32m   3625\u001b[0m     \u001b[38;5;66;03m# If we have a listlike key, _check_indexing_error will raise\u001b[39;00m\n\u001b[0;32m   3626\u001b[0m     \u001b[38;5;66;03m#  InvalidIndexError. Otherwise we fall through and re-raise\u001b[39;00m\n\u001b[0;32m   3627\u001b[0m     \u001b[38;5;66;03m#  the TypeError.\u001b[39;00m\n\u001b[0;32m   3628\u001b[0m     \u001b[38;5;28mself\u001b[39m\u001b[38;5;241m.\u001b[39m_check_indexing_error(key)\n",
      "\u001b[1;31mKeyError\u001b[0m: 'korea'"
     ]
    },
    {
     "data": {
      "image/png": "[encoded data removed]",
      "text/plain": [
       "<Figure size 864x360 with 1 Axes>"
      ]
     },
     "metadata": {
      "needs_background": "light"
     },
     "output_type": "display_data"
    }
   ],
   "source": [
    "plt.figure(figsize = (12,5),constrained_layout=True)\n",
    "subplot = 1\n",
    "for i in df_kf.index.tolist():\n",
    "    plt.subplot(1,3,subplot)\n",
    "    sns.barplot(data = df_f_a[df_f_a.index == i])\n",
    "    plt.ylim(0,3000)\n",
    "    plt.axhline(df_ftep.loc[i,'Automatic'],color = 'r',linewidth = 1)\n",
    "    subplot +=1\n",
    "    plt.subplot(1,3,1)\n",
    "    plt.ylabel('Automatic',fontsize= 25)\n",
    "plt.show()\n",
    "\n",
    "plt.figure(figsize = (12,10),constrained_layout=True)\n",
    "for i in df_kf.index.tolist():\n",
    "    plt.subplot(2,3,subplot)\n",
    "    sns.barplot(data = df_f_m[df_f_m.index == i])\n",
    "    plt.ylim(0,3000)\n",
    "    plt.axhline(df_ftep.loc[i,'Manual'],color = 'r',linewidth = 1)\n",
    "    subplot +=1\n",
    "    plt.xlabel(i,fontsize= 25)\n",
    "    plt.subplot(2,3,4)\n",
    "    plt.ylabel('Manual',fontsize= 25)\n",
    "plt.show()\n",
    "\n"
   ]
  },
  {
   "cell_type": "code",
   "execution_count": 498,
   "id": "ae775ab0",
   "metadata": {},
   "outputs": [
    {
     "data": {
      "text/html": [
       "<div>\n",
       "<style scoped>\n",
       "    .dataframe tbody tr th:only-of-type {\n",
       "        vertical-align: middle;\n",
       "    }\n",
       "\n",
       "    .dataframe tbody tr th {\n",
       "        vertical-align: top;\n",
       "    }\n",
       "\n",
       "    .dataframe thead th {\n",
       "        text-align: right;\n",
       "    }\n",
       "</style>\n",
       "<table border=\"1\" class=\"dataframe\">\n",
       "  <thead>\n",
       "    <tr style=\"text-align: right;\">\n",
       "      <th>transmission_type</th>\n",
       "      <th>Automatic</th>\n",
       "      <th>Manual</th>\n",
       "    </tr>\n",
       "    <tr>\n",
       "      <th>fuel_type</th>\n",
       "      <th></th>\n",
       "      <th></th>\n",
       "    </tr>\n",
       "  </thead>\n",
       "  <tbody>\n",
       "    <tr>\n",
       "      <th>CNG</th>\n",
       "      <td>NaN</td>\n",
       "      <td>984.285714</td>\n",
       "    </tr>\n",
       "    <tr>\n",
       "      <th>Diesel</th>\n",
       "      <td>2209.682927</td>\n",
       "      <td>1940.571429</td>\n",
       "    </tr>\n",
       "    <tr>\n",
       "      <th>Petrol</th>\n",
       "      <td>2825.478632</td>\n",
       "      <td>1608.250000</td>\n",
       "    </tr>\n",
       "  </tbody>\n",
       "</table>\n",
       "</div>"
      ],
      "text/plain": [
       "transmission_type    Automatic       Manual\n",
       "fuel_type                                  \n",
       "CNG                        NaN   984.285714\n",
       "Diesel             2209.682927  1940.571429\n",
       "Petrol             2825.478632  1608.250000"
      ]
     },
     "execution_count": 498,
     "metadata": {},
     "output_type": "execute_result"
    }
   ],
   "source": [
    "df_fte = df.groupby(['fuel_type','transmission_type'])['engine_displacement'].mean().reset_index()\n",
    "df_fte = df_fte[df_fte['fuel_type']!= 'Electric']\n",
    "df_ftep = pd.pivot_table(df_fte,\n",
    "                        index = 'fuel_type',\n",
    "                        columns= 'transmission_type',\n",
    "                        values = 'engine_displacement')\n",
    "df_ftep"
   ]
  },
  {
   "cell_type": "code",
   "execution_count": 466,
   "id": "58e9fae7",
   "metadata": {},
   "outputs": [
    {
     "data": {
      "text/html": [
       "<div>\n",
       "<style scoped>\n",
       "    .dataframe tbody tr th:only-of-type {\n",
       "        vertical-align: middle;\n",
       "    }\n",
       "\n",
       "    .dataframe tbody tr th {\n",
       "        vertical-align: top;\n",
       "    }\n",
       "\n",
       "    .dataframe thead th {\n",
       "        text-align: right;\n",
       "    }\n",
       "</style>\n",
       "<table border=\"1\" class=\"dataframe\">\n",
       "  <thead>\n",
       "    <tr style=\"text-align: right;\">\n",
       "      <th></th>\n",
       "      <th>korea</th>\n",
       "      <th>Other countries</th>\n",
       "    </tr>\n",
       "    <tr>\n",
       "      <th>fuel_type</th>\n",
       "      <th></th>\n",
       "      <th></th>\n",
       "    </tr>\n",
       "  </thead>\n",
       "  <tbody>\n",
       "    <tr>\n",
       "      <th>CNG</th>\n",
       "      <td>0.0</td>\n",
       "      <td>0.000000</td>\n",
       "    </tr>\n",
       "    <tr>\n",
       "      <th>Diesel</th>\n",
       "      <td>1577.0</td>\n",
       "      <td>2318.142857</td>\n",
       "    </tr>\n",
       "    <tr>\n",
       "      <th>Petrol</th>\n",
       "      <td>998.0</td>\n",
       "      <td>2857.260870</td>\n",
       "    </tr>\n",
       "  </tbody>\n",
       "</table>\n",
       "</div>"
      ],
      "text/plain": [
       "            korea  Other countries\n",
       "fuel_type                         \n",
       "CNG           0.0         0.000000\n",
       "Diesel     1577.0      2318.142857\n",
       "Petrol      998.0      2857.260870"
      ]
     },
     "execution_count": 466,
     "metadata": {},
     "output_type": "execute_result"
    }
   ],
   "source": [
    "df_nkrft = pd.pivot_table(df_n_kr_ft,\n",
    "              index = 'fuel_type',\n",
    "              columns='transmission_type',\n",
    "              values = 'engine_displacement').fillna(0)\n",
    "df_nkrft\n",
    "df_krft\n",
    "df_f_a"
   ]
  },
  {
   "cell_type": "code",
   "execution_count": 497,
   "id": "8d19c2ea",
   "metadata": {},
   "outputs": [
    {
     "data": {
      "text/html": [
       "<div>\n",
       "<style scoped>\n",
       "    .dataframe tbody tr th:only-of-type {\n",
       "        vertical-align: middle;\n",
       "    }\n",
       "\n",
       "    .dataframe tbody tr th {\n",
       "        vertical-align: top;\n",
       "    }\n",
       "\n",
       "    .dataframe thead th {\n",
       "        text-align: right;\n",
       "    }\n",
       "</style>\n",
       "<table border=\"1\" class=\"dataframe\">\n",
       "  <thead>\n",
       "    <tr style=\"text-align: right;\">\n",
       "      <th>transmission_type</th>\n",
       "      <th>Automatic</th>\n",
       "      <th>Manual</th>\n",
       "    </tr>\n",
       "    <tr>\n",
       "      <th>fuel_type</th>\n",
       "      <th></th>\n",
       "      <th></th>\n",
       "    </tr>\n",
       "  </thead>\n",
       "  <tbody>\n",
       "    <tr>\n",
       "      <th>CNG</th>\n",
       "      <td>0.000000</td>\n",
       "      <td>921.400000</td>\n",
       "    </tr>\n",
       "    <tr>\n",
       "      <th>Diesel</th>\n",
       "      <td>2318.142857</td>\n",
       "      <td>1940.571429</td>\n",
       "    </tr>\n",
       "    <tr>\n",
       "      <th>Petrol</th>\n",
       "      <td>2857.260870</td>\n",
       "      <td>1695.428571</td>\n",
       "    </tr>\n",
       "  </tbody>\n",
       "</table>\n",
       "</div>"
      ],
      "text/plain": [
       "transmission_type    Automatic       Manual\n",
       "fuel_type                                  \n",
       "CNG                   0.000000   921.400000\n",
       "Diesel             2318.142857  1940.571429\n",
       "Petrol             2857.260870  1695.428571"
      ]
     },
     "execution_count": 497,
     "metadata": {},
     "output_type": "execute_result"
    }
   ],
   "source": [
    "pd.pivot(df_n_kr.groupby(['fuel_type','transmission_type'])['engine_displacement'].mean().reset_index(),\n",
    "        index= 'fuel_type',\n",
    "        columns='transmission_type',\n",
    "        values='engine_displacement').fillna(0).drop('Electric',axis =1).drop('Electric',axis =0)"
   ]
  },
  {
   "cell_type": "code",
   "execution_count": 488,
   "id": "ba540c1f",
   "metadata": {},
   "outputs": [
    {
     "data": {
      "text/html": [
       "<div>\n",
       "<style scoped>\n",
       "    .dataframe tbody tr th:only-of-type {\n",
       "        vertical-align: middle;\n",
       "    }\n",
       "\n",
       "    .dataframe tbody tr th {\n",
       "        vertical-align: top;\n",
       "    }\n",
       "\n",
       "    .dataframe thead th {\n",
       "        text-align: right;\n",
       "    }\n",
       "</style>\n",
       "<table border=\"1\" class=\"dataframe\">\n",
       "  <thead>\n",
       "    <tr style=\"text-align: right;\">\n",
       "      <th>transmission_type</th>\n",
       "      <th>Automatic</th>\n",
       "      <th>Manual</th>\n",
       "    </tr>\n",
       "    <tr>\n",
       "      <th>fuel_type</th>\n",
       "      <th></th>\n",
       "      <th></th>\n",
       "    </tr>\n",
       "  </thead>\n",
       "  <tbody>\n",
       "    <tr>\n",
       "      <th>CNG</th>\n",
       "      <td>0.0</td>\n",
       "      <td>1141.5</td>\n",
       "    </tr>\n",
       "    <tr>\n",
       "      <th>Diesel</th>\n",
       "      <td>1577.0</td>\n",
       "      <td>0.0</td>\n",
       "    </tr>\n",
       "    <tr>\n",
       "      <th>Petrol</th>\n",
       "      <td>998.0</td>\n",
       "      <td>998.0</td>\n",
       "    </tr>\n",
       "  </tbody>\n",
       "</table>\n",
       "</div>"
      ],
      "text/plain": [
       "transmission_type  Automatic  Manual\n",
       "fuel_type                           \n",
       "CNG                      0.0  1141.5\n",
       "Diesel                1577.0     0.0\n",
       "Petrol                 998.0   998.0"
      ]
     },
     "execution_count": 488,
     "metadata": {},
     "output_type": "execute_result"
    }
   ],
   "source": [
    "pd.pivot(df_kr.groupby(['fuel_type','transmission_type'])['engine_displacement'].mean().reset_index(),\n",
    "        index= 'fuel_type',\n",
    "        columns='transmission_type',\n",
    "        values='engine_displacement').fillna(0).drop('Electric',axis =1).drop('Electric',axis =0)\n",
    "df_krft"
   ]
  },
  {
   "cell_type": "code",
   "execution_count": 494,
   "id": "51c12ecb",
   "metadata": {},
   "outputs": [
    {
     "data": {
      "text/html": [
       "<div>\n",
       "<style scoped>\n",
       "    .dataframe tbody tr th:only-of-type {\n",
       "        vertical-align: middle;\n",
       "    }\n",
       "\n",
       "    .dataframe tbody tr th {\n",
       "        vertical-align: top;\n",
       "    }\n",
       "\n",
       "    .dataframe thead th {\n",
       "        text-align: right;\n",
       "    }\n",
       "</style>\n",
       "<table border=\"1\" class=\"dataframe\">\n",
       "  <thead>\n",
       "    <tr style=\"text-align: right;\">\n",
       "      <th></th>\n",
       "      <th>korea</th>\n",
       "      <th>Other countries</th>\n",
       "    </tr>\n",
       "    <tr>\n",
       "      <th>fuel_type</th>\n",
       "      <th></th>\n",
       "      <th></th>\n",
       "    </tr>\n",
       "  </thead>\n",
       "  <tbody>\n",
       "    <tr>\n",
       "      <th>CNG</th>\n",
       "      <td>0.0</td>\n",
       "      <td>0.000000</td>\n",
       "    </tr>\n",
       "    <tr>\n",
       "      <th>Diesel</th>\n",
       "      <td>1577.0</td>\n",
       "      <td>2318.142857</td>\n",
       "    </tr>\n",
       "    <tr>\n",
       "      <th>Petrol</th>\n",
       "      <td>998.0</td>\n",
       "      <td>2857.260870</td>\n",
       "    </tr>\n",
       "  </tbody>\n",
       "</table>\n",
       "</div>"
      ],
      "text/plain": [
       "            korea  Other countries\n",
       "fuel_type                         \n",
       "CNG           0.0         0.000000\n",
       "Diesel     1577.0      2318.142857\n",
       "Petrol      998.0      2857.260870"
      ]
     },
     "execution_count": 494,
     "metadata": {},
     "output_type": "execute_result"
    }
   ],
   "source": [
    "pd.DataFrame({'korea':df_krft['Automatic'],'Other countries':df_nkrft['Automatic']})\n",
    "df_f_a"
   ]
  },
  {
   "cell_type": "code",
   "execution_count": 495,
   "id": "b028af88",
   "metadata": {},
   "outputs": [
    {
     "data": {
      "text/html": [
       "<div>\n",
       "<style scoped>\n",
       "    .dataframe tbody tr th:only-of-type {\n",
       "        vertical-align: middle;\n",
       "    }\n",
       "\n",
       "    .dataframe tbody tr th {\n",
       "        vertical-align: top;\n",
       "    }\n",
       "\n",
       "    .dataframe thead th {\n",
       "        text-align: right;\n",
       "    }\n",
       "</style>\n",
       "<table border=\"1\" class=\"dataframe\">\n",
       "  <thead>\n",
       "    <tr style=\"text-align: right;\">\n",
       "      <th></th>\n",
       "      <th>korea</th>\n",
       "      <th>Other countries</th>\n",
       "    </tr>\n",
       "    <tr>\n",
       "      <th>fuel_type</th>\n",
       "      <th></th>\n",
       "      <th></th>\n",
       "    </tr>\n",
       "  </thead>\n",
       "  <tbody>\n",
       "    <tr>\n",
       "      <th>CNG</th>\n",
       "      <td>0.0</td>\n",
       "      <td>0.000000</td>\n",
       "    </tr>\n",
       "    <tr>\n",
       "      <th>Diesel</th>\n",
       "      <td>1577.0</td>\n",
       "      <td>2318.142857</td>\n",
       "    </tr>\n",
       "    <tr>\n",
       "      <th>Petrol</th>\n",
       "      <td>998.0</td>\n",
       "      <td>2857.260870</td>\n",
       "    </tr>\n",
       "  </tbody>\n",
       "</table>\n",
       "</div>"
      ],
      "text/plain": [
       "            korea  Other countries\n",
       "fuel_type                         \n",
       "CNG           0.0         0.000000\n",
       "Diesel     1577.0      2318.142857\n",
       "Petrol      998.0      2857.260870"
      ]
     },
     "execution_count": 495,
     "metadata": {},
     "output_type": "execute_result"
    }
   ],
   "source": [
    "df_f_a"
   ]
  },
  {
   "cell_type": "code",
   "execution_count": 554,
   "id": "7850ca3d",
   "metadata": {},
   "outputs": [
    {
     "data": {
      "text/html": [
       "<div>\n",
       "<style scoped>\n",
       "    .dataframe tbody tr th:only-of-type {\n",
       "        vertical-align: middle;\n",
       "    }\n",
       "\n",
       "    .dataframe tbody tr th {\n",
       "        vertical-align: top;\n",
       "    }\n",
       "\n",
       "    .dataframe thead th {\n",
       "        text-align: right;\n",
       "    }\n",
       "</style>\n",
       "<table border=\"1\" class=\"dataframe\">\n",
       "  <thead>\n",
       "    <tr style=\"text-align: right;\">\n",
       "      <th>transmission_type</th>\n",
       "      <th>Automatic</th>\n",
       "      <th>Manual</th>\n",
       "    </tr>\n",
       "    <tr>\n",
       "      <th>fuel_type</th>\n",
       "      <th></th>\n",
       "      <th></th>\n",
       "    </tr>\n",
       "  </thead>\n",
       "  <tbody>\n",
       "    <tr>\n",
       "      <th>CNG</th>\n",
       "      <td>NaN</td>\n",
       "      <td>1141.5</td>\n",
       "    </tr>\n",
       "    <tr>\n",
       "      <th>Diesel</th>\n",
       "      <td>1577.0</td>\n",
       "      <td>NaN</td>\n",
       "    </tr>\n",
       "    <tr>\n",
       "      <th>Petrol</th>\n",
       "      <td>998.0</td>\n",
       "      <td>998.0</td>\n",
       "    </tr>\n",
       "  </tbody>\n",
       "</table>\n",
       "</div>"
      ],
      "text/plain": [
       "transmission_type  Automatic  Manual\n",
       "fuel_type                           \n",
       "CNG                      NaN  1141.5\n",
       "Diesel                1577.0     NaN\n",
       "Petrol                 998.0   998.0"
      ]
     },
     "execution_count": 554,
     "metadata": {},
     "output_type": "execute_result"
    }
   ],
   "source": [
    "# engine_displacement\n",
    "df_krfte = pd.pivot(df_kr.groupby(['fuel_type','transmission_type'])['engine_displacement'].mean().reset_index(),\n",
    "        index= 'fuel_type',\n",
    "        columns='transmission_type',\n",
    "        values='engine_displacement').drop('Electric',axis =0).drop('Electric',axis =1)\n",
    "df_krfte"
   ]
  },
  {
   "cell_type": "code",
   "execution_count": 555,
   "id": "c140629c",
   "metadata": {},
   "outputs": [
    {
     "data": {
      "text/html": [
       "<div>\n",
       "<style scoped>\n",
       "    .dataframe tbody tr th:only-of-type {\n",
       "        vertical-align: middle;\n",
       "    }\n",
       "\n",
       "    .dataframe tbody tr th {\n",
       "        vertical-align: top;\n",
       "    }\n",
       "\n",
       "    .dataframe thead th {\n",
       "        text-align: right;\n",
       "    }\n",
       "</style>\n",
       "<table border=\"1\" class=\"dataframe\">\n",
       "  <thead>\n",
       "    <tr style=\"text-align: right;\">\n",
       "      <th>transmission_type</th>\n",
       "      <th>Automatic</th>\n",
       "      <th>Manual</th>\n",
       "    </tr>\n",
       "    <tr>\n",
       "      <th>fuel_type</th>\n",
       "      <th></th>\n",
       "      <th></th>\n",
       "    </tr>\n",
       "  </thead>\n",
       "  <tbody>\n",
       "    <tr>\n",
       "      <th>CNG</th>\n",
       "      <td>NaN</td>\n",
       "      <td>921.400000</td>\n",
       "    </tr>\n",
       "    <tr>\n",
       "      <th>Diesel</th>\n",
       "      <td>2318.142857</td>\n",
       "      <td>1940.571429</td>\n",
       "    </tr>\n",
       "    <tr>\n",
       "      <th>Petrol</th>\n",
       "      <td>2857.260870</td>\n",
       "      <td>1695.428571</td>\n",
       "    </tr>\n",
       "  </tbody>\n",
       "</table>\n",
       "</div>"
      ],
      "text/plain": [
       "transmission_type    Automatic       Manual\n",
       "fuel_type                                  \n",
       "CNG                        NaN   921.400000\n",
       "Diesel             2318.142857  1940.571429\n",
       "Petrol             2857.260870  1695.428571"
      ]
     },
     "execution_count": 555,
     "metadata": {},
     "output_type": "execute_result"
    }
   ],
   "source": [
    "df_nkrfte = pd.pivot(df_n_kr.groupby(['fuel_type','transmission_type'])['engine_displacement'].mean().reset_index(),\n",
    "        index= 'fuel_type',\n",
    "        columns='transmission_type',\n",
    "        values='engine_displacement').drop('Electric',axis =0).drop('Electric',axis =1)\n",
    "df_nkrfte"
   ]
  },
  {
   "cell_type": "code",
   "execution_count": 574,
   "id": "176b949e",
   "metadata": {},
   "outputs": [],
   "source": [
    "df_e_a = pd.DataFrame({'korea':df_krfte['Automatic'],'Other countries':df_nkrfte['Automatic']})\n",
    "df_e_m = pd.DataFrame({'korea':df_krfte['Manual'],'Other countries':df_nkrfte['Manual']})"
   ]
  },
  {
   "cell_type": "code",
   "execution_count": 575,
   "id": "7d494300",
   "metadata": {},
   "outputs": [
    {
     "data": {
      "text/html": [
       "<div>\n",
       "<style scoped>\n",
       "    .dataframe tbody tr th:only-of-type {\n",
       "        vertical-align: middle;\n",
       "    }\n",
       "\n",
       "    .dataframe tbody tr th {\n",
       "        vertical-align: top;\n",
       "    }\n",
       "\n",
       "    .dataframe thead th {\n",
       "        text-align: right;\n",
       "    }\n",
       "</style>\n",
       "<table border=\"1\" class=\"dataframe\">\n",
       "  <thead>\n",
       "    <tr style=\"text-align: right;\">\n",
       "      <th>transmission_type</th>\n",
       "      <th>Automatic</th>\n",
       "      <th>Manual</th>\n",
       "    </tr>\n",
       "    <tr>\n",
       "      <th>fuel_type</th>\n",
       "      <th></th>\n",
       "      <th></th>\n",
       "    </tr>\n",
       "  </thead>\n",
       "  <tbody>\n",
       "    <tr>\n",
       "      <th>CNG</th>\n",
       "      <td>NaN</td>\n",
       "      <td>984.285714</td>\n",
       "    </tr>\n",
       "    <tr>\n",
       "      <th>Diesel</th>\n",
       "      <td>2209.682927</td>\n",
       "      <td>1940.571429</td>\n",
       "    </tr>\n",
       "    <tr>\n",
       "      <th>Petrol</th>\n",
       "      <td>2825.478632</td>\n",
       "      <td>1608.250000</td>\n",
       "    </tr>\n",
       "  </tbody>\n",
       "</table>\n",
       "</div>"
      ],
      "text/plain": [
       "transmission_type    Automatic       Manual\n",
       "fuel_type                                  \n",
       "CNG                        NaN   984.285714\n",
       "Diesel             2209.682927  1940.571429\n",
       "Petrol             2825.478632  1608.250000"
      ]
     },
     "execution_count": 575,
     "metadata": {},
     "output_type": "execute_result"
    }
   ],
   "source": [
    "df_fte = df.groupby(['fuel_type','transmission_type'])['engine_displacement'].mean().reset_index()\n",
    "df_fte = df_fte[df_fte['fuel_type']!= 'Electric']\n",
    "df_ftep = pd.pivot_table(df_fte,\n",
    "                        index = 'fuel_type',\n",
    "                        columns= 'transmission_type',\n",
    "                        values = 'engine_displacement')\n",
    "df_ftep"
   ]
  },
  {
   "cell_type": "code",
   "execution_count": 580,
   "id": "8121139f",
   "metadata": {},
   "outputs": [
    {
     "data": {
      "image/png": "[encoded data removed]",
      "text/plain": [
       "<Figure size 864x360 with 3 Axes>"
      ]
     },
     "metadata": {
      "needs_background": "light"
     },
     "output_type": "display_data"
    },
    {
     "data": {
      "image/png": "[encoded data removed]",
      "text/plain": [
       "<Figure size 864x720 with 3 Axes>"
      ]
     },
     "metadata": {
      "needs_background": "light"
     },
     "output_type": "display_data"
    }
   ],
   "source": [
    "plt.figure(figsize = (12,5),constrained_layout=True)\n",
    "subplot = 1\n",
    "for i in df_krfte.index.tolist():\n",
    "    plt.subplot(1,3,subplot)\n",
    "    sns.barplot(data = df_e_a[df_e_a.index == i])\n",
    "    plt.ylim(500,3000)\n",
    "    plt.axhline(df_ftep.loc[i,'Automatic'],color = 'r',linewidth = 1)\n",
    "    subplot +=1\n",
    "    plt.subplot(1,3,1)\n",
    "    plt.ylabel('Automatic',fontsize= 25)\n",
    "\n",
    "plt.figure(figsize = (12,10),constrained_layout=True)\n",
    "for i in df_krfte.index.tolist():\n",
    "    plt.subplot(2,3,subplot)\n",
    "    sns.barplot(data = df_e_m[df_e_m.index == i])\n",
    "    plt.ylim(900,2000)\n",
    "    plt.axhline(df_ftep.loc[i,'Manual'],color = 'r',linewidth = 1)\n",
    "    subplot +=1\n",
    "    plt.xlabel(i,fontsize= 25)\n",
    "    plt.subplot(2,3,4)\n",
    "    plt.ylabel('Manual',fontsize= 25)"
   ]
  },
  {
   "cell_type": "code",
   "execution_count": 501,
   "id": "252746a7",
   "metadata": {},
   "outputs": [
    {
     "data": {
      "text/html": [
       "<div>\n",
       "<style scoped>\n",
       "    .dataframe tbody tr th:only-of-type {\n",
       "        vertical-align: middle;\n",
       "    }\n",
       "\n",
       "    .dataframe tbody tr th {\n",
       "        vertical-align: top;\n",
       "    }\n",
       "\n",
       "    .dataframe thead th {\n",
       "        text-align: right;\n",
       "    }\n",
       "</style>\n",
       "<table border=\"1\" class=\"dataframe\">\n",
       "  <thead>\n",
       "    <tr style=\"text-align: right;\">\n",
       "      <th>transmission_type</th>\n",
       "      <th>Automatic</th>\n",
       "      <th>Electric</th>\n",
       "      <th>Manual</th>\n",
       "    </tr>\n",
       "    <tr>\n",
       "      <th>fuel_type</th>\n",
       "      <th></th>\n",
       "      <th></th>\n",
       "      <th></th>\n",
       "    </tr>\n",
       "  </thead>\n",
       "  <tbody>\n",
       "    <tr>\n",
       "      <th>CNG</th>\n",
       "      <td>NaN</td>\n",
       "      <td>NaN</td>\n",
       "      <td>4.5</td>\n",
       "    </tr>\n",
       "    <tr>\n",
       "      <th>Diesel</th>\n",
       "      <td>4.333333</td>\n",
       "      <td>NaN</td>\n",
       "      <td>NaN</td>\n",
       "    </tr>\n",
       "    <tr>\n",
       "      <th>Electric</th>\n",
       "      <td>NaN</td>\n",
       "      <td>4.5</td>\n",
       "      <td>NaN</td>\n",
       "    </tr>\n",
       "    <tr>\n",
       "      <th>Petrol</th>\n",
       "      <td>4.000000</td>\n",
       "      <td>NaN</td>\n",
       "      <td>4.5</td>\n",
       "    </tr>\n",
       "  </tbody>\n",
       "</table>\n",
       "</div>"
      ],
      "text/plain": [
       "transmission_type  Automatic  Electric  Manual\n",
       "fuel_type                                     \n",
       "CNG                      NaN       NaN     4.5\n",
       "Diesel              4.333333       NaN     NaN\n",
       "Electric                 NaN       4.5     NaN\n",
       "Petrol              4.000000       NaN     4.5"
      ]
     },
     "execution_count": 501,
     "metadata": {},
     "output_type": "execute_result"
    }
   ],
   "source": [
    "# rating\n",
    "df_krft = pd.pivot(df_kr.groupby(['fuel_type','transmission_type'])['rating'].mean().reset_index(),\n",
    "        index= 'fuel_type',\n",
    "        columns='transmission_type',\n",
    "        values='rating')\n",
    "df_krft"
   ]
  },
  {
   "cell_type": "code",
   "execution_count": 502,
   "id": "ca708be8",
   "metadata": {},
   "outputs": [
    {
     "data": {
      "text/html": [
       "<div>\n",
       "<style scoped>\n",
       "    .dataframe tbody tr th:only-of-type {\n",
       "        vertical-align: middle;\n",
       "    }\n",
       "\n",
       "    .dataframe tbody tr th {\n",
       "        vertical-align: top;\n",
       "    }\n",
       "\n",
       "    .dataframe thead th {\n",
       "        text-align: right;\n",
       "    }\n",
       "</style>\n",
       "<table border=\"1\" class=\"dataframe\">\n",
       "  <thead>\n",
       "    <tr style=\"text-align: right;\">\n",
       "      <th>transmission_type</th>\n",
       "      <th>Automatic</th>\n",
       "      <th>Electric</th>\n",
       "      <th>Manual</th>\n",
       "    </tr>\n",
       "    <tr>\n",
       "      <th>fuel_type</th>\n",
       "      <th></th>\n",
       "      <th></th>\n",
       "      <th></th>\n",
       "    </tr>\n",
       "  </thead>\n",
       "  <tbody>\n",
       "    <tr>\n",
       "      <th>CNG</th>\n",
       "      <td>NaN</td>\n",
       "      <td>NaN</td>\n",
       "      <td>4.400000</td>\n",
       "    </tr>\n",
       "    <tr>\n",
       "      <th>Diesel</th>\n",
       "      <td>4.485714</td>\n",
       "      <td>NaN</td>\n",
       "      <td>4.464286</td>\n",
       "    </tr>\n",
       "    <tr>\n",
       "      <th>Electric</th>\n",
       "      <td>4.500000</td>\n",
       "      <td>4.458333</td>\n",
       "      <td>NaN</td>\n",
       "    </tr>\n",
       "    <tr>\n",
       "      <th>Petrol</th>\n",
       "      <td>4.426087</td>\n",
       "      <td>NaN</td>\n",
       "      <td>4.357143</td>\n",
       "    </tr>\n",
       "  </tbody>\n",
       "</table>\n",
       "</div>"
      ],
      "text/plain": [
       "transmission_type  Automatic  Electric    Manual\n",
       "fuel_type                                       \n",
       "CNG                      NaN       NaN  4.400000\n",
       "Diesel              4.485714       NaN  4.464286\n",
       "Electric            4.500000  4.458333       NaN\n",
       "Petrol              4.426087       NaN  4.357143"
      ]
     },
     "execution_count": 502,
     "metadata": {},
     "output_type": "execute_result"
    }
   ],
   "source": [
    "df_nkrft = pd.pivot(df_n_kr.groupby(['fuel_type','transmission_type'])['rating'].mean().reset_index(),\n",
    "        index= 'fuel_type',\n",
    "        columns='transmission_type',\n",
    "        values='rating')\n",
    "df_nkrft"
   ]
  },
  {
   "cell_type": "code",
   "execution_count": 503,
   "id": "bcc4ae1b",
   "metadata": {},
   "outputs": [],
   "source": [
    "df_r_a = pd.DataFrame({'korea':df_krft['Automatic'],'Other countries':df_nkrft['Automatic']})\n",
    "df_r_m = pd.DataFrame({'korea':df_krft['Manual'],'Other countries':df_nkrft['Manual']})\n",
    "df_r_e = pd.DataFrame({'korea':df_krft['Electric'],'Other countries':df_nkrft['Electric']})"
   ]
  },
  {
   "cell_type": "code",
   "execution_count": 518,
   "id": "be914652",
   "metadata": {},
   "outputs": [
    {
     "data": {
      "text/html": [
       "<div>\n",
       "<style scoped>\n",
       "    .dataframe tbody tr th:only-of-type {\n",
       "        vertical-align: middle;\n",
       "    }\n",
       "\n",
       "    .dataframe tbody tr th {\n",
       "        vertical-align: top;\n",
       "    }\n",
       "\n",
       "    .dataframe thead th {\n",
       "        text-align: right;\n",
       "    }\n",
       "</style>\n",
       "<table border=\"1\" class=\"dataframe\">\n",
       "  <thead>\n",
       "    <tr style=\"text-align: right;\">\n",
       "      <th>transmission_type</th>\n",
       "      <th>Automatic</th>\n",
       "      <th>Electric</th>\n",
       "      <th>Manual</th>\n",
       "    </tr>\n",
       "    <tr>\n",
       "      <th>fuel_type</th>\n",
       "      <th></th>\n",
       "      <th></th>\n",
       "      <th></th>\n",
       "    </tr>\n",
       "  </thead>\n",
       "  <tbody>\n",
       "    <tr>\n",
       "      <th>CNG</th>\n",
       "      <td>NaN</td>\n",
       "      <td>NaN</td>\n",
       "      <td>4.428571</td>\n",
       "    </tr>\n",
       "    <tr>\n",
       "      <th>Diesel</th>\n",
       "      <td>4.463415</td>\n",
       "      <td>NaN</td>\n",
       "      <td>4.464286</td>\n",
       "    </tr>\n",
       "    <tr>\n",
       "      <th>Electric</th>\n",
       "      <td>4.500000</td>\n",
       "      <td>4.464286</td>\n",
       "      <td>NaN</td>\n",
       "    </tr>\n",
       "    <tr>\n",
       "      <th>Petrol</th>\n",
       "      <td>4.418803</td>\n",
       "      <td>NaN</td>\n",
       "      <td>4.375000</td>\n",
       "    </tr>\n",
       "  </tbody>\n",
       "</table>\n",
       "</div>"
      ],
      "text/plain": [
       "transmission_type  Automatic  Electric    Manual\n",
       "fuel_type                                       \n",
       "CNG                      NaN       NaN  4.428571\n",
       "Diesel              4.463415       NaN  4.464286\n",
       "Electric            4.500000  4.464286       NaN\n",
       "Petrol              4.418803       NaN  4.375000"
      ]
     },
     "execution_count": 518,
     "metadata": {},
     "output_type": "execute_result"
    }
   ],
   "source": [
    "df_ftr = df.groupby(['fuel_type','transmission_type'])['rating'].mean().reset_index()\n",
    "#df_fte = df_fte[df_fte['fuel_type']!= 'Electric']\n",
    "df_ftrp = pd.pivot_table(df_fte,\n",
    "                        index = 'fuel_type',\n",
    "                        columns= 'transmission_type',\n",
    "                        values = 'rating')\n",
    "df_ftrp"
   ]
  },
  {
   "cell_type": "code",
   "execution_count": 600,
   "id": "9f8dd370",
   "metadata": {
    "scrolled": false
   },
   "outputs": [
    {
     "data": {
      "image/png": "[encoded data removed]",
      "text/plain": [
       "<Figure size 864x216 with 4 Axes>"
      ]
     },
     "metadata": {
      "needs_background": "light"
     },
     "output_type": "display_data"
    },
    {
     "data": {
      "image/png": "[encoded data removed]",
      "text/plain": [
       "<Figure size 864x432 with 4 Axes>"
      ]
     },
     "metadata": {
      "needs_background": "light"
     },
     "output_type": "display_data"
    },
    {
     "data": {
      "image/png": "[encoded data removed]",
      "text/plain": [
       "<Figure size 864x648 with 4 Axes>"
      ]
     },
     "metadata": {
      "needs_background": "light"
     },
     "output_type": "display_data"
    }
   ],
   "source": [
    "plt.figure(figsize = (12,3),constrained_layout=True)\n",
    "subplot = 1\n",
    "for i in df_krft.index.tolist():\n",
    "    plt.subplot(1,4,subplot)\n",
    "    sns.barplot(data = df_r_a[df_r_a.index == i])\n",
    "    plt.ylim(0,5)\n",
    "    plt.axhline(df_ftrp.loc[i,'Automatic'],color = 'r',linewidth = 1)\n",
    "    subplot +=1\n",
    "    plt.subplot(1,4,1)\n",
    "    plt.ylabel('Automatic',fontsize= 25)\n",
    "\n",
    "plt.figure(figsize = (12,6),constrained_layout=True)\n",
    "for i in df_krft.index.tolist():\n",
    "    plt.subplot(2,4,subplot)\n",
    "    sns.barplot(data = df_r_m[df_r_m.index == i])\n",
    "    plt.ylim(0,5)\n",
    "    plt.axhline(df_ftrp.loc[i,'Manual'],color = 'r',linewidth = 1)\n",
    "    subplot +=1\n",
    "    plt.subplot(2,4,5)\n",
    "    plt.ylabel('Manual',fontsize= 25)\n",
    "    \n",
    "plt.figure(figsize = (12,9),constrained_layout=True)\n",
    "for i in df_krft.index.tolist():\n",
    "    plt.subplot(3,4,subplot)\n",
    "    sns.barplot(data = df_r_e[df_r_e.index == i])\n",
    "    plt.ylim(0,5)\n",
    "    plt.axhline(df_ftrp.loc[i,'Electric'],color = 'r',linewidth = 1)\n",
    "    subplot +=1\n",
    "    plt.xlabel(i,fontsize= 25)\n",
    "    plt.subplot(3,4,9)\n",
    "    plt.ylabel('Electric',fontsize= 25)"
   ]
  },
  {
   "cell_type": "code",
   "execution_count": 593,
   "id": "7a454bea",
   "metadata": {},
   "outputs": [],
   "source": [
    "#starting_price\n",
    "df_krfts = pd.pivot(df_kr.groupby(['fuel_type','transmission_type'])['starting_price'].mean().reset_index(),\n",
    "        index= 'fuel_type',\n",
    "        columns='transmission_type',\n",
    "        values='starting_price')\n",
    "df_nkrfts = pd.pivot(df_n_kr.groupby(['fuel_type','transmission_type'])['starting_price'].mean().reset_index(),\n",
    "        index= 'fuel_type',\n",
    "        columns='transmission_type',\n",
    "        values='starting_price')\n",
    "df_sp_a = pd.DataFrame({'korea':df_krfts['Automatic'],'Other countries':df_nkrfts['Automatic']}).fillna(0).astype(int)\n",
    "df_sp_m = pd.DataFrame({'korea':df_krfts['Manual'],'Other countries':df_nkrfts['Manual']}).fillna(0).astype(int)\n",
    "df_sp_e = pd.DataFrame({'korea':df_krfts['Electric'],'Other countries':df_nkrfts['Electric']}).fillna(0).astype(int)\n",
    "df_fts = df.groupby(['fuel_type','transmission_type'])['starting_price'].mean().reset_index()\n",
    "#df_fte = df_fte[df_fte['fuel_type']!= 'Electric']\n",
    "df_ftsp = pd.pivot_table(df_fts,\n",
    "                        index = 'fuel_type',\n",
    "                        columns= 'transmission_type',\n",
    "                        values = 'starting_price')"
   ]
  },
  {
   "cell_type": "code",
   "execution_count": 594,
   "id": "91ff8f8f",
   "metadata": {},
   "outputs": [
    {
     "data": {
      "image/png": "[encoded data removed]",
      "text/plain": [
       "<Figure size 864x360 with 4 Axes>"
      ]
     },
     "metadata": {
      "needs_background": "light"
     },
     "output_type": "display_data"
    },
    {
     "data": {
      "image/png": "[encoded data removed]",
      "text/plain": [
       "<Figure size 864x720 with 4 Axes>"
      ]
     },
     "metadata": {
      "needs_background": "light"
     },
     "output_type": "display_data"
    },
    {
     "data": {
      "image/png": "[encoded data removed]",
      "text/plain": [
       "<Figure size 864x1080 with 4 Axes>"
      ]
     },
     "metadata": {
      "needs_background": "light"
     },
     "output_type": "display_data"
    }
   ],
   "source": [
    "plt.figure(figsize = (12,5),constrained_layout=True)\n",
    "subplot = 1\n",
    "for i in df_krft.index.tolist():\n",
    "    plt.subplot(1,4,subplot)\n",
    "    sns.barplot(data = df_sp_a[df_sp_a.index == i])\n",
    "    plt.ylim(0,)\n",
    "    plt.axhline(df_ftsp.loc[i,'Automatic'],color = 'r',linewidth = 1)\n",
    "    subplot +=1\n",
    "    plt.subplot(1,4,1)\n",
    "    plt.ylabel('Automatic',fontsize= 25)\n",
    "\n",
    "plt.figure(figsize = (12,10),constrained_layout=True)\n",
    "for i in df_krft.index.tolist():\n",
    "    plt.subplot(2,4,subplot)\n",
    "    sns.barplot(data = df_sp_m[df_sp_m.index == i])\n",
    "    plt.ylim(0,)\n",
    "    plt.axhline(df_ftsp.loc[i,'Manual'],color = 'r',linewidth = 1)\n",
    "    subplot +=1\n",
    "    plt.subplot(2,4,5)\n",
    "    plt.ylabel('Manual',fontsize= 25)\n",
    "    \n",
    "plt.figure(figsize = (12,15),constrained_layout=True)\n",
    "for i in df_krft.index.tolist():\n",
    "    plt.subplot(3,4,subplot)\n",
    "    sns.barplot(data = df_sp_e[df_sp_e.index == i])\n",
    "    plt.ylim(0,)\n",
    "    plt.axhline(df_ftsp.loc[i,'Electric'],color = 'r',linewidth = 1)\n",
    "    subplot +=1\n",
    "    plt.xlabel(i,fontsize= 25)\n",
    "    plt.subplot(3,4,9)\n",
    "    plt.ylabel('Electric',fontsize= 25)"
   ]
  },
  {
   "cell_type": "code",
   "execution_count": 596,
   "id": "e38f7f2f",
   "metadata": {},
   "outputs": [],
   "source": [
    "#max_torque_nm\n",
    "df_krfttn = pd.pivot(df_kr.groupby(['fuel_type','transmission_type'])['max_torque_nm'].mean().reset_index(),\n",
    "        index= 'fuel_type',\n",
    "        columns='transmission_type',\n",
    "        values='max_torque_nm')\n",
    "df_nkrfttn = pd.pivot(df_n_kr.groupby(['fuel_type','transmission_type'])['max_torque_nm'].mean().reset_index(),\n",
    "        index= 'fuel_type',\n",
    "        columns='transmission_type',\n",
    "        values='max_torque_nm')\n",
    "df_tn_a = pd.DataFrame({'korea':df_krfttn['Automatic'],'Other countries':df_nkrfttn['Automatic']}).fillna(0).astype(int)\n",
    "df_tn_m = pd.DataFrame({'korea':df_krfttn['Manual'],'Other countries':df_nkrfttn['Manual']}).fillna(0).astype(int)\n",
    "df_tn_e = pd.DataFrame({'korea':df_krfttn['Electric'],'Other countries':df_nkrfttn['Electric']}).fillna(0).astype(int)\n",
    "df_fttn = df.groupby(['fuel_type','transmission_type'])['max_torque_nm'].mean().reset_index()\n",
    "#df_fte = df_fte[df_fte['fuel_type']!= 'Electric']\n",
    "df_fttnp = pd.pivot_table(df_fttn,\n",
    "                        index = 'fuel_type',\n",
    "                        columns= 'transmission_type',\n",
    "                        values = 'max_torque_nm')"
   ]
  },
  {
   "cell_type": "code",
   "execution_count": 599,
   "id": "489f95ad",
   "metadata": {},
   "outputs": [
    {
     "data": {
      "image/png": "[encoded data removed]",
      "text/plain": [
       "<Figure size 864x360 with 4 Axes>"
      ]
     },
     "metadata": {
      "needs_background": "light"
     },
     "output_type": "display_data"
    },
    {
     "data": {
      "image/png": "[encoded data removed]",
      "text/plain": [
       "<Figure size 864x720 with 4 Axes>"
      ]
     },
     "metadata": {
      "needs_background": "light"
     },
     "output_type": "display_data"
    },
    {
     "data": {
      "image/png": "[encoded data removed]",
      "text/plain": [
       "<Figure size 864x1080 with 4 Axes>"
      ]
     },
     "metadata": {
      "needs_background": "light"
     },
     "output_type": "display_data"
    }
   ],
   "source": [
    "plt.figure(figsize = (12,5),constrained_layout=True)\n",
    "subplot = 1\n",
    "for i in df_krft.index.tolist():\n",
    "    plt.subplot(1,4,subplot)\n",
    "    sns.barplot(data = df_tn_a[df_tn_a.index == i])\n",
    "    plt.ylim(0,600)\n",
    "    plt.axhline(df_fttnp.loc[i,'Automatic'],color = 'r',linewidth = 1)\n",
    "    subplot +=1\n",
    "    plt.subplot(1,4,1)\n",
    "    plt.ylabel('Automatic',fontsize= 25)\n",
    "\n",
    "plt.figure(figsize = (12,10),constrained_layout=True)\n",
    "for i in df_krft.index.tolist():\n",
    "    plt.subplot(2,4,subplot)\n",
    "    sns.barplot(data = df_tn_m[df_tn_m.index == i])\n",
    "    plt.ylim(0,600)\n",
    "    plt.axhline(df_fttnp.loc[i,'Manual'],color = 'r',linewidth = 1)\n",
    "    subplot +=1\n",
    "    plt.subplot(2,4,5)\n",
    "    plt.ylabel('Manual',fontsize= 25)\n",
    "    \n",
    "plt.figure(figsize = (12,15),constrained_layout=True)\n",
    "for i in df_krft.index.tolist():\n",
    "    plt.subplot(3,4,subplot)\n",
    "    sns.barplot(data = df_tn_e[df_tn_e.index == i])\n",
    "    plt.ylim(0,600)\n",
    "    plt.axhline(df_fttnp.loc[i,'Electric'],color = 'r',linewidth = 1)\n",
    "    subplot +=1\n",
    "    plt.xlabel(i,fontsize= 25)\n",
    "    plt.subplot(3,4,9)\n",
    "    plt.ylabel('Electric',fontsize= 25)"
   ]
  },
  {
   "cell_type": "code",
   "execution_count": 621,
   "id": "c9470561",
   "metadata": {},
   "outputs": [],
   "source": [
    "a = round(df[df['fuel_type']=='Electric'].mean(),2).reset_index()\n",
    "b = round(df[df['fuel_type']!='Electric'].mean(),2).reset_index()"
   ]
  },
  {
   "cell_type": "code",
   "execution_count": 615,
   "id": "84e85c4e",
   "metadata": {},
   "outputs": [
    {
     "data": {
      "text/html": [
       "<div>\n",
       "<style scoped>\n",
       "    .dataframe tbody tr th:only-of-type {\n",
       "        vertical-align: middle;\n",
       "    }\n",
       "\n",
       "    .dataframe tbody tr th {\n",
       "        vertical-align: top;\n",
       "    }\n",
       "\n",
       "    .dataframe thead th {\n",
       "        text-align: right;\n",
       "    }\n",
       "</style>\n",
       "<table border=\"1\" class=\"dataframe\">\n",
       "  <thead>\n",
       "    <tr style=\"text-align: right;\">\n",
       "      <th></th>\n",
       "      <th>index</th>\n",
       "      <th>0</th>\n",
       "    </tr>\n",
       "  </thead>\n",
       "  <tbody>\n",
       "    <tr>\n",
       "      <th>0</th>\n",
       "      <td>reviews_count</td>\n",
       "      <td>128.14</td>\n",
       "    </tr>\n",
       "    <tr>\n",
       "      <th>1</th>\n",
       "      <td>engine_displacement</td>\n",
       "      <td>2503.22</td>\n",
       "    </tr>\n",
       "    <tr>\n",
       "      <th>2</th>\n",
       "      <td>no_cylinder</td>\n",
       "      <td>5.11</td>\n",
       "    </tr>\n",
       "    <tr>\n",
       "      <th>3</th>\n",
       "      <td>seating_capacity</td>\n",
       "      <td>5.04</td>\n",
       "    </tr>\n",
       "    <tr>\n",
       "      <th>4</th>\n",
       "      <td>fuel_tank_capacity</td>\n",
       "      <td>50.09</td>\n",
       "    </tr>\n",
       "    <tr>\n",
       "      <th>5</th>\n",
       "      <td>rating</td>\n",
       "      <td>4.43</td>\n",
       "    </tr>\n",
       "    <tr>\n",
       "      <th>6</th>\n",
       "      <td>starting_price</td>\n",
       "      <td>9205679.14</td>\n",
       "    </tr>\n",
       "    <tr>\n",
       "      <th>7</th>\n",
       "      <td>ending_price</td>\n",
       "      <td>10933764.71</td>\n",
       "    </tr>\n",
       "    <tr>\n",
       "      <th>8</th>\n",
       "      <td>max_torque_nm</td>\n",
       "      <td>396.41</td>\n",
       "    </tr>\n",
       "    <tr>\n",
       "      <th>9</th>\n",
       "      <td>max_torque_rpm</td>\n",
       "      <td>3611.45</td>\n",
       "    </tr>\n",
       "    <tr>\n",
       "      <th>10</th>\n",
       "      <td>max_power_bhp</td>\n",
       "      <td>264.70</td>\n",
       "    </tr>\n",
       "    <tr>\n",
       "      <th>11</th>\n",
       "      <td>max_power_rp</td>\n",
       "      <td>5181.28</td>\n",
       "    </tr>\n",
       "  </tbody>\n",
       "</table>\n",
       "</div>"
      ],
      "text/plain": [
       "                  index            0\n",
       "0         reviews_count       128.14\n",
       "1   engine_displacement      2503.22\n",
       "2           no_cylinder         5.11\n",
       "3      seating_capacity         5.04\n",
       "4    fuel_tank_capacity        50.09\n",
       "5                rating         4.43\n",
       "6        starting_price   9205679.14\n",
       "7          ending_price  10933764.71\n",
       "8         max_torque_nm       396.41\n",
       "9        max_torque_rpm      3611.45\n",
       "10        max_power_bhp       264.70\n",
       "11         max_power_rp      5181.28"
      ]
     },
     "execution_count": 615,
     "metadata": {},
     "output_type": "execute_result"
    }
   ],
   "source": [
    "round(df[df['fuel_type']!='Electric'].mean(),2).reset_index()"
   ]
  },
  {
   "cell_type": "code",
   "execution_count": 638,
   "id": "92b350b6",
   "metadata": {},
   "outputs": [],
   "source": [
    "ab = pd.DataFrame(\n",
    "            {'Electric': a[0],'Other': b[0]})"
   ]
  },
  {
   "cell_type": "code",
   "execution_count": 642,
   "id": "ac6f17f6",
   "metadata": {},
   "outputs": [],
   "source": [
    "ab = ab.set_axis(a['index'].tolist(),axis = 'index')"
   ]
  },
  {
   "cell_type": "code",
   "execution_count": 643,
   "id": "c8c13401",
   "metadata": {},
   "outputs": [
    {
     "data": {
      "text/html": [
       "<div>\n",
       "<style scoped>\n",
       "    .dataframe tbody tr th:only-of-type {\n",
       "        vertical-align: middle;\n",
       "    }\n",
       "\n",
       "    .dataframe tbody tr th {\n",
       "        vertical-align: top;\n",
       "    }\n",
       "\n",
       "    .dataframe thead th {\n",
       "        text-align: right;\n",
       "    }\n",
       "</style>\n",
       "<table border=\"1\" class=\"dataframe\">\n",
       "  <thead>\n",
       "    <tr style=\"text-align: right;\">\n",
       "      <th></th>\n",
       "      <th>Electric</th>\n",
       "      <th>Other</th>\n",
       "    </tr>\n",
       "  </thead>\n",
       "  <tbody>\n",
       "    <tr>\n",
       "      <th>reviews_count</th>\n",
       "      <td>8.19</td>\n",
       "      <td>128.14</td>\n",
       "    </tr>\n",
       "    <tr>\n",
       "      <th>engine_displacement</th>\n",
       "      <td>0.00</td>\n",
       "      <td>2503.22</td>\n",
       "    </tr>\n",
       "    <tr>\n",
       "      <th>no_cylinder</th>\n",
       "      <td>0.00</td>\n",
       "      <td>5.11</td>\n",
       "    </tr>\n",
       "    <tr>\n",
       "      <th>seating_capacity</th>\n",
       "      <td>4.75</td>\n",
       "      <td>5.04</td>\n",
       "    </tr>\n",
       "    <tr>\n",
       "      <th>fuel_tank_capacity</th>\n",
       "      <td>0.00</td>\n",
       "      <td>50.09</td>\n",
       "    </tr>\n",
       "    <tr>\n",
       "      <th>rating</th>\n",
       "      <td>4.47</td>\n",
       "      <td>4.43</td>\n",
       "    </tr>\n",
       "    <tr>\n",
       "      <th>starting_price</th>\n",
       "      <td>12224812.50</td>\n",
       "      <td>9205679.14</td>\n",
       "    </tr>\n",
       "    <tr>\n",
       "      <th>ending_price</th>\n",
       "      <td>13297312.50</td>\n",
       "      <td>10933764.71</td>\n",
       "    </tr>\n",
       "    <tr>\n",
       "      <th>max_torque_nm</th>\n",
       "      <td>477.56</td>\n",
       "      <td>396.41</td>\n",
       "    </tr>\n",
       "    <tr>\n",
       "      <th>max_torque_rpm</th>\n",
       "      <td>250.00</td>\n",
       "      <td>3611.45</td>\n",
       "    </tr>\n",
       "    <tr>\n",
       "      <th>max_power_bhp</th>\n",
       "      <td>288.53</td>\n",
       "      <td>264.70</td>\n",
       "    </tr>\n",
       "    <tr>\n",
       "      <th>max_power_rp</th>\n",
       "      <td>218.75</td>\n",
       "      <td>5181.28</td>\n",
       "    </tr>\n",
       "  </tbody>\n",
       "</table>\n",
       "</div>"
      ],
      "text/plain": [
       "                        Electric        Other\n",
       "reviews_count               8.19       128.14\n",
       "engine_displacement         0.00      2503.22\n",
       "no_cylinder                 0.00         5.11\n",
       "seating_capacity            4.75         5.04\n",
       "fuel_tank_capacity          0.00        50.09\n",
       "rating                      4.47         4.43\n",
       "starting_price       12224812.50   9205679.14\n",
       "ending_price         13297312.50  10933764.71\n",
       "max_torque_nm             477.56       396.41\n",
       "max_torque_rpm            250.00      3611.45\n",
       "max_power_bhp             288.53       264.70\n",
       "max_power_rp              218.75      5181.28"
      ]
     },
     "execution_count": 643,
     "metadata": {},
     "output_type": "execute_result"
    }
   ],
   "source": [
    "ab"
   ]
  },
  {
   "cell_type": "code",
   "execution_count": 645,
   "id": "b876d39b",
   "metadata": {},
   "outputs": [
    {
     "data": {
      "text/plain": [
       "<AxesSubplot:xlabel='rating'>"
      ]
     },
     "execution_count": 645,
     "metadata": {},
     "output_type": "execute_result"
    },
    {
     "data": {
      "image/png": "[encoded data removed]",
      "text/plain": [
       "<Figure size 432x288 with 1 Axes>"
      ]
     },
     "metadata": {
      "needs_background": "light"
     },
     "output_type": "display_data"
    }
   ],
   "source": [
    "sns.violinplot(df['rating'])"
   ]
  },
  {
   "cell_type": "code",
   "execution_count": 666,
   "id": "967d5d6e",
   "metadata": {},
   "outputs": [
    {
     "data": {
      "text/html": [
       "<div>\n",
       "<style scoped>\n",
       "    .dataframe tbody tr th:only-of-type {\n",
       "        vertical-align: middle;\n",
       "    }\n",
       "\n",
       "    .dataframe tbody tr th {\n",
       "        vertical-align: top;\n",
       "    }\n",
       "\n",
       "    .dataframe thead th {\n",
       "        text-align: right;\n",
       "    }\n",
       "</style>\n",
       "<table border=\"1\" class=\"dataframe\">\n",
       "  <thead>\n",
       "    <tr style=\"text-align: right;\">\n",
       "      <th></th>\n",
       "      <th>car_name</th>\n",
       "      <th>reviews_count</th>\n",
       "      <th>fuel_type</th>\n",
       "      <th>engine_displacement</th>\n",
       "      <th>no_cylinder</th>\n",
       "      <th>seating_capacity</th>\n",
       "      <th>transmission_type</th>\n",
       "      <th>fuel_tank_capacity</th>\n",
       "      <th>body_type</th>\n",
       "      <th>rating</th>\n",
       "      <th>starting_price</th>\n",
       "      <th>ending_price</th>\n",
       "      <th>max_torque_nm</th>\n",
       "      <th>max_torque_rpm</th>\n",
       "      <th>max_power_bhp</th>\n",
       "      <th>max_power_rp</th>\n",
       "      <th>brand</th>\n",
       "    </tr>\n",
       "  </thead>\n",
       "  <tbody>\n",
       "    <tr>\n",
       "      <th>153</th>\n",
       "      <td>Maserati Ghibli</td>\n",
       "      <td>2</td>\n",
       "      <td>Petrol</td>\n",
       "      <td>3799</td>\n",
       "      <td>8</td>\n",
       "      <td>5.0</td>\n",
       "      <td>Automatic</td>\n",
       "      <td>80.0</td>\n",
       "      <td>Sedan</td>\n",
       "      <td>3.0</td>\n",
       "      <td>11500000</td>\n",
       "      <td>19300000</td>\n",
       "      <td>450.0</td>\n",
       "      <td>1500</td>\n",
       "      <td>330.0</td>\n",
       "      <td>1500</td>\n",
       "      <td>Maserati</td>\n",
       "    </tr>\n",
       "  </tbody>\n",
       "</table>\n",
       "</div>"
      ],
      "text/plain": [
       "            car_name  reviews_count fuel_type  engine_displacement  \\\n",
       "153  Maserati Ghibli              2    Petrol                 3799   \n",
       "\n",
       "     no_cylinder  seating_capacity transmission_type  fuel_tank_capacity  \\\n",
       "153            8               5.0         Automatic                80.0   \n",
       "\n",
       "    body_type  rating  starting_price  ending_price  max_torque_nm  \\\n",
       "153     Sedan     3.0        11500000      19300000          450.0   \n",
       "\n",
       "     max_torque_rpm  max_power_bhp  max_power_rp     brand  \n",
       "153            1500          330.0          1500  Maserati  "
      ]
     },
     "execution_count": 666,
     "metadata": {},
     "output_type": "execute_result"
    }
   ],
   "source": [
    "df[df['car_name'] == 'Maserati Ghibli']"
   ]
  },
  {
   "cell_type": "code",
   "execution_count": 712,
   "id": "9f049504",
   "metadata": {},
   "outputs": [
    {
     "data": {
      "text/html": [
       "<div>\n",
       "<style scoped>\n",
       "    .dataframe tbody tr th:only-of-type {\n",
       "        vertical-align: middle;\n",
       "    }\n",
       "\n",
       "    .dataframe tbody tr th {\n",
       "        vertical-align: top;\n",
       "    }\n",
       "\n",
       "    .dataframe thead th {\n",
       "        text-align: right;\n",
       "    }\n",
       "</style>\n",
       "<table border=\"1\" class=\"dataframe\">\n",
       "  <thead>\n",
       "    <tr style=\"text-align: right;\">\n",
       "      <th></th>\n",
       "      <th>reviews_count</th>\n",
       "      <th>engine_displacement</th>\n",
       "      <th>no_cylinder</th>\n",
       "      <th>seating_capacity</th>\n",
       "      <th>fuel_tank_capacity</th>\n",
       "      <th>rating</th>\n",
       "      <th>starting_price</th>\n",
       "      <th>ending_price</th>\n",
       "      <th>max_torque_nm</th>\n",
       "      <th>max_torque_rpm</th>\n",
       "      <th>max_power_bhp</th>\n",
       "      <th>max_power_rp</th>\n",
       "    </tr>\n",
       "  </thead>\n",
       "  <tbody>\n",
       "    <tr>\n",
       "      <th>153</th>\n",
       "      <td>2</td>\n",
       "      <td>3799</td>\n",
       "      <td>8</td>\n",
       "      <td>5.0</td>\n",
       "      <td>80.0</td>\n",
       "      <td>3.0</td>\n",
       "      <td>11500000</td>\n",
       "      <td>19300000</td>\n",
       "      <td>450.0</td>\n",
       "      <td>1500</td>\n",
       "      <td>330.0</td>\n",
       "      <td>1500</td>\n",
       "    </tr>\n",
       "  </tbody>\n",
       "</table>\n",
       "</div>"
      ],
      "text/plain": [
       "     reviews_count  engine_displacement  no_cylinder  seating_capacity  \\\n",
       "153              2                 3799            8               5.0   \n",
       "\n",
       "     fuel_tank_capacity  rating  starting_price  ending_price  max_torque_nm  \\\n",
       "153                80.0     3.0        11500000      19300000          450.0   \n",
       "\n",
       "     max_torque_rpm  max_power_bhp  max_power_rp  \n",
       "153            1500          330.0          1500  "
      ]
     },
     "execution_count": 712,
     "metadata": {},
     "output_type": "execute_result"
    }
   ],
   "source": [
    "df_ma = df[df['car_name'] == 'Maserati Ghibli'][numeric_list]\n",
    "df_ma"
   ]
  },
  {
   "cell_type": "code",
   "execution_count": 713,
   "id": "c98b6175",
   "metadata": {},
   "outputs": [
    {
     "data": {
      "text/html": [
       "<div>\n",
       "<style scoped>\n",
       "    .dataframe tbody tr th:only-of-type {\n",
       "        vertical-align: middle;\n",
       "    }\n",
       "\n",
       "    .dataframe tbody tr th {\n",
       "        vertical-align: top;\n",
       "    }\n",
       "\n",
       "    .dataframe thead th {\n",
       "        text-align: right;\n",
       "    }\n",
       "</style>\n",
       "<table border=\"1\" class=\"dataframe\">\n",
       "  <thead>\n",
       "    <tr style=\"text-align: right;\">\n",
       "      <th></th>\n",
       "      <th>reviews_count</th>\n",
       "      <th>engine_displacement</th>\n",
       "      <th>no_cylinder</th>\n",
       "      <th>seating_capacity</th>\n",
       "      <th>fuel_tank_capacity</th>\n",
       "      <th>rating</th>\n",
       "      <th>starting_price</th>\n",
       "      <th>ending_price</th>\n",
       "      <th>max_torque_nm</th>\n",
       "      <th>max_torque_rpm</th>\n",
       "      <th>max_power_bhp</th>\n",
       "      <th>max_power_rp</th>\n",
       "    </tr>\n",
       "  </thead>\n",
       "  <tbody>\n",
       "    <tr>\n",
       "      <th>153</th>\n",
       "      <td>2.00</td>\n",
       "      <td>3799.00</td>\n",
       "      <td>8.00</td>\n",
       "      <td>5.00</td>\n",
       "      <td>80.00</td>\n",
       "      <td>3.00</td>\n",
       "      <td>11500000.00</td>\n",
       "      <td>19300000.00</td>\n",
       "      <td>450.0</td>\n",
       "      <td>1500.00</td>\n",
       "      <td>330.00</td>\n",
       "      <td>1500.00</td>\n",
       "    </tr>\n",
       "    <tr>\n",
       "      <th>1</th>\n",
       "      <td>118.68</td>\n",
       "      <td>2305.92</td>\n",
       "      <td>4.71</td>\n",
       "      <td>5.01</td>\n",
       "      <td>46.14</td>\n",
       "      <td>4.43</td>\n",
       "      <td>9443640.39</td>\n",
       "      <td>11120054.19</td>\n",
       "      <td>402.8</td>\n",
       "      <td>3346.51</td>\n",
       "      <td>266.58</td>\n",
       "      <td>4790.15</td>\n",
       "    </tr>\n",
       "  </tbody>\n",
       "</table>\n",
       "</div>"
      ],
      "text/plain": [
       "     reviews_count  engine_displacement  no_cylinder  seating_capacity  \\\n",
       "153           2.00              3799.00         8.00              5.00   \n",
       "1           118.68              2305.92         4.71              5.01   \n",
       "\n",
       "     fuel_tank_capacity  rating  starting_price  ending_price  max_torque_nm  \\\n",
       "153               80.00    3.00     11500000.00   19300000.00          450.0   \n",
       "1                 46.14    4.43      9443640.39   11120054.19          402.8   \n",
       "\n",
       "     max_torque_rpm  max_power_bhp  max_power_rp  \n",
       "153         1500.00         330.00       1500.00  \n",
       "1           3346.51         266.58       4790.15  "
      ]
     },
     "execution_count": 713,
     "metadata": {},
     "output_type": "execute_result"
    }
   ],
   "source": [
    "df_ma.loc[len(df_ma)] = round(df[numeric_list].mean(),2).tolist()\n",
    "df_ma"
   ]
  },
  {
   "cell_type": "code",
   "execution_count": 714,
   "id": "f3657c2a",
   "metadata": {
    "scrolled": false
   },
   "outputs": [],
   "source": [
    "df_ma.set_axis(['Ghibli','Average'],axis = 'index',inplace=True)"
   ]
  },
  {
   "cell_type": "code",
   "execution_count": 715,
   "id": "52d4441b",
   "metadata": {},
   "outputs": [],
   "source": [
    "df_ma = df_ma.transpose()"
   ]
  },
  {
   "cell_type": "code",
   "execution_count": 716,
   "id": "632205b4",
   "metadata": {},
   "outputs": [
    {
     "data": {
      "image/png": "[encoded data removed]",
      "text/plain": [
       "<Figure size 864x360 with 12 Axes>"
      ]
     },
     "metadata": {
      "needs_background": "light"
     },
     "output_type": "display_data"
    }
   ],
   "source": [
    "plt.figure(figsize = (12,5),constrained_layout=True)\n",
    "subplot =1\n",
    "for i in numeric_list: \n",
    "    plt.subplot(2,6,subplot)\n",
    "    sns.barplot(data = df_ma[df_ma.index == i])\n",
    "    plt.title(i)\n",
    "    subplot +=1\n",
    "plt.show()\n",
    "    "
   ]
  },
  {
   "cell_type": "code",
   "execution_count": 717,
   "id": "33909f8f",
   "metadata": {},
   "outputs": [
    {
     "data": {
      "text/plain": [
       "<AxesSubplot:xlabel='starting_price'>"
      ]
     },
     "execution_count": 717,
     "metadata": {},
     "output_type": "execute_result"
    },
    {
     "data": {
      "image/png": "[encoded data removed]",
      "text/plain": [
       "<Figure size 432x288 with 1 Axes>"
      ]
     },
     "metadata": {
      "needs_background": "light"
     },
     "output_type": "display_data"
    }
   ],
   "source": [
    "# price\n",
    "sns.violinplot(df['starting_price'])"
   ]
  },
  {
   "cell_type": "code",
   "execution_count": 756,
   "id": "76383f0d",
   "metadata": {},
   "outputs": [
    {
     "data": {
      "text/html": [
       "<div>\n",
       "<style scoped>\n",
       "    .dataframe tbody tr th:only-of-type {\n",
       "        vertical-align: middle;\n",
       "    }\n",
       "\n",
       "    .dataframe tbody tr th {\n",
       "        vertical-align: top;\n",
       "    }\n",
       "\n",
       "    .dataframe thead th {\n",
       "        text-align: right;\n",
       "    }\n",
       "</style>\n",
       "<table border=\"1\" class=\"dataframe\">\n",
       "  <thead>\n",
       "    <tr style=\"text-align: right;\">\n",
       "      <th></th>\n",
       "      <th>starting_price</th>\n",
       "      <th>ending_price</th>\n",
       "      <th>increase</th>\n",
       "    </tr>\n",
       "  </thead>\n",
       "  <tbody>\n",
       "    <tr>\n",
       "      <th>0</th>\n",
       "      <td>399000</td>\n",
       "      <td>583000</td>\n",
       "      <td>46.12</td>\n",
       "    </tr>\n",
       "    <tr>\n",
       "      <th>1</th>\n",
       "      <td>799000</td>\n",
       "      <td>1396000</td>\n",
       "      <td>74.72</td>\n",
       "    </tr>\n",
       "    <tr>\n",
       "      <th>2</th>\n",
       "      <td>1353000</td>\n",
       "      <td>1603000</td>\n",
       "      <td>18.48</td>\n",
       "    </tr>\n",
       "    <tr>\n",
       "      <th>3</th>\n",
       "      <td>1318000</td>\n",
       "      <td>2458000</td>\n",
       "      <td>86.49</td>\n",
       "    </tr>\n",
       "    <tr>\n",
       "      <th>4</th>\n",
       "      <td>1199000</td>\n",
       "      <td>2390000</td>\n",
       "      <td>99.33</td>\n",
       "    </tr>\n",
       "  </tbody>\n",
       "</table>\n",
       "</div>"
      ],
      "text/plain": [
       "   starting_price  ending_price  increase\n",
       "0          399000        583000     46.12\n",
       "1          799000       1396000     74.72\n",
       "2         1353000       1603000     18.48\n",
       "3         1318000       2458000     86.49\n",
       "4         1199000       2390000     99.33"
      ]
     },
     "execution_count": 756,
     "metadata": {},
     "output_type": "execute_result"
    }
   ],
   "source": [
    "df_pr=df[['starting_price','ending_price']]\n",
    "df_pr['increase'] = round((df_pr['ending_price']/df_pr['starting_price']-1)*100,2)\n",
    "df_pr.head()"
   ]
  },
  {
   "cell_type": "code",
   "execution_count": 758,
   "id": "38956d0e",
   "metadata": {},
   "outputs": [
    {
     "data": {
      "text/plain": [
       "<AxesSubplot:xlabel='increase'>"
      ]
     },
     "execution_count": 758,
     "metadata": {},
     "output_type": "execute_result"
    },
    {
     "data": {
      "image/png": "[encoded data removed]",
      "text/plain": [
       "<Figure size 432x288 with 1 Axes>"
      ]
     },
     "metadata": {
      "needs_background": "light"
     },
     "output_type": "display_data"
    }
   ],
   "source": [
    "sns.boxplot(df_pr['increase'])"
   ]
  },
  {
   "cell_type": "code",
   "execution_count": 761,
   "id": "b1195aed",
   "metadata": {},
   "outputs": [
    {
     "data": {
      "text/html": [
       "<div>\n",
       "<style scoped>\n",
       "    .dataframe tbody tr th:only-of-type {\n",
       "        vertical-align: middle;\n",
       "    }\n",
       "\n",
       "    .dataframe tbody tr th {\n",
       "        vertical-align: top;\n",
       "    }\n",
       "\n",
       "    .dataframe thead th {\n",
       "        text-align: right;\n",
       "    }\n",
       "</style>\n",
       "<table border=\"1\" class=\"dataframe\">\n",
       "  <thead>\n",
       "    <tr style=\"text-align: right;\">\n",
       "      <th></th>\n",
       "      <th>starting_price</th>\n",
       "      <th>increase</th>\n",
       "    </tr>\n",
       "  </thead>\n",
       "  <tbody>\n",
       "    <tr>\n",
       "      <th>34</th>\n",
       "      <td>8072000</td>\n",
       "      <td>171.31</td>\n",
       "    </tr>\n",
       "    <tr>\n",
       "      <th>106</th>\n",
       "      <td>11600000</td>\n",
       "      <td>112.93</td>\n",
       "    </tr>\n",
       "    <tr>\n",
       "      <th>114</th>\n",
       "      <td>7488000</td>\n",
       "      <td>108.33</td>\n",
       "    </tr>\n",
       "    <tr>\n",
       "      <th>103</th>\n",
       "      <td>1300000</td>\n",
       "      <td>107.69</td>\n",
       "    </tr>\n",
       "    <tr>\n",
       "      <th>149</th>\n",
       "      <td>7110000</td>\n",
       "      <td>105.34</td>\n",
       "    </tr>\n",
       "    <tr>\n",
       "      <th>...</th>\n",
       "      <td>...</td>\n",
       "      <td>...</td>\n",
       "    </tr>\n",
       "    <tr>\n",
       "      <th>171</th>\n",
       "      <td>11100000</td>\n",
       "      <td>0.00</td>\n",
       "    </tr>\n",
       "    <tr>\n",
       "      <th>172</th>\n",
       "      <td>726000</td>\n",
       "      <td>0.00</td>\n",
       "    </tr>\n",
       "    <tr>\n",
       "      <th>127</th>\n",
       "      <td>11600000</td>\n",
       "      <td>0.00</td>\n",
       "    </tr>\n",
       "    <tr>\n",
       "      <th>125</th>\n",
       "      <td>69500000</td>\n",
       "      <td>0.00</td>\n",
       "    </tr>\n",
       "    <tr>\n",
       "      <th>145</th>\n",
       "      <td>21200000</td>\n",
       "      <td>0.00</td>\n",
       "    </tr>\n",
       "  </tbody>\n",
       "</table>\n",
       "<p>203 rows × 2 columns</p>\n",
       "</div>"
      ],
      "text/plain": [
       "     starting_price  increase\n",
       "34          8072000    171.31\n",
       "106        11600000    112.93\n",
       "114         7488000    108.33\n",
       "103         1300000    107.69\n",
       "149         7110000    105.34\n",
       "..              ...       ...\n",
       "171        11100000      0.00\n",
       "172          726000      0.00\n",
       "127        11600000      0.00\n",
       "125        69500000      0.00\n",
       "145        21200000      0.00\n",
       "\n",
       "[203 rows x 2 columns]"
      ]
     },
     "execution_count": 761,
     "metadata": {},
     "output_type": "execute_result"
    }
   ],
   "source": [
    "df_pr[['starting_price','increase']].sort_values(by = 'increase',ascending = False)"
   ]
  },
  {
   "cell_type": "code",
   "execution_count": 762,
   "id": "b425799d",
   "metadata": {},
   "outputs": [
    {
     "data": {
      "text/html": [
       "<div>\n",
       "<style scoped>\n",
       "    .dataframe tbody tr th:only-of-type {\n",
       "        vertical-align: middle;\n",
       "    }\n",
       "\n",
       "    .dataframe tbody tr th {\n",
       "        vertical-align: top;\n",
       "    }\n",
       "\n",
       "    .dataframe thead th {\n",
       "        text-align: right;\n",
       "    }\n",
       "</style>\n",
       "<table border=\"1\" class=\"dataframe\">\n",
       "  <thead>\n",
       "    <tr style=\"text-align: right;\">\n",
       "      <th></th>\n",
       "      <th>car_name</th>\n",
       "      <th>reviews_count</th>\n",
       "      <th>fuel_type</th>\n",
       "      <th>engine_displacement</th>\n",
       "      <th>no_cylinder</th>\n",
       "      <th>seating_capacity</th>\n",
       "      <th>transmission_type</th>\n",
       "      <th>fuel_tank_capacity</th>\n",
       "      <th>body_type</th>\n",
       "      <th>rating</th>\n",
       "      <th>starting_price</th>\n",
       "      <th>ending_price</th>\n",
       "      <th>max_torque_nm</th>\n",
       "      <th>max_torque_rpm</th>\n",
       "      <th>max_power_bhp</th>\n",
       "      <th>max_power_rp</th>\n",
       "      <th>brand</th>\n",
       "    </tr>\n",
       "  </thead>\n",
       "  <tbody>\n",
       "    <tr>\n",
       "      <th>34</th>\n",
       "      <td>Land Rover Defender</td>\n",
       "      <td>13</td>\n",
       "      <td>Petrol</td>\n",
       "      <td>4997</td>\n",
       "      <td>4</td>\n",
       "      <td>7.0</td>\n",
       "      <td>Automatic</td>\n",
       "      <td>89.0</td>\n",
       "      <td>SUV</td>\n",
       "      <td>4.5</td>\n",
       "      <td>8072000</td>\n",
       "      <td>21900000</td>\n",
       "      <td>650.0</td>\n",
       "      <td>2500</td>\n",
       "      <td>296.36</td>\n",
       "      <td>4000</td>\n",
       "      <td>Land</td>\n",
       "    </tr>\n",
       "  </tbody>\n",
       "</table>\n",
       "</div>"
      ],
      "text/plain": [
       "               car_name  reviews_count fuel_type  engine_displacement  \\\n",
       "34  Land Rover Defender             13    Petrol                 4997   \n",
       "\n",
       "    no_cylinder  seating_capacity transmission_type  fuel_tank_capacity  \\\n",
       "34            4               7.0         Automatic                89.0   \n",
       "\n",
       "   body_type  rating  starting_price  ending_price  max_torque_nm  \\\n",
       "34       SUV     4.5         8072000      21900000          650.0   \n",
       "\n",
       "    max_torque_rpm  max_power_bhp  max_power_rp brand  \n",
       "34            2500         296.36          4000  Land  "
      ]
     },
     "execution_count": 762,
     "metadata": {},
     "output_type": "execute_result"
    }
   ],
   "source": [
    "df[df['starting_price'] == 8072000]"
   ]
  },
  {
   "cell_type": "code",
   "execution_count": 766,
   "id": "16b45367",
   "metadata": {},
   "outputs": [
    {
     "data": {
      "text/html": [
       "<div>\n",
       "<style scoped>\n",
       "    .dataframe tbody tr th:only-of-type {\n",
       "        vertical-align: middle;\n",
       "    }\n",
       "\n",
       "    .dataframe tbody tr th {\n",
       "        vertical-align: top;\n",
       "    }\n",
       "\n",
       "    .dataframe thead th {\n",
       "        text-align: right;\n",
       "    }\n",
       "</style>\n",
       "<table border=\"1\" class=\"dataframe\">\n",
       "  <thead>\n",
       "    <tr style=\"text-align: right;\">\n",
       "      <th></th>\n",
       "      <th>max_torque_nm</th>\n",
       "      <th>max_torque_rpm</th>\n",
       "      <th>max_power_bhp</th>\n",
       "      <th>max_power_rp</th>\n",
       "    </tr>\n",
       "  </thead>\n",
       "  <tbody>\n",
       "    <tr>\n",
       "      <th>0</th>\n",
       "      <td>89.0</td>\n",
       "      <td>3500</td>\n",
       "      <td>65.71</td>\n",
       "      <td>5500</td>\n",
       "    </tr>\n",
       "    <tr>\n",
       "      <th>1</th>\n",
       "      <td>136.8</td>\n",
       "      <td>4400</td>\n",
       "      <td>101.65</td>\n",
       "      <td>6000</td>\n",
       "    </tr>\n",
       "    <tr>\n",
       "      <th>2</th>\n",
       "      <td>300.0</td>\n",
       "      <td>2800</td>\n",
       "      <td>130.00</td>\n",
       "      <td>3750</td>\n",
       "    </tr>\n",
       "    <tr>\n",
       "      <th>3</th>\n",
       "      <td>450.0</td>\n",
       "      <td>2800</td>\n",
       "      <td>182.38</td>\n",
       "      <td>3500</td>\n",
       "    </tr>\n",
       "    <tr>\n",
       "      <th>4</th>\n",
       "      <td>400.0</td>\n",
       "      <td>2750</td>\n",
       "      <td>172.45</td>\n",
       "      <td>3500</td>\n",
       "    </tr>\n",
       "    <tr>\n",
       "      <th>...</th>\n",
       "      <td>...</td>\n",
       "      <td>...</td>\n",
       "      <td>...</td>\n",
       "      <td>...</td>\n",
       "    </tr>\n",
       "    <tr>\n",
       "      <th>198</th>\n",
       "      <td>500.0</td>\n",
       "      <td>5250</td>\n",
       "      <td>415.71</td>\n",
       "      <td>6750</td>\n",
       "    </tr>\n",
       "    <tr>\n",
       "      <th>199</th>\n",
       "      <td>400.0</td>\n",
       "      <td>4400</td>\n",
       "      <td>254.79</td>\n",
       "      <td>5000</td>\n",
       "    </tr>\n",
       "    <tr>\n",
       "      <th>200</th>\n",
       "      <td>350.0</td>\n",
       "      <td>2500</td>\n",
       "      <td>167.67</td>\n",
       "      <td>3750</td>\n",
       "    </tr>\n",
       "    <tr>\n",
       "      <th>201</th>\n",
       "      <td>800.0</td>\n",
       "      <td>4500</td>\n",
       "      <td>591.39</td>\n",
       "      <td>6000</td>\n",
       "    </tr>\n",
       "    <tr>\n",
       "      <th>202</th>\n",
       "      <td>69.0</td>\n",
       "      <td>3500</td>\n",
       "      <td>47.33</td>\n",
       "      <td>6000</td>\n",
       "    </tr>\n",
       "  </tbody>\n",
       "</table>\n",
       "<p>203 rows × 4 columns</p>\n",
       "</div>"
      ],
      "text/plain": [
       "     max_torque_nm  max_torque_rpm  max_power_bhp  max_power_rp\n",
       "0             89.0            3500          65.71          5500\n",
       "1            136.8            4400         101.65          6000\n",
       "2            300.0            2800         130.00          3750\n",
       "3            450.0            2800         182.38          3500\n",
       "4            400.0            2750         172.45          3500\n",
       "..             ...             ...            ...           ...\n",
       "198          500.0            5250         415.71          6750\n",
       "199          400.0            4400         254.79          5000\n",
       "200          350.0            2500         167.67          3750\n",
       "201          800.0            4500         591.39          6000\n",
       "202           69.0            3500          47.33          6000\n",
       "\n",
       "[203 rows x 4 columns]"
      ]
     },
     "execution_count": 766,
     "metadata": {},
     "output_type": "execute_result"
    }
   ],
   "source": [
    "df[['max_torque_nm','max_torque_rpm', 'max_power_bhp' ,'max_power_rp']]"
   ]
  },
  {
   "cell_type": "code",
   "execution_count": 768,
   "id": "8af96dc4",
   "metadata": {},
   "outputs": [
    {
     "data": {
      "image/png": "[encoded data removed]",
      "text/plain": [
       "<Figure size 432x288 with 1 Axes>"
      ]
     },
     "metadata": {
      "needs_background": "light"
     },
     "output_type": "display_data"
    },
    {
     "data": {
      "image/png": "[encoded data removed]",
      "text/plain": [
       "<Figure size 432x288 with 1 Axes>"
      ]
     },
     "metadata": {
      "needs_background": "light"
     },
     "output_type": "display_data"
    },
    {
     "data": {
      "image/png": "[encoded data removed]",
      "text/plain": [
       "<Figure size 432x288 with 1 Axes>"
      ]
     },
     "metadata": {
      "needs_background": "light"
     },
     "output_type": "display_data"
    },
    {
     "data": {
      "image/png": "[encoded data removed]",
      "text/plain": [
       "<Figure size 432x288 with 1 Axes>"
      ]
     },
     "metadata": {
      "needs_background": "light"
     },
     "output_type": "display_data"
    }
   ],
   "source": [
    "for i in ['max_torque_nm','max_torque_rpm', 'max_power_bhp' ,'max_power_rp']:\n",
    "    sns.boxplot(df[i])\n",
    "    plt.show()"
   ]
  },
  {
   "cell_type": "code",
   "execution_count": 775,
   "id": "f56002d8",
   "metadata": {},
   "outputs": [
    {
     "data": {
      "text/plain": [
       "<AxesSubplot:>"
      ]
     },
     "execution_count": 775,
     "metadata": {},
     "output_type": "execute_result"
    },
    {
     "data": {
      "image/png": "[encoded data removed]",
      "text/plain": [
       "<Figure size 864x576 with 2 Axes>"
      ]
     },
     "metadata": {
      "needs_background": "light"
     },
     "output_type": "display_data"
    }
   ],
   "source": [
    "# 상관관계\n",
    "plt.figure(figsize = (12,8))\n",
    "sns.heatmap(df.corr(),cmap = \"Blues\",annot = True) "
   ]
  },
  {
   "cell_type": "code",
   "execution_count": 778,
   "id": "77586b08",
   "metadata": {},
   "outputs": [
    {
     "data": {
      "text/html": [
       "<div>\n",
       "<style scoped>\n",
       "    .dataframe tbody tr th:only-of-type {\n",
       "        vertical-align: middle;\n",
       "    }\n",
       "\n",
       "    .dataframe tbody tr th {\n",
       "        vertical-align: top;\n",
       "    }\n",
       "\n",
       "    .dataframe thead th {\n",
       "        text-align: right;\n",
       "    }\n",
       "</style>\n",
       "<table border=\"1\" class=\"dataframe\">\n",
       "  <thead>\n",
       "    <tr style=\"text-align: right;\">\n",
       "      <th></th>\n",
       "      <th>column1</th>\n",
       "      <th>column2</th>\n",
       "      <th>corr</th>\n",
       "    </tr>\n",
       "  </thead>\n",
       "  <tbody>\n",
       "    <tr>\n",
       "      <th>0</th>\n",
       "      <td>reviews_count</td>\n",
       "      <td>reviews_count</td>\n",
       "      <td>1.000000</td>\n",
       "    </tr>\n",
       "    <tr>\n",
       "      <th>1</th>\n",
       "      <td>starting_price</td>\n",
       "      <td>ending_price</td>\n",
       "      <td>0.975520</td>\n",
       "    </tr>\n",
       "    <tr>\n",
       "      <th>2</th>\n",
       "      <td>engine_displacement</td>\n",
       "      <td>no_cylinder</td>\n",
       "      <td>0.948265</td>\n",
       "    </tr>\n",
       "    <tr>\n",
       "      <th>3</th>\n",
       "      <td>max_power_bhp</td>\n",
       "      <td>max_torque_nm</td>\n",
       "      <td>0.917634</td>\n",
       "    </tr>\n",
       "    <tr>\n",
       "      <th>4</th>\n",
       "      <td>max_torque_rpm</td>\n",
       "      <td>max_power_rp</td>\n",
       "      <td>0.865030</td>\n",
       "    </tr>\n",
       "    <tr>\n",
       "      <th>...</th>\n",
       "      <td>...</td>\n",
       "      <td>...</td>\n",
       "      <td>...</td>\n",
       "    </tr>\n",
       "    <tr>\n",
       "      <th>62</th>\n",
       "      <td>ending_price</td>\n",
       "      <td>seating_capacity</td>\n",
       "      <td>-0.279665</td>\n",
       "    </tr>\n",
       "    <tr>\n",
       "      <th>63</th>\n",
       "      <td>max_power_bhp</td>\n",
       "      <td>reviews_count</td>\n",
       "      <td>-0.280433</td>\n",
       "    </tr>\n",
       "    <tr>\n",
       "      <th>64</th>\n",
       "      <td>seating_capacity</td>\n",
       "      <td>no_cylinder</td>\n",
       "      <td>-0.290952</td>\n",
       "    </tr>\n",
       "    <tr>\n",
       "      <th>65</th>\n",
       "      <td>starting_price</td>\n",
       "      <td>seating_capacity</td>\n",
       "      <td>-0.319862</td>\n",
       "    </tr>\n",
       "    <tr>\n",
       "      <th>66</th>\n",
       "      <td>seating_capacity</td>\n",
       "      <td>max_power_bhp</td>\n",
       "      <td>-0.392984</td>\n",
       "    </tr>\n",
       "  </tbody>\n",
       "</table>\n",
       "<p>67 rows × 3 columns</p>\n",
       "</div>"
      ],
      "text/plain": [
       "                column1           column2      corr\n",
       "0         reviews_count     reviews_count  1.000000\n",
       "1        starting_price      ending_price  0.975520\n",
       "2   engine_displacement       no_cylinder  0.948265\n",
       "3         max_power_bhp     max_torque_nm  0.917634\n",
       "4        max_torque_rpm      max_power_rp  0.865030\n",
       "..                  ...               ...       ...\n",
       "62         ending_price  seating_capacity -0.279665\n",
       "63        max_power_bhp     reviews_count -0.280433\n",
       "64     seating_capacity       no_cylinder -0.290952\n",
       "65       starting_price  seating_capacity -0.319862\n",
       "66     seating_capacity     max_power_bhp -0.392984\n",
       "\n",
       "[67 rows x 3 columns]"
      ]
     },
     "execution_count": 778,
     "metadata": {},
     "output_type": "execute_result"
    }
   ],
   "source": [
    "df_corr = df.corr().unstack().sort_values(ascending = False).drop_duplicates().reset_index()\n",
    "df_corr.columns = ['column1','column2','corr']\n",
    "df_corr"
   ]
  },
  {
   "cell_type": "code",
   "execution_count": 779,
   "id": "521a71ac",
   "metadata": {},
   "outputs": [
    {
     "data": {
      "text/html": [
       "<div>\n",
       "<style scoped>\n",
       "    .dataframe tbody tr th:only-of-type {\n",
       "        vertical-align: middle;\n",
       "    }\n",
       "\n",
       "    .dataframe tbody tr th {\n",
       "        vertical-align: top;\n",
       "    }\n",
       "\n",
       "    .dataframe thead th {\n",
       "        text-align: right;\n",
       "    }\n",
       "</style>\n",
       "<table border=\"1\" class=\"dataframe\">\n",
       "  <thead>\n",
       "    <tr style=\"text-align: right;\">\n",
       "      <th></th>\n",
       "      <th>column1</th>\n",
       "      <th>column2</th>\n",
       "      <th>corr</th>\n",
       "    </tr>\n",
       "  </thead>\n",
       "  <tbody>\n",
       "    <tr>\n",
       "      <th>1</th>\n",
       "      <td>starting_price</td>\n",
       "      <td>ending_price</td>\n",
       "      <td>0.975520</td>\n",
       "    </tr>\n",
       "    <tr>\n",
       "      <th>9</th>\n",
       "      <td>starting_price</td>\n",
       "      <td>max_power_bhp</td>\n",
       "      <td>0.670433</td>\n",
       "    </tr>\n",
       "    <tr>\n",
       "      <th>11</th>\n",
       "      <td>starting_price</td>\n",
       "      <td>max_torque_nm</td>\n",
       "      <td>0.633948</td>\n",
       "    </tr>\n",
       "    <tr>\n",
       "      <th>13</th>\n",
       "      <td>starting_price</td>\n",
       "      <td>engine_displacement</td>\n",
       "      <td>0.622474</td>\n",
       "    </tr>\n",
       "    <tr>\n",
       "      <th>16</th>\n",
       "      <td>starting_price</td>\n",
       "      <td>no_cylinder</td>\n",
       "      <td>0.580439</td>\n",
       "    </tr>\n",
       "    <tr>\n",
       "      <th>33</th>\n",
       "      <td>starting_price</td>\n",
       "      <td>max_torque_rpm</td>\n",
       "      <td>0.097321</td>\n",
       "    </tr>\n",
       "    <tr>\n",
       "      <th>35</th>\n",
       "      <td>starting_price</td>\n",
       "      <td>max_power_rp</td>\n",
       "      <td>0.082065</td>\n",
       "    </tr>\n",
       "    <tr>\n",
       "      <th>65</th>\n",
       "      <td>starting_price</td>\n",
       "      <td>seating_capacity</td>\n",
       "      <td>-0.319862</td>\n",
       "    </tr>\n",
       "  </tbody>\n",
       "</table>\n",
       "</div>"
      ],
      "text/plain": [
       "           column1              column2      corr\n",
       "1   starting_price         ending_price  0.975520\n",
       "9   starting_price        max_power_bhp  0.670433\n",
       "11  starting_price        max_torque_nm  0.633948\n",
       "13  starting_price  engine_displacement  0.622474\n",
       "16  starting_price          no_cylinder  0.580439\n",
       "33  starting_price       max_torque_rpm  0.097321\n",
       "35  starting_price         max_power_rp  0.082065\n",
       "65  starting_price     seating_capacity -0.319862"
      ]
     },
     "execution_count": 779,
     "metadata": {},
     "output_type": "execute_result"
    }
   ],
   "source": [
    "df_corr[df_corr['column1'] == 'starting_price']"
   ]
  },
  {
   "cell_type": "code",
   "execution_count": 810,
   "id": "16a92e04",
   "metadata": {},
   "outputs": [],
   "source": [
    "df = df.dropna(axis =0)"
   ]
  },
  {
   "cell_type": "code",
   "execution_count": 861,
   "id": "fa819392",
   "metadata": {},
   "outputs": [],
   "source": [
    "#랜포\n",
    "from sklearn.ensemble import RandomForestRegressor\n",
    "from sklearn.model_selection import train_test_split\n",
    "rf = RandomForestRegressor(random_state= 42, n_estimators= 1000)"
   ]
  },
  {
   "cell_type": "code",
   "execution_count": 862,
   "id": "d72120ca",
   "metadata": {},
   "outputs": [],
   "source": [
    "x = df_num.drop('starting_price',axis = 1)\n",
    "y = df_num['starting_price']\n",
    "\n",
    "x_train,x_test,y_train,y_test = train_test_split(x,y,test_size= 0.3, shuffle=True)"
   ]
  },
  {
   "cell_type": "code",
   "execution_count": 863,
   "id": "b3dff566",
   "metadata": {},
   "outputs": [
    {
     "data": {
      "text/plain": [
       "RandomForestRegressor(n_estimators=1000, random_state=42)"
      ]
     },
     "execution_count": 863,
     "metadata": {},
     "output_type": "execute_result"
    }
   ],
   "source": [
    "rf.fit(x_train,y_train)"
   ]
  },
  {
   "cell_type": "code",
   "execution_count": 864,
   "id": "d8e7888b",
   "metadata": {},
   "outputs": [],
   "source": [
    "pred_rf = rf.predict(x_test)"
   ]
  },
  {
   "cell_type": "code",
   "execution_count": 849,
   "id": "5d410248",
   "metadata": {},
   "outputs": [
    {
     "data": {
      "text/plain": [
       "array([ 6286540., 24520000.,  3328420., 23196740.,   440310.,   846320.,\n",
       "       16442750.,  6254860., 32305880.,  5808140.,  2471630.,  4143350.,\n",
       "       52135260.,  2673600.,  4185410., 19946910.,  6473070.,  3767780.,\n",
       "         481990.,   645100., 42684500.,  6230470.,   697240.,  2278390.,\n",
       "         594940., 17771580.,  3497180., 17280900.,  6168430.,   978920.,\n",
       "        7838230.,   718770.,  2533760.,  9519580.,  2431900.,  3689350.,\n",
       "       17878460.,  2250380., 25926260.,   889800.,   967800.,  5595340.,\n",
       "       16582540.,  5285440., 54249760.,  3886860.,  5115170., 13579910.,\n",
       "        3222240., 18115610.,   847820.,  2175000., 18383920.,  3829170.,\n",
       "       44434400.,  7605560., 18159700., 27516780.,   577190.,  3262180.,\n",
       "        8081290.])"
      ]
     },
     "execution_count": 849,
     "metadata": {},
     "output_type": "execute_result"
    }
   ],
   "source": [
    "pred_rf"
   ]
  },
  {
   "cell_type": "code",
   "execution_count": 855,
   "id": "e38c4072",
   "metadata": {},
   "outputs": [],
   "source": [
    "from sklearn.metrics import accuracy_score\n",
    "from sklearn.metrics import mean_squared_error"
   ]
  },
  {
   "cell_type": "code",
   "execution_count": 887,
   "id": "d7d4dc9f",
   "metadata": {},
   "outputs": [
    {
     "data": {
      "text/plain": [
       "18174485.84"
      ]
     },
     "execution_count": 887,
     "metadata": {},
     "output_type": "execute_result"
    }
   ],
   "source": [
    "rmse_ns = round((mean_squared_error(pred_rf,y_test))**0.5,2)\n",
    "rmse_ns"
   ]
  },
  {
   "cell_type": "code",
   "execution_count": 866,
   "id": "d6df6006",
   "metadata": {},
   "outputs": [
    {
     "data": {
      "text/plain": [
       "<AxesSubplot:>"
      ]
     },
     "execution_count": 866,
     "metadata": {},
     "output_type": "execute_result"
    },
    {
     "data": {
      "image/png": "[encoded data removed]",
      "text/plain": [
       "<Figure size 432x288 with 1 Axes>"
      ]
     },
     "metadata": {
      "needs_background": "light"
     },
     "output_type": "display_data"
    }
   ],
   "source": [
    "df1 = pd.DataFrame({'Actual': y_test, 'Predicted' : pred_rf})\n",
    "sns.lineplot(data = df1)"
   ]
  },
  {
   "cell_type": "code",
   "execution_count": 867,
   "id": "04768293",
   "metadata": {},
   "outputs": [
    {
     "data": {
      "image/png": "[encoded data removed]",
      "text/plain": [
       "<Figure size 576x432 with 1 Axes>"
      ]
     },
     "metadata": {
      "needs_background": "light"
     },
     "output_type": "display_data"
    }
   ],
   "source": [
    "ftr_importances_values = rf.feature_importances_\n",
    "ftr_importances = pd.Series(ftr_importances_values, index = x_train.columns)\n",
    "ftr_top20 = ftr_importances.sort_values(ascending=False)[:30]\n",
    "\n",
    "plt.figure(figsize=(8,6))\n",
    "plt.title('Feature Importances')\n",
    "sns.barplot(x=ftr_top20, y=ftr_top20.index)\n",
    "# plt.rc('xtick', labelsize=5)\n",
    "plt.show()"
   ]
  },
  {
   "cell_type": "code",
   "execution_count": null,
   "id": "4753ff6b",
   "metadata": {},
   "outputs": [],
   "source": []
  },
  {
   "cell_type": "code",
   "execution_count": 871,
   "id": "aed1248f",
   "metadata": {},
   "outputs": [
    {
     "data": {
      "text/html": [
       "<div>\n",
       "<style scoped>\n",
       "    .dataframe tbody tr th:only-of-type {\n",
       "        vertical-align: middle;\n",
       "    }\n",
       "\n",
       "    .dataframe tbody tr th {\n",
       "        vertical-align: top;\n",
       "    }\n",
       "\n",
       "    .dataframe thead th {\n",
       "        text-align: right;\n",
       "    }\n",
       "</style>\n",
       "<table border=\"1\" class=\"dataframe\">\n",
       "  <thead>\n",
       "    <tr style=\"text-align: right;\">\n",
       "      <th></th>\n",
       "      <th>reviews_count</th>\n",
       "      <th>engine_displacement</th>\n",
       "      <th>no_cylinder</th>\n",
       "      <th>seating_capacity</th>\n",
       "      <th>fuel_tank_capacity</th>\n",
       "      <th>rating</th>\n",
       "      <th>max_torque_nm</th>\n",
       "      <th>max_torque_rpm</th>\n",
       "      <th>max_power_bhp</th>\n",
       "      <th>max_power_rp</th>\n",
       "    </tr>\n",
       "  </thead>\n",
       "  <tbody>\n",
       "    <tr>\n",
       "      <th>0</th>\n",
       "      <td>51</td>\n",
       "      <td>998</td>\n",
       "      <td>3</td>\n",
       "      <td>5.0</td>\n",
       "      <td>27.0</td>\n",
       "      <td>4.5</td>\n",
       "      <td>89.0</td>\n",
       "      <td>3500</td>\n",
       "      <td>65.71</td>\n",
       "      <td>5500</td>\n",
       "    </tr>\n",
       "    <tr>\n",
       "      <th>1</th>\n",
       "      <td>86</td>\n",
       "      <td>1462</td>\n",
       "      <td>4</td>\n",
       "      <td>5.0</td>\n",
       "      <td>48.0</td>\n",
       "      <td>4.5</td>\n",
       "      <td>136.8</td>\n",
       "      <td>4400</td>\n",
       "      <td>101.65</td>\n",
       "      <td>6000</td>\n",
       "    </tr>\n",
       "    <tr>\n",
       "      <th>2</th>\n",
       "      <td>242</td>\n",
       "      <td>2184</td>\n",
       "      <td>4</td>\n",
       "      <td>4.0</td>\n",
       "      <td>57.0</td>\n",
       "      <td>4.5</td>\n",
       "      <td>300.0</td>\n",
       "      <td>2800</td>\n",
       "      <td>130.00</td>\n",
       "      <td>3750</td>\n",
       "    </tr>\n",
       "    <tr>\n",
       "      <th>3</th>\n",
       "      <td>313</td>\n",
       "      <td>2198</td>\n",
       "      <td>4</td>\n",
       "      <td>7.0</td>\n",
       "      <td>60.0</td>\n",
       "      <td>4.5</td>\n",
       "      <td>450.0</td>\n",
       "      <td>2800</td>\n",
       "      <td>182.38</td>\n",
       "      <td>3500</td>\n",
       "    </tr>\n",
       "    <tr>\n",
       "      <th>4</th>\n",
       "      <td>107</td>\n",
       "      <td>2198</td>\n",
       "      <td>4</td>\n",
       "      <td>7.0</td>\n",
       "      <td>57.0</td>\n",
       "      <td>4.5</td>\n",
       "      <td>400.0</td>\n",
       "      <td>2750</td>\n",
       "      <td>172.45</td>\n",
       "      <td>3500</td>\n",
       "    </tr>\n",
       "    <tr>\n",
       "      <th>...</th>\n",
       "      <td>...</td>\n",
       "      <td>...</td>\n",
       "      <td>...</td>\n",
       "      <td>...</td>\n",
       "      <td>...</td>\n",
       "      <td>...</td>\n",
       "      <td>...</td>\n",
       "      <td>...</td>\n",
       "      <td>...</td>\n",
       "      <td>...</td>\n",
       "    </tr>\n",
       "    <tr>\n",
       "      <th>198</th>\n",
       "      <td>35</td>\n",
       "      <td>1991</td>\n",
       "      <td>4</td>\n",
       "      <td>5.0</td>\n",
       "      <td>0.0</td>\n",
       "      <td>4.5</td>\n",
       "      <td>500.0</td>\n",
       "      <td>5250</td>\n",
       "      <td>415.71</td>\n",
       "      <td>6750</td>\n",
       "    </tr>\n",
       "    <tr>\n",
       "      <th>199</th>\n",
       "      <td>3</td>\n",
       "      <td>1998</td>\n",
       "      <td>4</td>\n",
       "      <td>5.0</td>\n",
       "      <td>59.0</td>\n",
       "      <td>4.5</td>\n",
       "      <td>400.0</td>\n",
       "      <td>4400</td>\n",
       "      <td>254.79</td>\n",
       "      <td>5000</td>\n",
       "    </tr>\n",
       "    <tr>\n",
       "      <th>200</th>\n",
       "      <td>2</td>\n",
       "      <td>1956</td>\n",
       "      <td>4</td>\n",
       "      <td>7.0</td>\n",
       "      <td>60.0</td>\n",
       "      <td>4.5</td>\n",
       "      <td>350.0</td>\n",
       "      <td>2500</td>\n",
       "      <td>167.67</td>\n",
       "      <td>3750</td>\n",
       "    </tr>\n",
       "    <tr>\n",
       "      <th>201</th>\n",
       "      <td>9</td>\n",
       "      <td>3998</td>\n",
       "      <td>8</td>\n",
       "      <td>5.0</td>\n",
       "      <td>85.0</td>\n",
       "      <td>3.5</td>\n",
       "      <td>800.0</td>\n",
       "      <td>4500</td>\n",
       "      <td>591.39</td>\n",
       "      <td>6000</td>\n",
       "    </tr>\n",
       "    <tr>\n",
       "      <th>202</th>\n",
       "      <td>4</td>\n",
       "      <td>796</td>\n",
       "      <td>3</td>\n",
       "      <td>5.0</td>\n",
       "      <td>35.0</td>\n",
       "      <td>4.5</td>\n",
       "      <td>69.0</td>\n",
       "      <td>3500</td>\n",
       "      <td>47.33</td>\n",
       "      <td>6000</td>\n",
       "    </tr>\n",
       "  </tbody>\n",
       "</table>\n",
       "<p>202 rows × 10 columns</p>\n",
       "</div>"
      ],
      "text/plain": [
       "     reviews_count  engine_displacement  no_cylinder  seating_capacity  \\\n",
       "0               51                  998            3               5.0   \n",
       "1               86                 1462            4               5.0   \n",
       "2              242                 2184            4               4.0   \n",
       "3              313                 2198            4               7.0   \n",
       "4              107                 2198            4               7.0   \n",
       "..             ...                  ...          ...               ...   \n",
       "198             35                 1991            4               5.0   \n",
       "199              3                 1998            4               5.0   \n",
       "200              2                 1956            4               7.0   \n",
       "201              9                 3998            8               5.0   \n",
       "202              4                  796            3               5.0   \n",
       "\n",
       "     fuel_tank_capacity  rating  max_torque_nm  max_torque_rpm  max_power_bhp  \\\n",
       "0                  27.0     4.5           89.0            3500          65.71   \n",
       "1                  48.0     4.5          136.8            4400         101.65   \n",
       "2                  57.0     4.5          300.0            2800         130.00   \n",
       "3                  60.0     4.5          450.0            2800         182.38   \n",
       "4                  57.0     4.5          400.0            2750         172.45   \n",
       "..                  ...     ...            ...             ...            ...   \n",
       "198                 0.0     4.5          500.0            5250         415.71   \n",
       "199                59.0     4.5          400.0            4400         254.79   \n",
       "200                60.0     4.5          350.0            2500         167.67   \n",
       "201                85.0     3.5          800.0            4500         591.39   \n",
       "202                35.0     4.5           69.0            3500          47.33   \n",
       "\n",
       "     max_power_rp  \n",
       "0            5500  \n",
       "1            6000  \n",
       "2            3750  \n",
       "3            3500  \n",
       "4            3500  \n",
       "..            ...  \n",
       "198          6750  \n",
       "199          5000  \n",
       "200          3750  \n",
       "201          6000  \n",
       "202          6000  \n",
       "\n",
       "[202 rows x 10 columns]"
      ]
     },
     "execution_count": 871,
     "metadata": {},
     "output_type": "execute_result"
    }
   ],
   "source": [
    "# 스케일링\n",
    "df_nus = df[numeric_list]\n",
    "df_nus =df_nus.drop(['starting_price','ending_price'],axis = 1)\n",
    "df_nus"
   ]
  },
  {
   "cell_type": "code",
   "execution_count": 872,
   "id": "f01d756d",
   "metadata": {},
   "outputs": [],
   "source": [
    "from sklearn.preprocessing import StandardScaler\n",
    "scaler = StandardScaler()"
   ]
  },
  {
   "cell_type": "code",
   "execution_count": 891,
   "id": "a4cec562",
   "metadata": {},
   "outputs": [
    {
     "data": {
      "text/html": [
       "<div>\n",
       "<style scoped>\n",
       "    .dataframe tbody tr th:only-of-type {\n",
       "        vertical-align: middle;\n",
       "    }\n",
       "\n",
       "    .dataframe tbody tr th {\n",
       "        vertical-align: top;\n",
       "    }\n",
       "\n",
       "    .dataframe thead th {\n",
       "        text-align: right;\n",
       "    }\n",
       "</style>\n",
       "<table border=\"1\" class=\"dataframe\">\n",
       "  <thead>\n",
       "    <tr style=\"text-align: right;\">\n",
       "      <th></th>\n",
       "      <th>reviews_count</th>\n",
       "      <th>engine_displacement</th>\n",
       "      <th>no_cylinder</th>\n",
       "      <th>seating_capacity</th>\n",
       "      <th>fuel_tank_capacity</th>\n",
       "      <th>rating</th>\n",
       "      <th>max_torque_nm</th>\n",
       "      <th>max_torque_rpm</th>\n",
       "      <th>max_power_bhp</th>\n",
       "      <th>max_power_rp</th>\n",
       "    </tr>\n",
       "  </thead>\n",
       "  <tbody>\n",
       "    <tr>\n",
       "      <th>0</th>\n",
       "      <td>-0.217258</td>\n",
       "      <td>-0.872727</td>\n",
       "      <td>-0.669719</td>\n",
       "      <td>-0.012823</td>\n",
       "      <td>-0.659205</td>\n",
       "      <td>0.238602</td>\n",
       "      <td>-1.321698</td>\n",
       "      <td>0.086805</td>\n",
       "      <td>-1.037618</td>\n",
       "      <td>0.349714</td>\n",
       "    </tr>\n",
       "    <tr>\n",
       "      <th>1</th>\n",
       "      <td>-0.105872</td>\n",
       "      <td>-0.561126</td>\n",
       "      <td>-0.274154</td>\n",
       "      <td>-0.012823</td>\n",
       "      <td>0.068783</td>\n",
       "      <td>0.238602</td>\n",
       "      <td>-1.119648</td>\n",
       "      <td>0.657365</td>\n",
       "      <td>-0.850371</td>\n",
       "      <td>0.604556</td>\n",
       "    </tr>\n",
       "    <tr>\n",
       "      <th>2</th>\n",
       "      <td>0.390593</td>\n",
       "      <td>-0.076265</td>\n",
       "      <td>-0.274154</td>\n",
       "      <td>-0.876252</td>\n",
       "      <td>0.380778</td>\n",
       "      <td>0.238602</td>\n",
       "      <td>-0.429802</td>\n",
       "      <td>-0.356964</td>\n",
       "      <td>-0.702668</td>\n",
       "      <td>-0.542234</td>\n",
       "    </tr>\n",
       "    <tr>\n",
       "      <th>3</th>\n",
       "      <td>0.616548</td>\n",
       "      <td>-0.066863</td>\n",
       "      <td>-0.274154</td>\n",
       "      <td>1.714035</td>\n",
       "      <td>0.484776</td>\n",
       "      <td>0.238602</td>\n",
       "      <td>0.204248</td>\n",
       "      <td>-0.356964</td>\n",
       "      <td>-0.429769</td>\n",
       "      <td>-0.669655</td>\n",
       "    </tr>\n",
       "    <tr>\n",
       "      <th>4</th>\n",
       "      <td>-0.039040</td>\n",
       "      <td>-0.066863</td>\n",
       "      <td>-0.274154</td>\n",
       "      <td>1.714035</td>\n",
       "      <td>0.380778</td>\n",
       "      <td>0.238602</td>\n",
       "      <td>-0.007102</td>\n",
       "      <td>-0.388662</td>\n",
       "      <td>-0.481504</td>\n",
       "      <td>-0.669655</td>\n",
       "    </tr>\n",
       "    <tr>\n",
       "      <th>...</th>\n",
       "      <td>...</td>\n",
       "      <td>...</td>\n",
       "      <td>...</td>\n",
       "      <td>...</td>\n",
       "      <td>...</td>\n",
       "      <td>...</td>\n",
       "      <td>...</td>\n",
       "      <td>...</td>\n",
       "      <td>...</td>\n",
       "      <td>...</td>\n",
       "    </tr>\n",
       "    <tr>\n",
       "      <th>198</th>\n",
       "      <td>-0.268178</td>\n",
       "      <td>-0.205874</td>\n",
       "      <td>-0.274154</td>\n",
       "      <td>-0.012823</td>\n",
       "      <td>-1.595190</td>\n",
       "      <td>0.238602</td>\n",
       "      <td>0.415598</td>\n",
       "      <td>1.196227</td>\n",
       "      <td>0.785878</td>\n",
       "      <td>0.986820</td>\n",
       "    </tr>\n",
       "    <tr>\n",
       "      <th>199</th>\n",
       "      <td>-0.370017</td>\n",
       "      <td>-0.201173</td>\n",
       "      <td>-0.274154</td>\n",
       "      <td>-0.012823</td>\n",
       "      <td>0.450110</td>\n",
       "      <td>0.238602</td>\n",
       "      <td>-0.007102</td>\n",
       "      <td>0.657365</td>\n",
       "      <td>-0.052514</td>\n",
       "      <td>0.094872</td>\n",
       "    </tr>\n",
       "    <tr>\n",
       "      <th>200</th>\n",
       "      <td>-0.373199</td>\n",
       "      <td>-0.229379</td>\n",
       "      <td>-0.274154</td>\n",
       "      <td>1.714035</td>\n",
       "      <td>0.484776</td>\n",
       "      <td>0.238602</td>\n",
       "      <td>-0.218452</td>\n",
       "      <td>-0.547151</td>\n",
       "      <td>-0.506408</td>\n",
       "      <td>-0.542234</td>\n",
       "    </tr>\n",
       "    <tr>\n",
       "      <th>201</th>\n",
       "      <td>-0.350922</td>\n",
       "      <td>1.141933</td>\n",
       "      <td>1.308105</td>\n",
       "      <td>-0.012823</td>\n",
       "      <td>1.351429</td>\n",
       "      <td>-3.331590</td>\n",
       "      <td>1.683697</td>\n",
       "      <td>0.720761</td>\n",
       "      <td>1.701169</td>\n",
       "      <td>0.604556</td>\n",
       "    </tr>\n",
       "    <tr>\n",
       "      <th>202</th>\n",
       "      <td>-0.366834</td>\n",
       "      <td>-1.008380</td>\n",
       "      <td>-0.669719</td>\n",
       "      <td>-0.012823</td>\n",
       "      <td>-0.381876</td>\n",
       "      <td>0.238602</td>\n",
       "      <td>-1.406238</td>\n",
       "      <td>0.086805</td>\n",
       "      <td>-1.133378</td>\n",
       "      <td>0.604556</td>\n",
       "    </tr>\n",
       "  </tbody>\n",
       "</table>\n",
       "<p>202 rows × 10 columns</p>\n",
       "</div>"
      ],
      "text/plain": [
       "     reviews_count  engine_displacement  no_cylinder  seating_capacity  \\\n",
       "0        -0.217258            -0.872727    -0.669719         -0.012823   \n",
       "1        -0.105872            -0.561126    -0.274154         -0.012823   \n",
       "2         0.390593            -0.076265    -0.274154         -0.876252   \n",
       "3         0.616548            -0.066863    -0.274154          1.714035   \n",
       "4        -0.039040            -0.066863    -0.274154          1.714035   \n",
       "..             ...                  ...          ...               ...   \n",
       "198      -0.268178            -0.205874    -0.274154         -0.012823   \n",
       "199      -0.370017            -0.201173    -0.274154         -0.012823   \n",
       "200      -0.373199            -0.229379    -0.274154          1.714035   \n",
       "201      -0.350922             1.141933     1.308105         -0.012823   \n",
       "202      -0.366834            -1.008380    -0.669719         -0.012823   \n",
       "\n",
       "     fuel_tank_capacity    rating  max_torque_nm  max_torque_rpm  \\\n",
       "0             -0.659205  0.238602      -1.321698        0.086805   \n",
       "1              0.068783  0.238602      -1.119648        0.657365   \n",
       "2              0.380778  0.238602      -0.429802       -0.356964   \n",
       "3              0.484776  0.238602       0.204248       -0.356964   \n",
       "4              0.380778  0.238602      -0.007102       -0.388662   \n",
       "..                  ...       ...            ...             ...   \n",
       "198           -1.595190  0.238602       0.415598        1.196227   \n",
       "199            0.450110  0.238602      -0.007102        0.657365   \n",
       "200            0.484776  0.238602      -0.218452       -0.547151   \n",
       "201            1.351429 -3.331590       1.683697        0.720761   \n",
       "202           -0.381876  0.238602      -1.406238        0.086805   \n",
       "\n",
       "     max_power_bhp  max_power_rp  \n",
       "0        -1.037618      0.349714  \n",
       "1        -0.850371      0.604556  \n",
       "2        -0.702668     -0.542234  \n",
       "3        -0.429769     -0.669655  \n",
       "4        -0.481504     -0.669655  \n",
       "..             ...           ...  \n",
       "198       0.785878      0.986820  \n",
       "199      -0.052514      0.094872  \n",
       "200      -0.506408     -0.542234  \n",
       "201       1.701169      0.604556  \n",
       "202      -1.133378      0.604556  \n",
       "\n",
       "[202 rows x 10 columns]"
      ]
     },
     "execution_count": 891,
     "metadata": {},
     "output_type": "execute_result"
    }
   ],
   "source": [
    "df_nums_sc = scaler.fit_transform(df_nus)\n",
    "df_nus = df_nus.assign(reviews_count = df_nums_sc[:,0],\n",
    "                      engine_displacement = df_nums_sc[:,1],\n",
    "                      no_cylinder = df_nums_sc[:,2],\n",
    "                      seating_capacity = df_nums_sc[:,3],\n",
    "                      fuel_tank_capacity = df_nums_sc[:,4],\n",
    "                       rating = df_nums_sc[:,5],\n",
    "                       #starting_price = features_stand[:,6],\n",
    "                       max_torque_nm = df_nums_sc[:,6],\n",
    "                       max_torque_rpm = df_nums_sc[:,7],\n",
    "                       max_power_bhp = df_nums_sc[:,8],\n",
    "                       max_power_rp = df_nums_sc[:,9],\n",
    "                      )\n",
    "df_nus"
   ]
  },
  {
   "cell_type": "code",
   "execution_count": 876,
   "id": "2744db7c",
   "metadata": {},
   "outputs": [],
   "source": [
    "rfs = RandomForestRegressor(random_state= 42, n_estimators= 1000)"
   ]
  },
  {
   "cell_type": "code",
   "execution_count": 877,
   "id": "26af5913",
   "metadata": {},
   "outputs": [],
   "source": [
    "x = df_nus\n",
    "y = df_num['starting_price']\n",
    "\n",
    "x_train,x_test,y_train,y_test = train_test_split(x,y,test_size= 0.3, shuffle=True)"
   ]
  },
  {
   "cell_type": "code",
   "execution_count": 878,
   "id": "09f2277d",
   "metadata": {},
   "outputs": [
    {
     "data": {
      "text/plain": [
       "RandomForestRegressor(n_estimators=1000, random_state=42)"
      ]
     },
     "execution_count": 878,
     "metadata": {},
     "output_type": "execute_result"
    }
   ],
   "source": [
    "rfs.fit(x_train,y_train)"
   ]
  },
  {
   "cell_type": "code",
   "execution_count": 881,
   "id": "c8f05683",
   "metadata": {},
   "outputs": [],
   "source": [
    "pred_rfs = rfs.predict(x_test)"
   ]
  },
  {
   "cell_type": "code",
   "execution_count": 882,
   "id": "82de8d23",
   "metadata": {},
   "outputs": [
    {
     "data": {
      "text/plain": [
       "<AxesSubplot:>"
      ]
     },
     "execution_count": 882,
     "metadata": {},
     "output_type": "execute_result"
    },
    {
     "data": {
      "image/png": "[encoded data removed]",
      "text/plain": [
       "<Figure size 432x288 with 1 Axes>"
      ]
     },
     "metadata": {
      "needs_background": "light"
     },
     "output_type": "display_data"
    }
   ],
   "source": [
    "df3 = pd.DataFrame({'Actual': y_test, 'Predicted' : pred_rfs})\n",
    "sns.lineplot(data = df3)"
   ]
  },
  {
   "cell_type": "code",
   "execution_count": 886,
   "id": "0f9202f2",
   "metadata": {},
   "outputs": [
    {
     "data": {
      "text/plain": [
       "6992425.4"
      ]
     },
     "execution_count": 886,
     "metadata": {},
     "output_type": "execute_result"
    }
   ],
   "source": [
    "rmse = round((mean_squared_error(pred_rfs,y_test))**0.5,2)\n",
    "rmse"
   ]
  },
  {
   "cell_type": "code",
   "execution_count": 889,
   "id": "317da9ca",
   "metadata": {},
   "outputs": [
    {
     "data": {
      "image/png": "[encoded data removed]",
      "text/plain": [
       "<Figure size 576x432 with 1 Axes>"
      ]
     },
     "metadata": {
      "needs_background": "light"
     },
     "output_type": "display_data"
    }
   ],
   "source": [
    "ftr_importances_values = rfs.feature_importances_\n",
    "ftr_importances = pd.Series(ftr_importances_values, index = x_train.columns)\n",
    "ftr_top20 = ftr_importances.sort_values(ascending=False)[:30]\n",
    "\n",
    "plt.figure(figsize=(8,6))\n",
    "plt.title('Feature Importances')\n",
    "sns.barplot(x=ftr_top20, y=ftr_top20.index)\n",
    "# plt.rc('xtick', labelsize=5)\n",
    "plt.show()"
   ]
  },
  {
   "cell_type": "code",
   "execution_count": 890,
   "id": "79da5a80",
   "metadata": {},
   "outputs": [
    {
     "data": {
      "text/html": [
       "<div>\n",
       "<style scoped>\n",
       "    .dataframe tbody tr th:only-of-type {\n",
       "        vertical-align: middle;\n",
       "    }\n",
       "\n",
       "    .dataframe tbody tr th {\n",
       "        vertical-align: top;\n",
       "    }\n",
       "\n",
       "    .dataframe thead th {\n",
       "        text-align: right;\n",
       "    }\n",
       "</style>\n",
       "<table border=\"1\" class=\"dataframe\">\n",
       "  <thead>\n",
       "    <tr style=\"text-align: right;\">\n",
       "      <th></th>\n",
       "      <th>car_name</th>\n",
       "      <th>reviews_count</th>\n",
       "      <th>fuel_type</th>\n",
       "      <th>engine_displacement</th>\n",
       "      <th>no_cylinder</th>\n",
       "      <th>seating_capacity</th>\n",
       "      <th>transmission_type</th>\n",
       "      <th>fuel_tank_capacity</th>\n",
       "      <th>body_type</th>\n",
       "      <th>rating</th>\n",
       "      <th>starting_price</th>\n",
       "      <th>ending_price</th>\n",
       "      <th>max_torque_nm</th>\n",
       "      <th>max_torque_rpm</th>\n",
       "      <th>max_power_bhp</th>\n",
       "      <th>max_power_rp</th>\n",
       "      <th>brand</th>\n",
       "    </tr>\n",
       "  </thead>\n",
       "  <tbody>\n",
       "    <tr>\n",
       "      <th>0</th>\n",
       "      <td>Maruti Alto K10</td>\n",
       "      <td>51</td>\n",
       "      <td>Petrol</td>\n",
       "      <td>998</td>\n",
       "      <td>3</td>\n",
       "      <td>5.0</td>\n",
       "      <td>Automatic</td>\n",
       "      <td>27.0</td>\n",
       "      <td>Hatchback</td>\n",
       "      <td>4.5</td>\n",
       "      <td>399000</td>\n",
       "      <td>583000</td>\n",
       "      <td>89.0</td>\n",
       "      <td>3500</td>\n",
       "      <td>65.71</td>\n",
       "      <td>5500</td>\n",
       "      <td>Maruti</td>\n",
       "    </tr>\n",
       "    <tr>\n",
       "      <th>1</th>\n",
       "      <td>Maruti Brezza</td>\n",
       "      <td>86</td>\n",
       "      <td>Petrol</td>\n",
       "      <td>1462</td>\n",
       "      <td>4</td>\n",
       "      <td>5.0</td>\n",
       "      <td>Automatic</td>\n",
       "      <td>48.0</td>\n",
       "      <td>SUV</td>\n",
       "      <td>4.5</td>\n",
       "      <td>799000</td>\n",
       "      <td>1396000</td>\n",
       "      <td>136.8</td>\n",
       "      <td>4400</td>\n",
       "      <td>101.65</td>\n",
       "      <td>6000</td>\n",
       "      <td>Maruti</td>\n",
       "    </tr>\n",
       "    <tr>\n",
       "      <th>2</th>\n",
       "      <td>Mahindra Thar</td>\n",
       "      <td>242</td>\n",
       "      <td>Diesel</td>\n",
       "      <td>2184</td>\n",
       "      <td>4</td>\n",
       "      <td>4.0</td>\n",
       "      <td>Automatic</td>\n",
       "      <td>57.0</td>\n",
       "      <td>SUV</td>\n",
       "      <td>4.5</td>\n",
       "      <td>1353000</td>\n",
       "      <td>1603000</td>\n",
       "      <td>300.0</td>\n",
       "      <td>2800</td>\n",
       "      <td>130.00</td>\n",
       "      <td>3750</td>\n",
       "      <td>Mahindra</td>\n",
       "    </tr>\n",
       "    <tr>\n",
       "      <th>3</th>\n",
       "      <td>Mahindra XUV700</td>\n",
       "      <td>313</td>\n",
       "      <td>Diesel</td>\n",
       "      <td>2198</td>\n",
       "      <td>4</td>\n",
       "      <td>7.0</td>\n",
       "      <td>Automatic</td>\n",
       "      <td>60.0</td>\n",
       "      <td>SUV</td>\n",
       "      <td>4.5</td>\n",
       "      <td>1318000</td>\n",
       "      <td>2458000</td>\n",
       "      <td>450.0</td>\n",
       "      <td>2800</td>\n",
       "      <td>182.38</td>\n",
       "      <td>3500</td>\n",
       "      <td>Mahindra</td>\n",
       "    </tr>\n",
       "    <tr>\n",
       "      <th>4</th>\n",
       "      <td>Mahindra Scorpio-N</td>\n",
       "      <td>107</td>\n",
       "      <td>Diesel</td>\n",
       "      <td>2198</td>\n",
       "      <td>4</td>\n",
       "      <td>7.0</td>\n",
       "      <td>Automatic</td>\n",
       "      <td>57.0</td>\n",
       "      <td>SUV</td>\n",
       "      <td>4.5</td>\n",
       "      <td>1199000</td>\n",
       "      <td>2390000</td>\n",
       "      <td>400.0</td>\n",
       "      <td>2750</td>\n",
       "      <td>172.45</td>\n",
       "      <td>3500</td>\n",
       "      <td>Mahindra</td>\n",
       "    </tr>\n",
       "  </tbody>\n",
       "</table>\n",
       "</div>"
      ],
      "text/plain": [
       "             car_name  reviews_count fuel_type  engine_displacement  \\\n",
       "0     Maruti Alto K10             51    Petrol                  998   \n",
       "1       Maruti Brezza             86    Petrol                 1462   \n",
       "2       Mahindra Thar            242    Diesel                 2184   \n",
       "3     Mahindra XUV700            313    Diesel                 2198   \n",
       "4  Mahindra Scorpio-N            107    Diesel                 2198   \n",
       "\n",
       "   no_cylinder  seating_capacity transmission_type  fuel_tank_capacity  \\\n",
       "0            3               5.0         Automatic                27.0   \n",
       "1            4               5.0         Automatic                48.0   \n",
       "2            4               4.0         Automatic                57.0   \n",
       "3            4               7.0         Automatic                60.0   \n",
       "4            4               7.0         Automatic                57.0   \n",
       "\n",
       "   body_type  rating  starting_price  ending_price  max_torque_nm  \\\n",
       "0  Hatchback     4.5          399000        583000           89.0   \n",
       "1        SUV     4.5          799000       1396000          136.8   \n",
       "2        SUV     4.5         1353000       1603000          300.0   \n",
       "3        SUV     4.5         1318000       2458000          450.0   \n",
       "4        SUV     4.5         1199000       2390000          400.0   \n",
       "\n",
       "   max_torque_rpm  max_power_bhp  max_power_rp     brand  \n",
       "0            3500          65.71          5500    Maruti  \n",
       "1            4400         101.65          6000    Maruti  \n",
       "2            2800         130.00          3750  Mahindra  \n",
       "3            2800         182.38          3500  Mahindra  \n",
       "4            2750         172.45          3500  Mahindra  "
      ]
     },
     "execution_count": 890,
     "metadata": {},
     "output_type": "execute_result"
    }
   ],
   "source": [
    "df.head()"
   ]
  },
  {
   "cell_type": "code",
   "execution_count": null,
   "id": "c588c560",
   "metadata": {},
   "outputs": [],
   "source": []
  },
  {
   "cell_type": "code",
   "execution_count": 892,
   "id": "9a0ddf13",
   "metadata": {},
   "outputs": [
    {
     "data": {
      "text/html": [
       "<div>\n",
       "<style scoped>\n",
       "    .dataframe tbody tr th:only-of-type {\n",
       "        vertical-align: middle;\n",
       "    }\n",
       "\n",
       "    .dataframe tbody tr th {\n",
       "        vertical-align: top;\n",
       "    }\n",
       "\n",
       "    .dataframe thead th {\n",
       "        text-align: right;\n",
       "    }\n",
       "</style>\n",
       "<table border=\"1\" class=\"dataframe\">\n",
       "  <thead>\n",
       "    <tr style=\"text-align: right;\">\n",
       "      <th></th>\n",
       "      <th>reviews_count</th>\n",
       "      <th>fuel_type</th>\n",
       "      <th>engine_displacement</th>\n",
       "      <th>no_cylinder</th>\n",
       "      <th>seating_capacity</th>\n",
       "      <th>transmission_type</th>\n",
       "      <th>fuel_tank_capacity</th>\n",
       "      <th>body_type</th>\n",
       "      <th>rating</th>\n",
       "      <th>max_torque_nm</th>\n",
       "      <th>max_torque_rpm</th>\n",
       "      <th>max_power_bhp</th>\n",
       "      <th>max_power_rp</th>\n",
       "      <th>brand</th>\n",
       "    </tr>\n",
       "  </thead>\n",
       "  <tbody>\n",
       "    <tr>\n",
       "      <th>0</th>\n",
       "      <td>51</td>\n",
       "      <td>Petrol</td>\n",
       "      <td>998</td>\n",
       "      <td>3</td>\n",
       "      <td>5.0</td>\n",
       "      <td>Automatic</td>\n",
       "      <td>27.0</td>\n",
       "      <td>Hatchback</td>\n",
       "      <td>4.5</td>\n",
       "      <td>89.0</td>\n",
       "      <td>3500</td>\n",
       "      <td>65.71</td>\n",
       "      <td>5500</td>\n",
       "      <td>Maruti</td>\n",
       "    </tr>\n",
       "    <tr>\n",
       "      <th>1</th>\n",
       "      <td>86</td>\n",
       "      <td>Petrol</td>\n",
       "      <td>1462</td>\n",
       "      <td>4</td>\n",
       "      <td>5.0</td>\n",
       "      <td>Automatic</td>\n",
       "      <td>48.0</td>\n",
       "      <td>SUV</td>\n",
       "      <td>4.5</td>\n",
       "      <td>136.8</td>\n",
       "      <td>4400</td>\n",
       "      <td>101.65</td>\n",
       "      <td>6000</td>\n",
       "      <td>Maruti</td>\n",
       "    </tr>\n",
       "    <tr>\n",
       "      <th>2</th>\n",
       "      <td>242</td>\n",
       "      <td>Diesel</td>\n",
       "      <td>2184</td>\n",
       "      <td>4</td>\n",
       "      <td>4.0</td>\n",
       "      <td>Automatic</td>\n",
       "      <td>57.0</td>\n",
       "      <td>SUV</td>\n",
       "      <td>4.5</td>\n",
       "      <td>300.0</td>\n",
       "      <td>2800</td>\n",
       "      <td>130.00</td>\n",
       "      <td>3750</td>\n",
       "      <td>Mahindra</td>\n",
       "    </tr>\n",
       "    <tr>\n",
       "      <th>3</th>\n",
       "      <td>313</td>\n",
       "      <td>Diesel</td>\n",
       "      <td>2198</td>\n",
       "      <td>4</td>\n",
       "      <td>7.0</td>\n",
       "      <td>Automatic</td>\n",
       "      <td>60.0</td>\n",
       "      <td>SUV</td>\n",
       "      <td>4.5</td>\n",
       "      <td>450.0</td>\n",
       "      <td>2800</td>\n",
       "      <td>182.38</td>\n",
       "      <td>3500</td>\n",
       "      <td>Mahindra</td>\n",
       "    </tr>\n",
       "    <tr>\n",
       "      <th>4</th>\n",
       "      <td>107</td>\n",
       "      <td>Diesel</td>\n",
       "      <td>2198</td>\n",
       "      <td>4</td>\n",
       "      <td>7.0</td>\n",
       "      <td>Automatic</td>\n",
       "      <td>57.0</td>\n",
       "      <td>SUV</td>\n",
       "      <td>4.5</td>\n",
       "      <td>400.0</td>\n",
       "      <td>2750</td>\n",
       "      <td>172.45</td>\n",
       "      <td>3500</td>\n",
       "      <td>Mahindra</td>\n",
       "    </tr>\n",
       "    <tr>\n",
       "      <th>...</th>\n",
       "      <td>...</td>\n",
       "      <td>...</td>\n",
       "      <td>...</td>\n",
       "      <td>...</td>\n",
       "      <td>...</td>\n",
       "      <td>...</td>\n",
       "      <td>...</td>\n",
       "      <td>...</td>\n",
       "      <td>...</td>\n",
       "      <td>...</td>\n",
       "      <td>...</td>\n",
       "      <td>...</td>\n",
       "      <td>...</td>\n",
       "      <td>...</td>\n",
       "    </tr>\n",
       "    <tr>\n",
       "      <th>198</th>\n",
       "      <td>35</td>\n",
       "      <td>Petrol</td>\n",
       "      <td>1991</td>\n",
       "      <td>4</td>\n",
       "      <td>5.0</td>\n",
       "      <td>Automatic</td>\n",
       "      <td>0.0</td>\n",
       "      <td>Hatchback</td>\n",
       "      <td>4.5</td>\n",
       "      <td>500.0</td>\n",
       "      <td>5250</td>\n",
       "      <td>415.71</td>\n",
       "      <td>6750</td>\n",
       "      <td>Mercedes-Benz</td>\n",
       "    </tr>\n",
       "    <tr>\n",
       "      <th>199</th>\n",
       "      <td>3</td>\n",
       "      <td>Petrol</td>\n",
       "      <td>1998</td>\n",
       "      <td>4</td>\n",
       "      <td>5.0</td>\n",
       "      <td>Automatic</td>\n",
       "      <td>59.0</td>\n",
       "      <td>Sedan</td>\n",
       "      <td>4.5</td>\n",
       "      <td>400.0</td>\n",
       "      <td>4400</td>\n",
       "      <td>254.79</td>\n",
       "      <td>5000</td>\n",
       "      <td>BMW</td>\n",
       "    </tr>\n",
       "    <tr>\n",
       "      <th>200</th>\n",
       "      <td>2</td>\n",
       "      <td>Diesel</td>\n",
       "      <td>1956</td>\n",
       "      <td>4</td>\n",
       "      <td>7.0</td>\n",
       "      <td>Manual</td>\n",
       "      <td>60.0</td>\n",
       "      <td>SUV</td>\n",
       "      <td>4.5</td>\n",
       "      <td>350.0</td>\n",
       "      <td>2500</td>\n",
       "      <td>167.67</td>\n",
       "      <td>3750</td>\n",
       "      <td>MG</td>\n",
       "    </tr>\n",
       "    <tr>\n",
       "      <th>201</th>\n",
       "      <td>9</td>\n",
       "      <td>Petrol</td>\n",
       "      <td>3998</td>\n",
       "      <td>8</td>\n",
       "      <td>5.0</td>\n",
       "      <td>Automatic</td>\n",
       "      <td>85.0</td>\n",
       "      <td>SUV</td>\n",
       "      <td>3.5</td>\n",
       "      <td>800.0</td>\n",
       "      <td>4500</td>\n",
       "      <td>591.39</td>\n",
       "      <td>6000</td>\n",
       "      <td>Audi</td>\n",
       "    </tr>\n",
       "    <tr>\n",
       "      <th>202</th>\n",
       "      <td>4</td>\n",
       "      <td>Petrol</td>\n",
       "      <td>796</td>\n",
       "      <td>3</td>\n",
       "      <td>5.0</td>\n",
       "      <td>Manual</td>\n",
       "      <td>35.0</td>\n",
       "      <td>Hatchback</td>\n",
       "      <td>4.5</td>\n",
       "      <td>69.0</td>\n",
       "      <td>3500</td>\n",
       "      <td>47.33</td>\n",
       "      <td>6000</td>\n",
       "      <td>Maruti</td>\n",
       "    </tr>\n",
       "  </tbody>\n",
       "</table>\n",
       "<p>202 rows × 14 columns</p>\n",
       "</div>"
      ],
      "text/plain": [
       "     reviews_count fuel_type  engine_displacement  no_cylinder  \\\n",
       "0               51    Petrol                  998            3   \n",
       "1               86    Petrol                 1462            4   \n",
       "2              242    Diesel                 2184            4   \n",
       "3              313    Diesel                 2198            4   \n",
       "4              107    Diesel                 2198            4   \n",
       "..             ...       ...                  ...          ...   \n",
       "198             35    Petrol                 1991            4   \n",
       "199              3    Petrol                 1998            4   \n",
       "200              2    Diesel                 1956            4   \n",
       "201              9    Petrol                 3998            8   \n",
       "202              4    Petrol                  796            3   \n",
       "\n",
       "     seating_capacity transmission_type  fuel_tank_capacity  body_type  \\\n",
       "0                 5.0         Automatic                27.0  Hatchback   \n",
       "1                 5.0         Automatic                48.0        SUV   \n",
       "2                 4.0         Automatic                57.0        SUV   \n",
       "3                 7.0         Automatic                60.0        SUV   \n",
       "4                 7.0         Automatic                57.0        SUV   \n",
       "..                ...               ...                 ...        ...   \n",
       "198               5.0         Automatic                 0.0  Hatchback   \n",
       "199               5.0         Automatic                59.0      Sedan   \n",
       "200               7.0            Manual                60.0        SUV   \n",
       "201               5.0         Automatic                85.0        SUV   \n",
       "202               5.0            Manual                35.0  Hatchback   \n",
       "\n",
       "     rating  max_torque_nm  max_torque_rpm  max_power_bhp  max_power_rp  \\\n",
       "0       4.5           89.0            3500          65.71          5500   \n",
       "1       4.5          136.8            4400         101.65          6000   \n",
       "2       4.5          300.0            2800         130.00          3750   \n",
       "3       4.5          450.0            2800         182.38          3500   \n",
       "4       4.5          400.0            2750         172.45          3500   \n",
       "..      ...            ...             ...            ...           ...   \n",
       "198     4.5          500.0            5250         415.71          6750   \n",
       "199     4.5          400.0            4400         254.79          5000   \n",
       "200     4.5          350.0            2500         167.67          3750   \n",
       "201     3.5          800.0            4500         591.39          6000   \n",
       "202     4.5           69.0            3500          47.33          6000   \n",
       "\n",
       "             brand  \n",
       "0           Maruti  \n",
       "1           Maruti  \n",
       "2         Mahindra  \n",
       "3         Mahindra  \n",
       "4         Mahindra  \n",
       "..             ...  \n",
       "198  Mercedes-Benz  \n",
       "199            BMW  \n",
       "200             MG  \n",
       "201           Audi  \n",
       "202         Maruti  \n",
       "\n",
       "[202 rows x 14 columns]"
      ]
     },
     "execution_count": 892,
     "metadata": {},
     "output_type": "execute_result"
    }
   ],
   "source": [
    "# 문자열 까지 스케일링\n",
    "# 스케일링\n",
    "df_sc = df.drop('car_name',axis = 1)\n",
    "df_sc =df_sc.drop(['starting_price','ending_price'],axis = 1)\n",
    "df_sc"
   ]
  },
  {
   "cell_type": "code",
   "execution_count": 893,
   "id": "700b0d18",
   "metadata": {},
   "outputs": [],
   "source": [
    "from sklearn.preprocessing import LabelEncoder\n",
    "encoder = LabelEncoder()"
   ]
  },
  {
   "cell_type": "code",
   "execution_count": 895,
   "id": "c77613da",
   "metadata": {},
   "outputs": [
    {
     "data": {
      "text/html": [
       "<div>\n",
       "<style scoped>\n",
       "    .dataframe tbody tr th:only-of-type {\n",
       "        vertical-align: middle;\n",
       "    }\n",
       "\n",
       "    .dataframe tbody tr th {\n",
       "        vertical-align: top;\n",
       "    }\n",
       "\n",
       "    .dataframe thead th {\n",
       "        text-align: right;\n",
       "    }\n",
       "</style>\n",
       "<table border=\"1\" class=\"dataframe\">\n",
       "  <thead>\n",
       "    <tr style=\"text-align: right;\">\n",
       "      <th></th>\n",
       "      <th>reviews_count</th>\n",
       "      <th>fuel_type</th>\n",
       "      <th>engine_displacement</th>\n",
       "      <th>no_cylinder</th>\n",
       "      <th>seating_capacity</th>\n",
       "      <th>transmission_type</th>\n",
       "      <th>fuel_tank_capacity</th>\n",
       "      <th>body_type</th>\n",
       "      <th>rating</th>\n",
       "      <th>max_torque_nm</th>\n",
       "      <th>max_torque_rpm</th>\n",
       "      <th>max_power_bhp</th>\n",
       "      <th>max_power_rp</th>\n",
       "      <th>brand</th>\n",
       "    </tr>\n",
       "  </thead>\n",
       "  <tbody>\n",
       "    <tr>\n",
       "      <th>0</th>\n",
       "      <td>51</td>\n",
       "      <td>3</td>\n",
       "      <td>998</td>\n",
       "      <td>3</td>\n",
       "      <td>5.0</td>\n",
       "      <td>0</td>\n",
       "      <td>27.0</td>\n",
       "      <td>2</td>\n",
       "      <td>4.5</td>\n",
       "      <td>89.0</td>\n",
       "      <td>3500</td>\n",
       "      <td>65.71</td>\n",
       "      <td>5500</td>\n",
       "      <td>22</td>\n",
       "    </tr>\n",
       "    <tr>\n",
       "      <th>1</th>\n",
       "      <td>86</td>\n",
       "      <td>3</td>\n",
       "      <td>1462</td>\n",
       "      <td>4</td>\n",
       "      <td>5.0</td>\n",
       "      <td>0</td>\n",
       "      <td>48.0</td>\n",
       "      <td>8</td>\n",
       "      <td>4.5</td>\n",
       "      <td>136.8</td>\n",
       "      <td>4400</td>\n",
       "      <td>101.65</td>\n",
       "      <td>6000</td>\n",
       "      <td>22</td>\n",
       "    </tr>\n",
       "    <tr>\n",
       "      <th>2</th>\n",
       "      <td>242</td>\n",
       "      <td>1</td>\n",
       "      <td>2184</td>\n",
       "      <td>4</td>\n",
       "      <td>4.0</td>\n",
       "      <td>0</td>\n",
       "      <td>57.0</td>\n",
       "      <td>8</td>\n",
       "      <td>4.5</td>\n",
       "      <td>300.0</td>\n",
       "      <td>2800</td>\n",
       "      <td>130.00</td>\n",
       "      <td>3750</td>\n",
       "      <td>21</td>\n",
       "    </tr>\n",
       "    <tr>\n",
       "      <th>3</th>\n",
       "      <td>313</td>\n",
       "      <td>1</td>\n",
       "      <td>2198</td>\n",
       "      <td>4</td>\n",
       "      <td>7.0</td>\n",
       "      <td>0</td>\n",
       "      <td>60.0</td>\n",
       "      <td>8</td>\n",
       "      <td>4.5</td>\n",
       "      <td>450.0</td>\n",
       "      <td>2800</td>\n",
       "      <td>182.38</td>\n",
       "      <td>3500</td>\n",
       "      <td>21</td>\n",
       "    </tr>\n",
       "    <tr>\n",
       "      <th>4</th>\n",
       "      <td>107</td>\n",
       "      <td>1</td>\n",
       "      <td>2198</td>\n",
       "      <td>4</td>\n",
       "      <td>7.0</td>\n",
       "      <td>0</td>\n",
       "      <td>57.0</td>\n",
       "      <td>8</td>\n",
       "      <td>4.5</td>\n",
       "      <td>400.0</td>\n",
       "      <td>2750</td>\n",
       "      <td>172.45</td>\n",
       "      <td>3500</td>\n",
       "      <td>21</td>\n",
       "    </tr>\n",
       "    <tr>\n",
       "      <th>...</th>\n",
       "      <td>...</td>\n",
       "      <td>...</td>\n",
       "      <td>...</td>\n",
       "      <td>...</td>\n",
       "      <td>...</td>\n",
       "      <td>...</td>\n",
       "      <td>...</td>\n",
       "      <td>...</td>\n",
       "      <td>...</td>\n",
       "      <td>...</td>\n",
       "      <td>...</td>\n",
       "      <td>...</td>\n",
       "      <td>...</td>\n",
       "      <td>...</td>\n",
       "    </tr>\n",
       "    <tr>\n",
       "      <th>198</th>\n",
       "      <td>35</td>\n",
       "      <td>3</td>\n",
       "      <td>1991</td>\n",
       "      <td>4</td>\n",
       "      <td>5.0</td>\n",
       "      <td>0</td>\n",
       "      <td>0.0</td>\n",
       "      <td>2</td>\n",
       "      <td>4.5</td>\n",
       "      <td>500.0</td>\n",
       "      <td>5250</td>\n",
       "      <td>415.71</td>\n",
       "      <td>6750</td>\n",
       "      <td>24</td>\n",
       "    </tr>\n",
       "    <tr>\n",
       "      <th>199</th>\n",
       "      <td>3</td>\n",
       "      <td>3</td>\n",
       "      <td>1998</td>\n",
       "      <td>4</td>\n",
       "      <td>5.0</td>\n",
       "      <td>0</td>\n",
       "      <td>59.0</td>\n",
       "      <td>9</td>\n",
       "      <td>4.5</td>\n",
       "      <td>400.0</td>\n",
       "      <td>4400</td>\n",
       "      <td>254.79</td>\n",
       "      <td>5000</td>\n",
       "      <td>2</td>\n",
       "    </tr>\n",
       "    <tr>\n",
       "      <th>200</th>\n",
       "      <td>2</td>\n",
       "      <td>1</td>\n",
       "      <td>1956</td>\n",
       "      <td>4</td>\n",
       "      <td>7.0</td>\n",
       "      <td>2</td>\n",
       "      <td>60.0</td>\n",
       "      <td>8</td>\n",
       "      <td>4.5</td>\n",
       "      <td>350.0</td>\n",
       "      <td>2500</td>\n",
       "      <td>167.67</td>\n",
       "      <td>3750</td>\n",
       "      <td>20</td>\n",
       "    </tr>\n",
       "    <tr>\n",
       "      <th>201</th>\n",
       "      <td>9</td>\n",
       "      <td>3</td>\n",
       "      <td>3998</td>\n",
       "      <td>8</td>\n",
       "      <td>5.0</td>\n",
       "      <td>0</td>\n",
       "      <td>85.0</td>\n",
       "      <td>8</td>\n",
       "      <td>3.5</td>\n",
       "      <td>800.0</td>\n",
       "      <td>4500</td>\n",
       "      <td>591.39</td>\n",
       "      <td>6000</td>\n",
       "      <td>1</td>\n",
       "    </tr>\n",
       "    <tr>\n",
       "      <th>202</th>\n",
       "      <td>4</td>\n",
       "      <td>3</td>\n",
       "      <td>796</td>\n",
       "      <td>3</td>\n",
       "      <td>5.0</td>\n",
       "      <td>2</td>\n",
       "      <td>35.0</td>\n",
       "      <td>2</td>\n",
       "      <td>4.5</td>\n",
       "      <td>69.0</td>\n",
       "      <td>3500</td>\n",
       "      <td>47.33</td>\n",
       "      <td>6000</td>\n",
       "      <td>22</td>\n",
       "    </tr>\n",
       "  </tbody>\n",
       "</table>\n",
       "<p>202 rows × 14 columns</p>\n",
       "</div>"
      ],
      "text/plain": [
       "     reviews_count  fuel_type  engine_displacement  no_cylinder  \\\n",
       "0               51          3                  998            3   \n",
       "1               86          3                 1462            4   \n",
       "2              242          1                 2184            4   \n",
       "3              313          1                 2198            4   \n",
       "4              107          1                 2198            4   \n",
       "..             ...        ...                  ...          ...   \n",
       "198             35          3                 1991            4   \n",
       "199              3          3                 1998            4   \n",
       "200              2          1                 1956            4   \n",
       "201              9          3                 3998            8   \n",
       "202              4          3                  796            3   \n",
       "\n",
       "     seating_capacity  transmission_type  fuel_tank_capacity  body_type  \\\n",
       "0                 5.0                  0                27.0          2   \n",
       "1                 5.0                  0                48.0          8   \n",
       "2                 4.0                  0                57.0          8   \n",
       "3                 7.0                  0                60.0          8   \n",
       "4                 7.0                  0                57.0          8   \n",
       "..                ...                ...                 ...        ...   \n",
       "198               5.0                  0                 0.0          2   \n",
       "199               5.0                  0                59.0          9   \n",
       "200               7.0                  2                60.0          8   \n",
       "201               5.0                  0                85.0          8   \n",
       "202               5.0                  2                35.0          2   \n",
       "\n",
       "     rating  max_torque_nm  max_torque_rpm  max_power_bhp  max_power_rp  brand  \n",
       "0       4.5           89.0            3500          65.71          5500     22  \n",
       "1       4.5          136.8            4400         101.65          6000     22  \n",
       "2       4.5          300.0            2800         130.00          3750     21  \n",
       "3       4.5          450.0            2800         182.38          3500     21  \n",
       "4       4.5          400.0            2750         172.45          3500     21  \n",
       "..      ...            ...             ...            ...           ...    ...  \n",
       "198     4.5          500.0            5250         415.71          6750     24  \n",
       "199     4.5          400.0            4400         254.79          5000      2  \n",
       "200     4.5          350.0            2500         167.67          3750     20  \n",
       "201     3.5          800.0            4500         591.39          6000      1  \n",
       "202     4.5           69.0            3500          47.33          6000     22  \n",
       "\n",
       "[202 rows x 14 columns]"
      ]
     },
     "execution_count": 895,
     "metadata": {},
     "output_type": "execute_result"
    }
   ],
   "source": [
    "encoded = df_sc[['fuel_type','transmission_type','body_type','brand']].apply(encoder.fit_transform)\n",
    "df_sc = df_sc.assign(fuel_type = encoded['fuel_type'],\n",
    "                    transmission_type = encoded['transmission_type'],\n",
    "                    body_type = encoded['body_type'],\n",
    "                    brand = encoded['brand'])\n",
    "df_sc"
   ]
  },
  {
   "cell_type": "code",
   "execution_count": 901,
   "id": "791d5c37",
   "metadata": {},
   "outputs": [
    {
     "data": {
      "text/html": [
       "<div>\n",
       "<style scoped>\n",
       "    .dataframe tbody tr th:only-of-type {\n",
       "        vertical-align: middle;\n",
       "    }\n",
       "\n",
       "    .dataframe tbody tr th {\n",
       "        vertical-align: top;\n",
       "    }\n",
       "\n",
       "    .dataframe thead th {\n",
       "        text-align: right;\n",
       "    }\n",
       "</style>\n",
       "<table border=\"1\" class=\"dataframe\">\n",
       "  <thead>\n",
       "    <tr style=\"text-align: right;\">\n",
       "      <th></th>\n",
       "      <th>reviews_count</th>\n",
       "      <th>fuel_type</th>\n",
       "      <th>engine_displacement</th>\n",
       "      <th>no_cylinder</th>\n",
       "      <th>seating_capacity</th>\n",
       "      <th>transmission_type</th>\n",
       "      <th>fuel_tank_capacity</th>\n",
       "      <th>body_type</th>\n",
       "      <th>rating</th>\n",
       "      <th>max_torque_nm</th>\n",
       "      <th>max_torque_rpm</th>\n",
       "      <th>max_power_bhp</th>\n",
       "      <th>max_power_rp</th>\n",
       "      <th>brand</th>\n",
       "    </tr>\n",
       "  </thead>\n",
       "  <tbody>\n",
       "    <tr>\n",
       "      <th>0</th>\n",
       "      <td>-0.217258</td>\n",
       "      <td>0.746385</td>\n",
       "      <td>-0.872727</td>\n",
       "      <td>-0.669719</td>\n",
       "      <td>-0.012823</td>\n",
       "      <td>-0.495951</td>\n",
       "      <td>-0.659205</td>\n",
       "      <td>-1.327409</td>\n",
       "      <td>0.238602</td>\n",
       "      <td>-1.321698</td>\n",
       "      <td>0.086805</td>\n",
       "      <td>-1.037618</td>\n",
       "      <td>0.349714</td>\n",
       "      <td>0.310473</td>\n",
       "    </tr>\n",
       "    <tr>\n",
       "      <th>1</th>\n",
       "      <td>-0.105872</td>\n",
       "      <td>0.746385</td>\n",
       "      <td>-0.561126</td>\n",
       "      <td>-0.274154</td>\n",
       "      <td>-0.012823</td>\n",
       "      <td>-0.495951</td>\n",
       "      <td>0.068783</td>\n",
       "      <td>0.574269</td>\n",
       "      <td>0.238602</td>\n",
       "      <td>-1.119648</td>\n",
       "      <td>0.657365</td>\n",
       "      <td>-0.850371</td>\n",
       "      <td>0.604556</td>\n",
       "      <td>0.310473</td>\n",
       "    </tr>\n",
       "    <tr>\n",
       "      <th>2</th>\n",
       "      <td>0.390593</td>\n",
       "      <td>-1.304905</td>\n",
       "      <td>-0.076265</td>\n",
       "      <td>-0.274154</td>\n",
       "      <td>-0.876252</td>\n",
       "      <td>-0.495951</td>\n",
       "      <td>0.380778</td>\n",
       "      <td>0.574269</td>\n",
       "      <td>0.238602</td>\n",
       "      <td>-0.429802</td>\n",
       "      <td>-0.356964</td>\n",
       "      <td>-0.702668</td>\n",
       "      <td>-0.542234</td>\n",
       "      <td>0.212785</td>\n",
       "    </tr>\n",
       "    <tr>\n",
       "      <th>3</th>\n",
       "      <td>0.616548</td>\n",
       "      <td>-1.304905</td>\n",
       "      <td>-0.066863</td>\n",
       "      <td>-0.274154</td>\n",
       "      <td>1.714035</td>\n",
       "      <td>-0.495951</td>\n",
       "      <td>0.484776</td>\n",
       "      <td>0.574269</td>\n",
       "      <td>0.238602</td>\n",
       "      <td>0.204248</td>\n",
       "      <td>-0.356964</td>\n",
       "      <td>-0.429769</td>\n",
       "      <td>-0.669655</td>\n",
       "      <td>0.212785</td>\n",
       "    </tr>\n",
       "    <tr>\n",
       "      <th>4</th>\n",
       "      <td>-0.039040</td>\n",
       "      <td>-1.304905</td>\n",
       "      <td>-0.066863</td>\n",
       "      <td>-0.274154</td>\n",
       "      <td>1.714035</td>\n",
       "      <td>-0.495951</td>\n",
       "      <td>0.380778</td>\n",
       "      <td>0.574269</td>\n",
       "      <td>0.238602</td>\n",
       "      <td>-0.007102</td>\n",
       "      <td>-0.388662</td>\n",
       "      <td>-0.481504</td>\n",
       "      <td>-0.669655</td>\n",
       "      <td>0.212785</td>\n",
       "    </tr>\n",
       "    <tr>\n",
       "      <th>...</th>\n",
       "      <td>...</td>\n",
       "      <td>...</td>\n",
       "      <td>...</td>\n",
       "      <td>...</td>\n",
       "      <td>...</td>\n",
       "      <td>...</td>\n",
       "      <td>...</td>\n",
       "      <td>...</td>\n",
       "      <td>...</td>\n",
       "      <td>...</td>\n",
       "      <td>...</td>\n",
       "      <td>...</td>\n",
       "      <td>...</td>\n",
       "      <td>...</td>\n",
       "    </tr>\n",
       "    <tr>\n",
       "      <th>198</th>\n",
       "      <td>-0.268178</td>\n",
       "      <td>0.746385</td>\n",
       "      <td>-0.205874</td>\n",
       "      <td>-0.274154</td>\n",
       "      <td>-0.012823</td>\n",
       "      <td>-0.495951</td>\n",
       "      <td>-1.595190</td>\n",
       "      <td>-1.327409</td>\n",
       "      <td>0.238602</td>\n",
       "      <td>0.415598</td>\n",
       "      <td>1.196227</td>\n",
       "      <td>0.785878</td>\n",
       "      <td>0.986820</td>\n",
       "      <td>0.505848</td>\n",
       "    </tr>\n",
       "    <tr>\n",
       "      <th>199</th>\n",
       "      <td>-0.370017</td>\n",
       "      <td>0.746385</td>\n",
       "      <td>-0.201173</td>\n",
       "      <td>-0.274154</td>\n",
       "      <td>-0.012823</td>\n",
       "      <td>-0.495951</td>\n",
       "      <td>0.450110</td>\n",
       "      <td>0.891215</td>\n",
       "      <td>0.238602</td>\n",
       "      <td>-0.007102</td>\n",
       "      <td>0.657365</td>\n",
       "      <td>-0.052514</td>\n",
       "      <td>0.094872</td>\n",
       "      <td>-1.643282</td>\n",
       "    </tr>\n",
       "    <tr>\n",
       "      <th>200</th>\n",
       "      <td>-0.373199</td>\n",
       "      <td>-1.304905</td>\n",
       "      <td>-0.229379</td>\n",
       "      <td>-0.274154</td>\n",
       "      <td>1.714035</td>\n",
       "      <td>2.286883</td>\n",
       "      <td>0.484776</td>\n",
       "      <td>0.574269</td>\n",
       "      <td>0.238602</td>\n",
       "      <td>-0.218452</td>\n",
       "      <td>-0.547151</td>\n",
       "      <td>-0.506408</td>\n",
       "      <td>-0.542234</td>\n",
       "      <td>0.115097</td>\n",
       "    </tr>\n",
       "    <tr>\n",
       "      <th>201</th>\n",
       "      <td>-0.350922</td>\n",
       "      <td>0.746385</td>\n",
       "      <td>1.141933</td>\n",
       "      <td>1.308105</td>\n",
       "      <td>-0.012823</td>\n",
       "      <td>-0.495951</td>\n",
       "      <td>1.351429</td>\n",
       "      <td>0.574269</td>\n",
       "      <td>-3.331590</td>\n",
       "      <td>1.683697</td>\n",
       "      <td>0.720761</td>\n",
       "      <td>1.701169</td>\n",
       "      <td>0.604556</td>\n",
       "      <td>-1.740970</td>\n",
       "    </tr>\n",
       "    <tr>\n",
       "      <th>202</th>\n",
       "      <td>-0.366834</td>\n",
       "      <td>0.746385</td>\n",
       "      <td>-1.008380</td>\n",
       "      <td>-0.669719</td>\n",
       "      <td>-0.012823</td>\n",
       "      <td>2.286883</td>\n",
       "      <td>-0.381876</td>\n",
       "      <td>-1.327409</td>\n",
       "      <td>0.238602</td>\n",
       "      <td>-1.406238</td>\n",
       "      <td>0.086805</td>\n",
       "      <td>-1.133378</td>\n",
       "      <td>0.604556</td>\n",
       "      <td>0.310473</td>\n",
       "    </tr>\n",
       "  </tbody>\n",
       "</table>\n",
       "<p>202 rows × 14 columns</p>\n",
       "</div>"
      ],
      "text/plain": [
       "     reviews_count  fuel_type  engine_displacement  no_cylinder  \\\n",
       "0        -0.217258   0.746385            -0.872727    -0.669719   \n",
       "1        -0.105872   0.746385            -0.561126    -0.274154   \n",
       "2         0.390593  -1.304905            -0.076265    -0.274154   \n",
       "3         0.616548  -1.304905            -0.066863    -0.274154   \n",
       "4        -0.039040  -1.304905            -0.066863    -0.274154   \n",
       "..             ...        ...                  ...          ...   \n",
       "198      -0.268178   0.746385            -0.205874    -0.274154   \n",
       "199      -0.370017   0.746385            -0.201173    -0.274154   \n",
       "200      -0.373199  -1.304905            -0.229379    -0.274154   \n",
       "201      -0.350922   0.746385             1.141933     1.308105   \n",
       "202      -0.366834   0.746385            -1.008380    -0.669719   \n",
       "\n",
       "     seating_capacity  transmission_type  fuel_tank_capacity  body_type  \\\n",
       "0           -0.012823          -0.495951           -0.659205  -1.327409   \n",
       "1           -0.012823          -0.495951            0.068783   0.574269   \n",
       "2           -0.876252          -0.495951            0.380778   0.574269   \n",
       "3            1.714035          -0.495951            0.484776   0.574269   \n",
       "4            1.714035          -0.495951            0.380778   0.574269   \n",
       "..                ...                ...                 ...        ...   \n",
       "198         -0.012823          -0.495951           -1.595190  -1.327409   \n",
       "199         -0.012823          -0.495951            0.450110   0.891215   \n",
       "200          1.714035           2.286883            0.484776   0.574269   \n",
       "201         -0.012823          -0.495951            1.351429   0.574269   \n",
       "202         -0.012823           2.286883           -0.381876  -1.327409   \n",
       "\n",
       "       rating  max_torque_nm  max_torque_rpm  max_power_bhp  max_power_rp  \\\n",
       "0    0.238602      -1.321698        0.086805      -1.037618      0.349714   \n",
       "1    0.238602      -1.119648        0.657365      -0.850371      0.604556   \n",
       "2    0.238602      -0.429802       -0.356964      -0.702668     -0.542234   \n",
       "3    0.238602       0.204248       -0.356964      -0.429769     -0.669655   \n",
       "4    0.238602      -0.007102       -0.388662      -0.481504     -0.669655   \n",
       "..        ...            ...             ...            ...           ...   \n",
       "198  0.238602       0.415598        1.196227       0.785878      0.986820   \n",
       "199  0.238602      -0.007102        0.657365      -0.052514      0.094872   \n",
       "200  0.238602      -0.218452       -0.547151      -0.506408     -0.542234   \n",
       "201 -3.331590       1.683697        0.720761       1.701169      0.604556   \n",
       "202  0.238602      -1.406238        0.086805      -1.133378      0.604556   \n",
       "\n",
       "        brand  \n",
       "0    0.310473  \n",
       "1    0.310473  \n",
       "2    0.212785  \n",
       "3    0.212785  \n",
       "4    0.212785  \n",
       "..        ...  \n",
       "198  0.505848  \n",
       "199 -1.643282  \n",
       "200  0.115097  \n",
       "201 -1.740970  \n",
       "202  0.310473  \n",
       "\n",
       "[202 rows x 14 columns]"
      ]
     },
     "execution_count": 901,
     "metadata": {},
     "output_type": "execute_result"
    }
   ],
   "source": [
    "df_sc_sc = scaler.fit_transform(df_sc)\n",
    "df_sc = df_sc.assign(reviews_count = df_sc_sc[:,0],\n",
    "                     fuel_type = df_sc_sc[:,1],\n",
    "                      engine_displacement = df_sc_sc[:,2],\n",
    "                      no_cylinder = df_sc_sc[:,3],\n",
    "                      seating_capacity = df_sc_sc[:,4],\n",
    "                      transmission_type = df_sc_sc[:,5],\n",
    "                      fuel_tank_capacity = df_sc_sc[:,6],\n",
    "                      body_type = df_sc_sc[:,7],\n",
    "                       rating = df_sc_sc[:,8],\n",
    "                       max_torque_nm = df_sc_sc[:,9],\n",
    "                       max_torque_rpm = df_sc_sc[:,10],\n",
    "                       max_power_bhp = df_sc_sc[:,11],\n",
    "                       max_power_rp = df_sc_sc[:,12],\n",
    "                     brand = df_sc_sc[:,13]\n",
    "                      )\n",
    "df_sc"
   ]
  },
  {
   "cell_type": "code",
   "execution_count": 903,
   "id": "2b590dd6",
   "metadata": {},
   "outputs": [],
   "source": [
    "rfsc = RandomForestRegressor(random_state= 42, n_estimators= 1000)"
   ]
  },
  {
   "cell_type": "code",
   "execution_count": 904,
   "id": "d6ac6e3f",
   "metadata": {},
   "outputs": [],
   "source": [
    "x = df_sc\n",
    "y = df_num['starting_price']\n",
    "\n",
    "x_train,x_test,y_train,y_test = train_test_split(x,y,test_size= 0.3, shuffle=True)"
   ]
  },
  {
   "cell_type": "code",
   "execution_count": 905,
   "id": "677f7074",
   "metadata": {},
   "outputs": [
    {
     "data": {
      "text/plain": [
       "RandomForestRegressor(n_estimators=1000, random_state=42)"
      ]
     },
     "execution_count": 905,
     "metadata": {},
     "output_type": "execute_result"
    }
   ],
   "source": [
    "rfsc.fit(x_train,y_train)"
   ]
  },
  {
   "cell_type": "code",
   "execution_count": 906,
   "id": "6e2bac88",
   "metadata": {},
   "outputs": [],
   "source": [
    "pred_rfsc = rfsc.predict(x_test)"
   ]
  },
  {
   "cell_type": "code",
   "execution_count": 907,
   "id": "d4ab4ec9",
   "metadata": {},
   "outputs": [
    {
     "data": {
      "text/plain": [
       "<AxesSubplot:>"
      ]
     },
     "execution_count": 907,
     "metadata": {},
     "output_type": "execute_result"
    },
    {
     "data": {
      "image/png": "[encoded data removed]",
      "text/plain": [
       "<Figure size 432x288 with 1 Axes>"
      ]
     },
     "metadata": {
      "needs_background": "light"
     },
     "output_type": "display_data"
    }
   ],
   "source": [
    "df3 = pd.DataFrame({'Actual': y_test, 'Predicted' : pred_rfsc})\n",
    "sns.lineplot(data = df3)"
   ]
  },
  {
   "cell_type": "code",
   "execution_count": 909,
   "id": "737e49e9",
   "metadata": {},
   "outputs": [
    {
     "data": {
      "image/png": "[encoded data removed]",
      "text/plain": [
       "<Figure size 576x432 with 1 Axes>"
      ]
     },
     "metadata": {
      "needs_background": "light"
     },
     "output_type": "display_data"
    }
   ],
   "source": [
    "ftr_importances_values = rfsc.feature_importances_\n",
    "ftr_importances = pd.Series(ftr_importances_values, index = x_train.columns)\n",
    "ftr_top20 = ftr_importances.sort_values(ascending=False)[:30]\n",
    "\n",
    "plt.figure(figsize=(8,6))\n",
    "plt.title('Feature Importances')\n",
    "sns.barplot(x=ftr_top20, y=ftr_top20.index)\n",
    "# plt.rc('xtick', labelsize=5)\n",
    "plt.show()"
   ]
  },
  {
   "cell_type": "code",
   "execution_count": null,
   "id": "b8155883",
   "metadata": {},
   "outputs": [],
   "source": []
  }
 ],
 "metadata": {
  "kernelspec": {
   "display_name": "Python 3 (ipykernel)",
   "language": "python",
   "name": "python3"
  },
  "language_info": {
   "codemirror_mode": {
    "name": "ipython",
    "version": 3
   },
   "file_extension": ".py",
   "mimetype": "text/x-python",
   "name": "python",
   "nbconvert_exporter": "python",
   "pygments_lexer": "ipython3",
   "version": "3.9.12"
  }
 },
 "nbformat": 4,
 "nbformat_minor": 5
}
