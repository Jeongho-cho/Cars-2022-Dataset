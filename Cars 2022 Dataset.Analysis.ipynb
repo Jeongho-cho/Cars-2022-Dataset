{
 "cells": [
  {
   "cell_type": "markdown",
   "id": "c062b498",
   "metadata": {},
   "source": [
    "## Data : Cars 2022 Dataset\n",
    " * 2022년 인도시장에 출시된 자동차의 16가지 항목 데이터\n",
    " * Data From : https://www.kaggle.com/datasets/tr1gg3rtrash/cars-2022-dataset"
   ]
  },
  {
   "cell_type": "markdown",
   "id": "c7e94a81",
   "metadata": {},
   "source": [
    "### 1. 데이터 불러오기"
   ]
  },
  {
   "cell_type": "markdown",
   "id": "ad28d191",
   "metadata": {},
   "source": [
    " - 기본 라이브러리 불러오기"
   ]
  },
  {
   "cell_type": "code",
   "execution_count": 1,
   "id": "d57442e6",
   "metadata": {},
   "outputs": [],
   "source": [
    "import pandas as pd\n",
    "import numpy as np\n",
    "import warnings\n",
    "warnings.filterwarnings('ignore')"
   ]
  },
  {
   "cell_type": "markdown",
   "id": "c9e04992",
   "metadata": {},
   "source": [
    " - CSV 파일 불러오기"
   ]
  },
  {
   "cell_type": "code",
   "execution_count": 2,
   "id": "52fbc6af",
   "metadata": {},
   "outputs": [],
   "source": [
    "df = pd.read_csv('./CARS_1.csv')"
   ]
  },
  {
   "cell_type": "markdown",
   "id": "f663e176",
   "metadata": {},
   "source": [
    " - 데이터 살펴보기"
   ]
  },
  {
   "cell_type": "code",
   "execution_count": 3,
   "id": "587c1dba",
   "metadata": {},
   "outputs": [
    {
     "data": {
      "text/html": [
       "<div>\n",
       "<style scoped>\n",
       "    .dataframe tbody tr th:only-of-type {\n",
       "        vertical-align: middle;\n",
       "    }\n",
       "\n",
       "    .dataframe tbody tr th {\n",
       "        vertical-align: top;\n",
       "    }\n",
       "\n",
       "    .dataframe thead th {\n",
       "        text-align: right;\n",
       "    }\n",
       "</style>\n",
       "<table border=\"1\" class=\"dataframe\">\n",
       "  <thead>\n",
       "    <tr style=\"text-align: right;\">\n",
       "      <th></th>\n",
       "      <th>car_name</th>\n",
       "      <th>reviews_count</th>\n",
       "      <th>fuel_type</th>\n",
       "      <th>engine_displacement</th>\n",
       "      <th>no_cylinder</th>\n",
       "      <th>seating_capacity</th>\n",
       "      <th>transmission_type</th>\n",
       "      <th>fuel_tank_capacity</th>\n",
       "      <th>body_type</th>\n",
       "      <th>rating</th>\n",
       "      <th>starting_price</th>\n",
       "      <th>ending_price</th>\n",
       "      <th>max_torque_nm</th>\n",
       "      <th>max_torque_rpm</th>\n",
       "      <th>max_power_bhp</th>\n",
       "      <th>max_power_rp</th>\n",
       "    </tr>\n",
       "  </thead>\n",
       "  <tbody>\n",
       "    <tr>\n",
       "      <th>0</th>\n",
       "      <td>Maruti Alto K10</td>\n",
       "      <td>51</td>\n",
       "      <td>Petrol</td>\n",
       "      <td>998</td>\n",
       "      <td>3</td>\n",
       "      <td>5.0</td>\n",
       "      <td>Automatic</td>\n",
       "      <td>27.0</td>\n",
       "      <td>Hatchback</td>\n",
       "      <td>4.5</td>\n",
       "      <td>399000</td>\n",
       "      <td>583000</td>\n",
       "      <td>89.0</td>\n",
       "      <td>3500</td>\n",
       "      <td>65.71</td>\n",
       "      <td>5500</td>\n",
       "    </tr>\n",
       "    <tr>\n",
       "      <th>1</th>\n",
       "      <td>Maruti Brezza</td>\n",
       "      <td>86</td>\n",
       "      <td>Petrol</td>\n",
       "      <td>1462</td>\n",
       "      <td>4</td>\n",
       "      <td>5.0</td>\n",
       "      <td>Automatic</td>\n",
       "      <td>48.0</td>\n",
       "      <td>SUV</td>\n",
       "      <td>4.5</td>\n",
       "      <td>799000</td>\n",
       "      <td>1396000</td>\n",
       "      <td>136.8</td>\n",
       "      <td>4400</td>\n",
       "      <td>101.65</td>\n",
       "      <td>6000</td>\n",
       "    </tr>\n",
       "    <tr>\n",
       "      <th>2</th>\n",
       "      <td>Mahindra Thar</td>\n",
       "      <td>242</td>\n",
       "      <td>Diesel</td>\n",
       "      <td>2184</td>\n",
       "      <td>4</td>\n",
       "      <td>4.0</td>\n",
       "      <td>Automatic</td>\n",
       "      <td>57.0</td>\n",
       "      <td>SUV</td>\n",
       "      <td>4.5</td>\n",
       "      <td>1353000</td>\n",
       "      <td>1603000</td>\n",
       "      <td>300.0</td>\n",
       "      <td>2800</td>\n",
       "      <td>130.00</td>\n",
       "      <td>3750</td>\n",
       "    </tr>\n",
       "    <tr>\n",
       "      <th>3</th>\n",
       "      <td>Mahindra XUV700</td>\n",
       "      <td>313</td>\n",
       "      <td>Diesel</td>\n",
       "      <td>2198</td>\n",
       "      <td>4</td>\n",
       "      <td>7.0</td>\n",
       "      <td>Automatic</td>\n",
       "      <td>60.0</td>\n",
       "      <td>SUV</td>\n",
       "      <td>4.5</td>\n",
       "      <td>1318000</td>\n",
       "      <td>2458000</td>\n",
       "      <td>450.0</td>\n",
       "      <td>2800</td>\n",
       "      <td>182.38</td>\n",
       "      <td>3500</td>\n",
       "    </tr>\n",
       "    <tr>\n",
       "      <th>4</th>\n",
       "      <td>Mahindra Scorpio-N</td>\n",
       "      <td>107</td>\n",
       "      <td>Diesel</td>\n",
       "      <td>2198</td>\n",
       "      <td>4</td>\n",
       "      <td>7.0</td>\n",
       "      <td>Automatic</td>\n",
       "      <td>57.0</td>\n",
       "      <td>SUV</td>\n",
       "      <td>4.5</td>\n",
       "      <td>1199000</td>\n",
       "      <td>2390000</td>\n",
       "      <td>400.0</td>\n",
       "      <td>2750</td>\n",
       "      <td>172.45</td>\n",
       "      <td>3500</td>\n",
       "    </tr>\n",
       "  </tbody>\n",
       "</table>\n",
       "</div>"
      ],
      "text/plain": [
       "             car_name  reviews_count fuel_type  engine_displacement  \\\n",
       "0     Maruti Alto K10             51    Petrol                  998   \n",
       "1       Maruti Brezza             86    Petrol                 1462   \n",
       "2       Mahindra Thar            242    Diesel                 2184   \n",
       "3     Mahindra XUV700            313    Diesel                 2198   \n",
       "4  Mahindra Scorpio-N            107    Diesel                 2198   \n",
       "\n",
       "   no_cylinder  seating_capacity transmission_type  fuel_tank_capacity  \\\n",
       "0            3               5.0         Automatic                27.0   \n",
       "1            4               5.0         Automatic                48.0   \n",
       "2            4               4.0         Automatic                57.0   \n",
       "3            4               7.0         Automatic                60.0   \n",
       "4            4               7.0         Automatic                57.0   \n",
       "\n",
       "   body_type  rating  starting_price  ending_price  max_torque_nm  \\\n",
       "0  Hatchback     4.5          399000        583000           89.0   \n",
       "1        SUV     4.5          799000       1396000          136.8   \n",
       "2        SUV     4.5         1353000       1603000          300.0   \n",
       "3        SUV     4.5         1318000       2458000          450.0   \n",
       "4        SUV     4.5         1199000       2390000          400.0   \n",
       "\n",
       "   max_torque_rpm  max_power_bhp  max_power_rp  \n",
       "0            3500          65.71          5500  \n",
       "1            4400         101.65          6000  \n",
       "2            2800         130.00          3750  \n",
       "3            2800         182.38          3500  \n",
       "4            2750         172.45          3500  "
      ]
     },
     "execution_count": 3,
     "metadata": {},
     "output_type": "execute_result"
    }
   ],
   "source": [
    "df.head()"
   ]
  },
  {
   "cell_type": "markdown",
   "id": "f123d026",
   "metadata": {},
   "source": [
    "<칼럼 설명>\n",
    " - car_name : 자동차명\n",
    " - reviews_count: 리뷰 개수\n",
    " - fuel_type : 자동차가 사용하는 연료 종류\n",
    " - engine_displacement : 엔진 베기량\n",
    " - no_cylinder : 실린더 개수\n",
    " - seating_capacity : 좌석 수\n",
    " - transmission_type : 변속기 종류\n",
    " - fuel_tank_capacity : 연료 탱크 크기\n",
    " - body_type : 차종\n",
    " - rating : 점수\n",
    " - starting_price : 자동차의 출시 가격\n",
    " - ending_price : 자동차의 마감 가격\n",
    " - max_torque_nm : 자동차가 제공할수 있는 최대 토크\n",
    " - max_torque_rpm : 최대 RPM를 낼 수 있는 토크\n",
    " - max_power_bhp : 자동차의 최대 마력\n",
    " - max_power_rp : 최대 마력에 도달할 수 있는 RPM"
   ]
  },
  {
   "cell_type": "markdown",
   "id": "0be48ddc",
   "metadata": {},
   "source": [
    "### 2. 데이터 전처리"
   ]
  },
  {
   "cell_type": "code",
   "execution_count": 4,
   "id": "7e117520",
   "metadata": {},
   "outputs": [
    {
     "name": "stdout",
     "output_type": "stream",
     "text": [
      "<class 'pandas.core.frame.DataFrame'>\n",
      "RangeIndex: 203 entries, 0 to 202\n",
      "Data columns (total 16 columns):\n",
      " #   Column               Non-Null Count  Dtype  \n",
      "---  ------               --------------  -----  \n",
      " 0   car_name             203 non-null    object \n",
      " 1   reviews_count        203 non-null    int64  \n",
      " 2   fuel_type            203 non-null    object \n",
      " 3   engine_displacement  203 non-null    int64  \n",
      " 4   no_cylinder          203 non-null    int64  \n",
      " 5   seating_capacity     202 non-null    float64\n",
      " 6   transmission_type    203 non-null    object \n",
      " 7   fuel_tank_capacity   203 non-null    float64\n",
      " 8   body_type            203 non-null    object \n",
      " 9   rating               203 non-null    float64\n",
      " 10  starting_price       203 non-null    int64  \n",
      " 11  ending_price         203 non-null    int64  \n",
      " 12  max_torque_nm        203 non-null    float64\n",
      " 13  max_torque_rpm       203 non-null    int64  \n",
      " 14  max_power_bhp        203 non-null    float64\n",
      " 15  max_power_rp         203 non-null    int64  \n",
      "dtypes: float64(5), int64(7), object(4)\n",
      "memory usage: 25.5+ KB\n"
     ]
    }
   ],
   "source": [
    "# 각 항목 타입확인\n",
    "df.info()"
   ]
  },
  {
   "cell_type": "code",
   "execution_count": 5,
   "id": "0ab934d5",
   "metadata": {},
   "outputs": [
    {
     "data": {
      "text/html": [
       "<div>\n",
       "<style scoped>\n",
       "    .dataframe tbody tr th:only-of-type {\n",
       "        vertical-align: middle;\n",
       "    }\n",
       "\n",
       "    .dataframe tbody tr th {\n",
       "        vertical-align: top;\n",
       "    }\n",
       "\n",
       "    .dataframe thead th {\n",
       "        text-align: right;\n",
       "    }\n",
       "</style>\n",
       "<table border=\"1\" class=\"dataframe\">\n",
       "  <thead>\n",
       "    <tr style=\"text-align: right;\">\n",
       "      <th></th>\n",
       "      <th>reviews_count</th>\n",
       "      <th>engine_displacement</th>\n",
       "      <th>no_cylinder</th>\n",
       "      <th>seating_capacity</th>\n",
       "      <th>fuel_tank_capacity</th>\n",
       "      <th>rating</th>\n",
       "      <th>starting_price</th>\n",
       "      <th>ending_price</th>\n",
       "      <th>max_torque_nm</th>\n",
       "      <th>max_torque_rpm</th>\n",
       "      <th>max_power_bhp</th>\n",
       "      <th>max_power_rp</th>\n",
       "    </tr>\n",
       "  </thead>\n",
       "  <tbody>\n",
       "    <tr>\n",
       "      <th>count</th>\n",
       "      <td>203.000000</td>\n",
       "      <td>203.000000</td>\n",
       "      <td>203.000000</td>\n",
       "      <td>202.000000</td>\n",
       "      <td>203.000000</td>\n",
       "      <td>203.000000</td>\n",
       "      <td>2.030000e+02</td>\n",
       "      <td>2.030000e+02</td>\n",
       "      <td>203.000000</td>\n",
       "      <td>203.000000</td>\n",
       "      <td>203.000000</td>\n",
       "      <td>203.000000</td>\n",
       "    </tr>\n",
       "    <tr>\n",
       "      <th>mean</th>\n",
       "      <td>118.684729</td>\n",
       "      <td>2305.921182</td>\n",
       "      <td>4.709360</td>\n",
       "      <td>5.014851</td>\n",
       "      <td>46.143842</td>\n",
       "      <td>4.433498</td>\n",
       "      <td>9.443640e+06</td>\n",
       "      <td>1.112005e+07</td>\n",
       "      <td>402.804828</td>\n",
       "      <td>3346.507389</td>\n",
       "      <td>266.576995</td>\n",
       "      <td>4790.147783</td>\n",
       "    </tr>\n",
       "    <tr>\n",
       "      <th>std</th>\n",
       "      <td>314.331318</td>\n",
       "      <td>1493.837786</td>\n",
       "      <td>2.538664</td>\n",
       "      <td>1.161050</td>\n",
       "      <td>28.904207</td>\n",
       "      <td>0.280136</td>\n",
       "      <td>1.357035e+07</td>\n",
       "      <td>1.551746e+07</td>\n",
       "      <td>237.116638</td>\n",
       "      <td>1594.960077</td>\n",
       "      <td>193.474807</td>\n",
       "      <td>1990.876835</td>\n",
       "    </tr>\n",
       "    <tr>\n",
       "      <th>min</th>\n",
       "      <td>1.000000</td>\n",
       "      <td>0.000000</td>\n",
       "      <td>0.000000</td>\n",
       "      <td>2.000000</td>\n",
       "      <td>0.000000</td>\n",
       "      <td>3.000000</td>\n",
       "      <td>3.390000e+05</td>\n",
       "      <td>3.610000e+05</td>\n",
       "      <td>16.100000</td>\n",
       "      <td>0.000000</td>\n",
       "      <td>10.800000</td>\n",
       "      <td>0.000000</td>\n",
       "    </tr>\n",
       "    <tr>\n",
       "      <th>25%</th>\n",
       "      <td>5.000000</td>\n",
       "      <td>1339.500000</td>\n",
       "      <td>4.000000</td>\n",
       "      <td>5.000000</td>\n",
       "      <td>33.500000</td>\n",
       "      <td>4.500000</td>\n",
       "      <td>9.455000e+05</td>\n",
       "      <td>1.407500e+06</td>\n",
       "      <td>201.000000</td>\n",
       "      <td>2500.000000</td>\n",
       "      <td>108.555000</td>\n",
       "      <td>3800.000000</td>\n",
       "    </tr>\n",
       "    <tr>\n",
       "      <th>50%</th>\n",
       "      <td>14.000000</td>\n",
       "      <td>1991.000000</td>\n",
       "      <td>4.000000</td>\n",
       "      <td>5.000000</td>\n",
       "      <td>50.000000</td>\n",
       "      <td>4.500000</td>\n",
       "      <td>4.312000e+06</td>\n",
       "      <td>4.600000e+06</td>\n",
       "      <td>360.000000</td>\n",
       "      <td>3500.000000</td>\n",
       "      <td>187.740000</td>\n",
       "      <td>5500.000000</td>\n",
       "    </tr>\n",
       "    <tr>\n",
       "      <th>75%</th>\n",
       "      <td>83.000000</td>\n",
       "      <td>2996.000000</td>\n",
       "      <td>6.000000</td>\n",
       "      <td>5.000000</td>\n",
       "      <td>66.000000</td>\n",
       "      <td>4.500000</td>\n",
       "      <td>1.160000e+07</td>\n",
       "      <td>1.575000e+07</td>\n",
       "      <td>590.000000</td>\n",
       "      <td>4500.000000</td>\n",
       "      <td>384.870000</td>\n",
       "      <td>6000.000000</td>\n",
       "    </tr>\n",
       "    <tr>\n",
       "      <th>max</th>\n",
       "      <td>2392.000000</td>\n",
       "      <td>6750.000000</td>\n",
       "      <td>12.000000</td>\n",
       "      <td>8.000000</td>\n",
       "      <td>100.000000</td>\n",
       "      <td>5.000000</td>\n",
       "      <td>7.060000e+07</td>\n",
       "      <td>9.000000e+07</td>\n",
       "      <td>1020.000000</td>\n",
       "      <td>7000.000000</td>\n",
       "      <td>788.520000</td>\n",
       "      <td>8500.000000</td>\n",
       "    </tr>\n",
       "  </tbody>\n",
       "</table>\n",
       "</div>"
      ],
      "text/plain": [
       "       reviews_count  engine_displacement  no_cylinder  seating_capacity  \\\n",
       "count     203.000000           203.000000   203.000000        202.000000   \n",
       "mean      118.684729          2305.921182     4.709360          5.014851   \n",
       "std       314.331318          1493.837786     2.538664          1.161050   \n",
       "min         1.000000             0.000000     0.000000          2.000000   \n",
       "25%         5.000000          1339.500000     4.000000          5.000000   \n",
       "50%        14.000000          1991.000000     4.000000          5.000000   \n",
       "75%        83.000000          2996.000000     6.000000          5.000000   \n",
       "max      2392.000000          6750.000000    12.000000          8.000000   \n",
       "\n",
       "       fuel_tank_capacity      rating  starting_price  ending_price  \\\n",
       "count          203.000000  203.000000    2.030000e+02  2.030000e+02   \n",
       "mean            46.143842    4.433498    9.443640e+06  1.112005e+07   \n",
       "std             28.904207    0.280136    1.357035e+07  1.551746e+07   \n",
       "min              0.000000    3.000000    3.390000e+05  3.610000e+05   \n",
       "25%             33.500000    4.500000    9.455000e+05  1.407500e+06   \n",
       "50%             50.000000    4.500000    4.312000e+06  4.600000e+06   \n",
       "75%             66.000000    4.500000    1.160000e+07  1.575000e+07   \n",
       "max            100.000000    5.000000    7.060000e+07  9.000000e+07   \n",
       "\n",
       "       max_torque_nm  max_torque_rpm  max_power_bhp  max_power_rp  \n",
       "count     203.000000      203.000000     203.000000    203.000000  \n",
       "mean      402.804828     3346.507389     266.576995   4790.147783  \n",
       "std       237.116638     1594.960077     193.474807   1990.876835  \n",
       "min        16.100000        0.000000      10.800000      0.000000  \n",
       "25%       201.000000     2500.000000     108.555000   3800.000000  \n",
       "50%       360.000000     3500.000000     187.740000   5500.000000  \n",
       "75%       590.000000     4500.000000     384.870000   6000.000000  \n",
       "max      1020.000000     7000.000000     788.520000   8500.000000  "
      ]
     },
     "execution_count": 5,
     "metadata": {},
     "output_type": "execute_result"
    }
   ],
   "source": [
    "df.describe()"
   ]
  },
  {
   "cell_type": "code",
   "execution_count": 6,
   "id": "7abe0ce4",
   "metadata": {},
   "outputs": [
    {
     "data": {
      "text/plain": [
       "car_name               0\n",
       "reviews_count          0\n",
       "fuel_type              0\n",
       "engine_displacement    0\n",
       "no_cylinder            0\n",
       "seating_capacity       1\n",
       "transmission_type      0\n",
       "fuel_tank_capacity     0\n",
       "body_type              0\n",
       "rating                 0\n",
       "starting_price         0\n",
       "ending_price           0\n",
       "max_torque_nm          0\n",
       "max_torque_rpm         0\n",
       "max_power_bhp          0\n",
       "max_power_rp           0\n",
       "dtype: int64"
      ]
     },
     "execution_count": 6,
     "metadata": {},
     "output_type": "execute_result"
    }
   ],
   "source": [
    "# 결측치 확인\n",
    "df.isnull().sum()"
   ]
  },
  {
   "cell_type": "markdown",
   "id": "15f6ce5e",
   "metadata": {},
   "source": [
    "seating_capacity항목에 1개의 결측치가 존재함으로  \n",
    "결측치가 포함된 행은 제거한다."
   ]
  },
  {
   "cell_type": "code",
   "execution_count": 7,
   "id": "23364acd",
   "metadata": {},
   "outputs": [],
   "source": [
    "# 결측치 제거\n",
    "df = df.dropna(axis = 0)"
   ]
  },
  {
   "cell_type": "markdown",
   "id": "7fe959c8",
   "metadata": {},
   "source": [
    "### 3. EDA"
   ]
  },
  {
   "cell_type": "code",
   "execution_count": 8,
   "id": "48aee8af",
   "metadata": {},
   "outputs": [],
   "source": [
    "# 범주형 변수와 연속형 변수를 나눈다.\n",
    "numeric_list=[]\n",
    "categoical_list=[]\n",
    "for i in df.columns :\n",
    "  if df[i].dtypes == 'O' :\n",
    "    categoical_list.append(i)\n",
    "  else :\n",
    "    numeric_list.append(i)"
   ]
  },
  {
   "cell_type": "markdown",
   "id": "4e972fb1",
   "metadata": {},
   "source": [
    "car_name 항목의 값은  \n",
    "'제조사 + 모델명'으로 이루어져  \n",
    "제조사별 항목을 따로 만들어  \n",
    "국산과 타국가 제조사의 비교를 해보자"
   ]
  },
  {
   "cell_type": "markdown",
   "id": "e8556d62",
   "metadata": {},
   "source": [
    "#### 3-1 제조국 별 리뷰개수"
   ]
  },
  {
   "cell_type": "code",
   "execution_count": 9,
   "id": "8c1b842c",
   "metadata": {},
   "outputs": [
    {
     "data": {
      "text/html": [
       "<div>\n",
       "<style scoped>\n",
       "    .dataframe tbody tr th:only-of-type {\n",
       "        vertical-align: middle;\n",
       "    }\n",
       "\n",
       "    .dataframe tbody tr th {\n",
       "        vertical-align: top;\n",
       "    }\n",
       "\n",
       "    .dataframe thead th {\n",
       "        text-align: right;\n",
       "    }\n",
       "</style>\n",
       "<table border=\"1\" class=\"dataframe\">\n",
       "  <thead>\n",
       "    <tr style=\"text-align: right;\">\n",
       "      <th></th>\n",
       "      <th>car_name</th>\n",
       "      <th>reviews_count</th>\n",
       "      <th>fuel_type</th>\n",
       "      <th>engine_displacement</th>\n",
       "      <th>no_cylinder</th>\n",
       "      <th>seating_capacity</th>\n",
       "      <th>transmission_type</th>\n",
       "      <th>fuel_tank_capacity</th>\n",
       "      <th>body_type</th>\n",
       "      <th>rating</th>\n",
       "      <th>starting_price</th>\n",
       "      <th>ending_price</th>\n",
       "      <th>max_torque_nm</th>\n",
       "      <th>max_torque_rpm</th>\n",
       "      <th>max_power_bhp</th>\n",
       "      <th>max_power_rp</th>\n",
       "      <th>brand</th>\n",
       "    </tr>\n",
       "  </thead>\n",
       "  <tbody>\n",
       "    <tr>\n",
       "      <th>0</th>\n",
       "      <td>Maruti Alto K10</td>\n",
       "      <td>51</td>\n",
       "      <td>Petrol</td>\n",
       "      <td>998</td>\n",
       "      <td>3</td>\n",
       "      <td>5.0</td>\n",
       "      <td>Automatic</td>\n",
       "      <td>27.0</td>\n",
       "      <td>Hatchback</td>\n",
       "      <td>4.5</td>\n",
       "      <td>399000</td>\n",
       "      <td>583000</td>\n",
       "      <td>89.0</td>\n",
       "      <td>3500</td>\n",
       "      <td>65.71</td>\n",
       "      <td>5500</td>\n",
       "      <td>Maruti</td>\n",
       "    </tr>\n",
       "    <tr>\n",
       "      <th>1</th>\n",
       "      <td>Maruti Brezza</td>\n",
       "      <td>86</td>\n",
       "      <td>Petrol</td>\n",
       "      <td>1462</td>\n",
       "      <td>4</td>\n",
       "      <td>5.0</td>\n",
       "      <td>Automatic</td>\n",
       "      <td>48.0</td>\n",
       "      <td>SUV</td>\n",
       "      <td>4.5</td>\n",
       "      <td>799000</td>\n",
       "      <td>1396000</td>\n",
       "      <td>136.8</td>\n",
       "      <td>4400</td>\n",
       "      <td>101.65</td>\n",
       "      <td>6000</td>\n",
       "      <td>Maruti</td>\n",
       "    </tr>\n",
       "    <tr>\n",
       "      <th>2</th>\n",
       "      <td>Mahindra Thar</td>\n",
       "      <td>242</td>\n",
       "      <td>Diesel</td>\n",
       "      <td>2184</td>\n",
       "      <td>4</td>\n",
       "      <td>4.0</td>\n",
       "      <td>Automatic</td>\n",
       "      <td>57.0</td>\n",
       "      <td>SUV</td>\n",
       "      <td>4.5</td>\n",
       "      <td>1353000</td>\n",
       "      <td>1603000</td>\n",
       "      <td>300.0</td>\n",
       "      <td>2800</td>\n",
       "      <td>130.00</td>\n",
       "      <td>3750</td>\n",
       "      <td>Mahindra</td>\n",
       "    </tr>\n",
       "    <tr>\n",
       "      <th>3</th>\n",
       "      <td>Mahindra XUV700</td>\n",
       "      <td>313</td>\n",
       "      <td>Diesel</td>\n",
       "      <td>2198</td>\n",
       "      <td>4</td>\n",
       "      <td>7.0</td>\n",
       "      <td>Automatic</td>\n",
       "      <td>60.0</td>\n",
       "      <td>SUV</td>\n",
       "      <td>4.5</td>\n",
       "      <td>1318000</td>\n",
       "      <td>2458000</td>\n",
       "      <td>450.0</td>\n",
       "      <td>2800</td>\n",
       "      <td>182.38</td>\n",
       "      <td>3500</td>\n",
       "      <td>Mahindra</td>\n",
       "    </tr>\n",
       "    <tr>\n",
       "      <th>4</th>\n",
       "      <td>Mahindra Scorpio-N</td>\n",
       "      <td>107</td>\n",
       "      <td>Diesel</td>\n",
       "      <td>2198</td>\n",
       "      <td>4</td>\n",
       "      <td>7.0</td>\n",
       "      <td>Automatic</td>\n",
       "      <td>57.0</td>\n",
       "      <td>SUV</td>\n",
       "      <td>4.5</td>\n",
       "      <td>1199000</td>\n",
       "      <td>2390000</td>\n",
       "      <td>400.0</td>\n",
       "      <td>2750</td>\n",
       "      <td>172.45</td>\n",
       "      <td>3500</td>\n",
       "      <td>Mahindra</td>\n",
       "    </tr>\n",
       "  </tbody>\n",
       "</table>\n",
       "</div>"
      ],
      "text/plain": [
       "             car_name  reviews_count fuel_type  engine_displacement  \\\n",
       "0     Maruti Alto K10             51    Petrol                  998   \n",
       "1       Maruti Brezza             86    Petrol                 1462   \n",
       "2       Mahindra Thar            242    Diesel                 2184   \n",
       "3     Mahindra XUV700            313    Diesel                 2198   \n",
       "4  Mahindra Scorpio-N            107    Diesel                 2198   \n",
       "\n",
       "   no_cylinder  seating_capacity transmission_type  fuel_tank_capacity  \\\n",
       "0            3               5.0         Automatic                27.0   \n",
       "1            4               5.0         Automatic                48.0   \n",
       "2            4               4.0         Automatic                57.0   \n",
       "3            4               7.0         Automatic                60.0   \n",
       "4            4               7.0         Automatic                57.0   \n",
       "\n",
       "   body_type  rating  starting_price  ending_price  max_torque_nm  \\\n",
       "0  Hatchback     4.5          399000        583000           89.0   \n",
       "1        SUV     4.5          799000       1396000          136.8   \n",
       "2        SUV     4.5         1353000       1603000          300.0   \n",
       "3        SUV     4.5         1318000       2458000          450.0   \n",
       "4        SUV     4.5         1199000       2390000          400.0   \n",
       "\n",
       "   max_torque_rpm  max_power_bhp  max_power_rp     brand  \n",
       "0            3500          65.71          5500    Maruti  \n",
       "1            4400         101.65          6000    Maruti  \n",
       "2            2800         130.00          3750  Mahindra  \n",
       "3            2800         182.38          3500  Mahindra  \n",
       "4            2750         172.45          3500  Mahindra  "
      ]
     },
     "execution_count": 9,
     "metadata": {},
     "output_type": "execute_result"
    }
   ],
   "source": [
    "df['brand'] = df['car_name'].str.split(' ').str.get(0)\n",
    "df.head()"
   ]
  },
  {
   "cell_type": "code",
   "execution_count": 10,
   "id": "4a676282",
   "metadata": {},
   "outputs": [],
   "source": [
    "# 국산차\n",
    "df_kr = df[df['brand'].isin(['Hyundai','Kia'])]\n",
    "# 외제차\n",
    "df_n_kr = df[~df['brand'].isin(['Hyundai','Kia'])]"
   ]
  },
  {
   "cell_type": "code",
   "execution_count": 11,
   "id": "1e764a34",
   "metadata": {},
   "outputs": [],
   "source": [
    "df['country'] = np.where(df['brand'].isin(['Hyundai','Kia']),1,0)"
   ]
  },
  {
   "cell_type": "code",
   "execution_count": 12,
   "id": "5c63dddd",
   "metadata": {},
   "outputs": [
    {
     "data": {
      "image/png": "[encoded data removed]",
      "text/plain": [
       "<Figure size 864x576 with 2 Axes>"
      ]
     },
     "metadata": {},
     "output_type": "display_data"
    }
   ],
   "source": [
    "import matplotlib.pyplot as plt\n",
    "import seaborn as sns \n",
    "color = ['#438820','#e9ac06']\n",
    "wedgeprops = {\n",
    "    'edgecolor': 'black',\n",
    "    'linestyle': '-',\n",
    "    'linewidth': 1.5\n",
    "}\n",
    "label = ['Other countries','Korea']\n",
    "f,ax = plt.subplots(1,2,figsize=(12,8))\n",
    "plt.subplot(1,2,1)\n",
    "plt.pie(df['country'].value_counts(),autopct='%0.1f%%',shadow = False,colors=color, \n",
    "       wedgeprops=wedgeprops, textprops = {'fontsize' : 15})\n",
    "plt.title('Ratio of domestic cars in total data',fontsize = 15)\n",
    "plt.legend(labels = label,fontsize= 11,bbox_to_anchor=(0.885,0.85));\n",
    "\n",
    "plt.subplot(1,2,2)\n",
    "plt.pie(df.groupby('country')['reviews_count'].sum(),autopct='%0.1f%%',shadow = False,colors=color, \n",
    "       wedgeprops=wedgeprops, textprops = {'fontsize' : 15})\n",
    "plt.title('Reviews counts of domestic cars in total data',fontsize = 15)\n",
    "plt.legend(labels = label,fontsize= 11,bbox_to_anchor=(0.885,0.85));"
   ]
  },
  {
   "cell_type": "code",
   "execution_count": 13,
   "id": "3a5891b8",
   "metadata": {},
   "outputs": [
    {
     "name": "stdout",
     "output_type": "stream",
     "text": [
      "전체 데이터중 국산차의 비율 : 6.4%\n",
      "전체 데이터중 국산차의 리뷰비율 : 21.6%\n"
     ]
    }
   ],
   "source": [
    "# 전체 데이터중 국산차의 비율\n",
    "print('전체 데이터중 국산차의 비율 : {:.1f}%'.format(len(df_kr)/len(df)*100))\n",
    "# 전체데이터중 국산차의 리뷰비율\n",
    "print('전체 데이터중 국산차의 리뷰비율 : {:.1f}%'.format(df_kr['reviews_count'].sum()/df['reviews_count'].sum()*100))"
   ]
  },
  {
   "cell_type": "markdown",
   "id": "57638556",
   "metadata": {},
   "source": [
    "#### 3-2 국산차와 외제차별 각 항목 비교"
   ]
  },
  {
   "cell_type": "markdown",
   "id": "95ffd9cc",
   "metadata": {},
   "source": [
    "자동차에서 중요하다고 생각되는   \n",
    "engine_displacement(엔진 베기량)  \n",
    "starting_price(가격)  \n",
    "max_torque_nm(최대 토크)  \n",
    "max_power_bhp(최대 마력)을 각 비교해보자"
   ]
  },
  {
   "cell_type": "markdown",
   "id": "ca564834",
   "metadata": {},
   "source": [
    "#### 3-2-1 Engine_displacement"
   ]
  },
  {
   "cell_type": "code",
   "execution_count": 14,
   "id": "e154f864",
   "metadata": {},
   "outputs": [
    {
     "data": {
      "text/html": [
       "<div>\n",
       "<style scoped>\n",
       "    .dataframe tbody tr th:only-of-type {\n",
       "        vertical-align: middle;\n",
       "    }\n",
       "\n",
       "    .dataframe tbody tr th {\n",
       "        vertical-align: top;\n",
       "    }\n",
       "\n",
       "    .dataframe thead th {\n",
       "        text-align: right;\n",
       "    }\n",
       "</style>\n",
       "<table border=\"1\" class=\"dataframe\">\n",
       "  <thead>\n",
       "    <tr style=\"text-align: right;\">\n",
       "      <th>transmission_type</th>\n",
       "      <th>Automatic</th>\n",
       "      <th>Manual</th>\n",
       "    </tr>\n",
       "    <tr>\n",
       "      <th>fuel_type</th>\n",
       "      <th></th>\n",
       "      <th></th>\n",
       "    </tr>\n",
       "  </thead>\n",
       "  <tbody>\n",
       "    <tr>\n",
       "      <th>CNG</th>\n",
       "      <td>0.0</td>\n",
       "      <td>1141.5</td>\n",
       "    </tr>\n",
       "    <tr>\n",
       "      <th>Diesel</th>\n",
       "      <td>1577.0</td>\n",
       "      <td>0.0</td>\n",
       "    </tr>\n",
       "    <tr>\n",
       "      <th>Petrol</th>\n",
       "      <td>998.0</td>\n",
       "      <td>998.0</td>\n",
       "    </tr>\n",
       "  </tbody>\n",
       "</table>\n",
       "</div>"
      ],
      "text/plain": [
       "transmission_type  Automatic  Manual\n",
       "fuel_type                           \n",
       "CNG                      0.0  1141.5\n",
       "Diesel                1577.0     0.0\n",
       "Petrol                 998.0   998.0"
      ]
     },
     "execution_count": 14,
     "metadata": {},
     "output_type": "execute_result"
    }
   ],
   "source": [
    "# 국산차\n",
    "df_krfte = pd.pivot(df_kr.groupby(['fuel_type','transmission_type'])['engine_displacement'].mean().reset_index(),\n",
    "        index= 'fuel_type',\n",
    "        columns='transmission_type',\n",
    "        values='engine_displacement').drop('Electric',axis =0).drop('Electric',axis =1).fillna(0)\n",
    "df_krfte"
   ]
  },
  {
   "cell_type": "code",
   "execution_count": 15,
   "id": "ce250709",
   "metadata": {},
   "outputs": [
    {
     "data": {
      "text/html": [
       "<div>\n",
       "<style scoped>\n",
       "    .dataframe tbody tr th:only-of-type {\n",
       "        vertical-align: middle;\n",
       "    }\n",
       "\n",
       "    .dataframe tbody tr th {\n",
       "        vertical-align: top;\n",
       "    }\n",
       "\n",
       "    .dataframe thead th {\n",
       "        text-align: right;\n",
       "    }\n",
       "</style>\n",
       "<table border=\"1\" class=\"dataframe\">\n",
       "  <thead>\n",
       "    <tr style=\"text-align: right;\">\n",
       "      <th>transmission_type</th>\n",
       "      <th>Automatic</th>\n",
       "      <th>Manual</th>\n",
       "    </tr>\n",
       "    <tr>\n",
       "      <th>fuel_type</th>\n",
       "      <th></th>\n",
       "      <th></th>\n",
       "    </tr>\n",
       "  </thead>\n",
       "  <tbody>\n",
       "    <tr>\n",
       "      <th>CNG</th>\n",
       "      <td>0.000000</td>\n",
       "      <td>921.400000</td>\n",
       "    </tr>\n",
       "    <tr>\n",
       "      <th>Diesel</th>\n",
       "      <td>2318.142857</td>\n",
       "      <td>1940.571429</td>\n",
       "    </tr>\n",
       "    <tr>\n",
       "      <th>Petrol</th>\n",
       "      <td>2847.289474</td>\n",
       "      <td>1695.428571</td>\n",
       "    </tr>\n",
       "  </tbody>\n",
       "</table>\n",
       "</div>"
      ],
      "text/plain": [
       "transmission_type    Automatic       Manual\n",
       "fuel_type                                  \n",
       "CNG                   0.000000   921.400000\n",
       "Diesel             2318.142857  1940.571429\n",
       "Petrol             2847.289474  1695.428571"
      ]
     },
     "execution_count": 15,
     "metadata": {},
     "output_type": "execute_result"
    }
   ],
   "source": [
    "# 외제차\n",
    "df_nkrfte = pd.pivot(df_n_kr.groupby(['fuel_type','transmission_type'])['engine_displacement'].mean().reset_index(),\n",
    "        index= 'fuel_type',\n",
    "        columns='transmission_type',\n",
    "        values='engine_displacement').drop('Electric',axis =0).drop('Electric',axis =1).fillna(0)\n",
    "df_nkrfte"
   ]
  },
  {
   "cell_type": "code",
   "execution_count": 16,
   "id": "97ef6a63",
   "metadata": {},
   "outputs": [],
   "source": [
    "# 각 transmission_type별 새로운 데이터 프레임을 만든다.\n",
    "df_e_a = pd.DataFrame({'Korea':df_krfte['Automatic'],'Other countries':df_nkrfte['Automatic']})\n",
    "df_e_m = pd.DataFrame({'Korea':df_krfte['Manual'],'Other countries':df_nkrfte['Manual']})"
   ]
  },
  {
   "cell_type": "code",
   "execution_count": 17,
   "id": "af8e65e0",
   "metadata": {},
   "outputs": [
    {
     "data": {
      "text/html": [
       "<div>\n",
       "<style scoped>\n",
       "    .dataframe tbody tr th:only-of-type {\n",
       "        vertical-align: middle;\n",
       "    }\n",
       "\n",
       "    .dataframe tbody tr th {\n",
       "        vertical-align: top;\n",
       "    }\n",
       "\n",
       "    .dataframe thead th {\n",
       "        text-align: right;\n",
       "    }\n",
       "</style>\n",
       "<table border=\"1\" class=\"dataframe\">\n",
       "  <thead>\n",
       "    <tr style=\"text-align: right;\">\n",
       "      <th>transmission_type</th>\n",
       "      <th>Automatic</th>\n",
       "      <th>Manual</th>\n",
       "    </tr>\n",
       "    <tr>\n",
       "      <th>fuel_type</th>\n",
       "      <th></th>\n",
       "      <th></th>\n",
       "    </tr>\n",
       "  </thead>\n",
       "  <tbody>\n",
       "    <tr>\n",
       "      <th>CNG</th>\n",
       "      <td>NaN</td>\n",
       "      <td>984.285714</td>\n",
       "    </tr>\n",
       "    <tr>\n",
       "      <th>Diesel</th>\n",
       "      <td>2209.682927</td>\n",
       "      <td>1940.571429</td>\n",
       "    </tr>\n",
       "    <tr>\n",
       "      <th>Petrol</th>\n",
       "      <td>2815.405172</td>\n",
       "      <td>1608.250000</td>\n",
       "    </tr>\n",
       "  </tbody>\n",
       "</table>\n",
       "</div>"
      ],
      "text/plain": [
       "transmission_type    Automatic       Manual\n",
       "fuel_type                                  \n",
       "CNG                        NaN   984.285714\n",
       "Diesel             2209.682927  1940.571429\n",
       "Petrol             2815.405172  1608.250000"
      ]
     },
     "execution_count": 17,
     "metadata": {},
     "output_type": "execute_result"
    }
   ],
   "source": [
    "# 전체 데이터의 평균을 피벗테이블로 만든다.\n",
    "df_fte = df.groupby(['fuel_type','transmission_type'])['engine_displacement'].mean().reset_index()\n",
    "df_fte = df_fte[df_fte['fuel_type']!= 'Electric']\n",
    "df_ftep = pd.pivot_table(df_fte,\n",
    "                        index = 'fuel_type',\n",
    "                        columns= 'transmission_type',\n",
    "                        values = 'engine_displacement')\n",
    "df_ftep"
   ]
  },
  {
   "cell_type": "code",
   "execution_count": 18,
   "id": "531a76ca",
   "metadata": {},
   "outputs": [
    {
     "data": {
      "image/png": "[encoded data removed]",
      "text/plain": [
       "<Figure size 864x216 with 3 Axes>"
      ]
     },
     "metadata": {
      "needs_background": "light"
     },
     "output_type": "display_data"
    },
    {
     "data": {
      "image/png": "[encoded data removed]",
      "text/plain": [
       "<Figure size 864x432 with 3 Axes>"
      ]
     },
     "metadata": {
      "needs_background": "light"
     },
     "output_type": "display_data"
    }
   ],
   "source": [
    "\n",
    "color = ['#438820','#e9ac06']\n",
    "\n",
    "plt.figure(figsize = (12,3),constrained_layout=True)\n",
    "subplot = 1\n",
    "for i in df_krfte.index.tolist():\n",
    "    plt.subplot(1,3,subplot)\n",
    "    ax = sns.barplot(data = df_e_a[df_e_a.index == i],palette=color)\n",
    "    plt.ylim(0,3200)\n",
    "    for p in ax.patches:\n",
    "        height = p.get_height()\n",
    "        ax.text(p.get_x() + p.get_width() / 2., height + 20, round(height,1), ha = 'center', size = 13)\n",
    "    subplot +=1\n",
    "    plt.subplot(1,3,1)\n",
    "    plt.ylabel('Automatic',fontsize= 25)\n",
    "    \n",
    "#plt.subplot(1,3,1)\n",
    "#plt.title('Engine_displacement', loc='center', pad=30,fontsize= 30)\n",
    "    \n",
    "plt.figure(figsize = (12,6),constrained_layout=True)\n",
    "for i in df_krfte.index.tolist():\n",
    "    plt.subplot(2,3,subplot)\n",
    "    ax = sns.barplot(data = df_e_m[df_e_m.index == i],palette=color)\n",
    "    plt.ylim(0,3200)\n",
    "    for p in ax.patches:\n",
    "        height = p.get_height()\n",
    "        ax.text(p.get_x() + p.get_width() / 2, height + 20, round(height,1), ha = 'center', size = 13)\n",
    "    subplot +=1\n",
    "    plt.xlabel(i,fontsize= 25)\n",
    "    plt.subplot(2,3,4)\n",
    "    plt.ylabel('Manual',fontsize= 25)\n",
    "\n"
   ]
  },
  {
   "cell_type": "markdown",
   "id": "657a23e1",
   "metadata": {},
   "source": [
    " "
   ]
  },
  {
   "cell_type": "markdown",
   "id": "5d3f35a2",
   "metadata": {},
   "source": [
    " "
   ]
  },
  {
   "cell_type": "markdown",
   "id": "61cb1c0b",
   "metadata": {},
   "source": [
    " #### 3-2-2 Starting_price"
   ]
  },
  {
   "cell_type": "code",
   "execution_count": 19,
   "id": "46b4de56",
   "metadata": {},
   "outputs": [],
   "source": [
    "# 국산차\n",
    "df_krfts = pd.pivot(df_kr.groupby(['fuel_type','transmission_type'])['starting_price'].mean().reset_index(),\n",
    "        index= 'fuel_type',\n",
    "        columns='transmission_type',\n",
    "        values='starting_price').fillna(0)\n",
    "# 외제차\n",
    "df_nkrfts = pd.pivot(df_n_kr.groupby(['fuel_type','transmission_type'])['starting_price'].mean().reset_index(),\n",
    "        index= 'fuel_type',\n",
    "        columns='transmission_type',\n",
    "        values='starting_price').fillna(0)\n",
    "# 각 starting_price별 새로운 데이터 프레임을 만든다.\n",
    "df_s_a = pd.DataFrame({'Korea':df_krfts['Automatic'],'Other countries':df_nkrfts['Automatic']}).astype(int)\n",
    "df_s_m = pd.DataFrame({'Korea':df_krfts['Manual'],'Other countries':df_nkrfts['Manual']}).astype(int)\n",
    "df_s_e = pd.DataFrame({'Korea':df_krfts['Electric'],'Other countries':df_nkrfts['Electric']}).astype(int)"
   ]
  },
  {
   "cell_type": "code",
   "execution_count": 20,
   "id": "47ee4f7d",
   "metadata": {
    "scrolled": false
   },
   "outputs": [
    {
     "data": {
      "image/png": "[encoded data removed]",
      "text/plain": [
       "<Figure size 864x216 with 4 Axes>"
      ]
     },
     "metadata": {
      "needs_background": "light"
     },
     "output_type": "display_data"
    },
    {
     "data": {
      "image/png": "[encoded data removed]",
      "text/plain": [
       "<Figure size 864x432 with 4 Axes>"
      ]
     },
     "metadata": {
      "needs_background": "light"
     },
     "output_type": "display_data"
    },
    {
     "data": {
      "image/png": "[encoded data removed]",
      "text/plain": [
       "<Figure size 864x648 with 4 Axes>"
      ]
     },
     "metadata": {
      "needs_background": "light"
     },
     "output_type": "display_data"
    }
   ],
   "source": [
    "plt.figure(figsize = (12,3),constrained_layout=True)\n",
    "subplot = 1\n",
    "color = ['#438820','#e9ac06']\n",
    "for i in df_krfts.index.tolist():\n",
    "    plt.subplot(1,4,subplot)\n",
    "    ax = sns.barplot(data = df_s_a[df_s_a.index == i],palette=color)\n",
    "    plt.ylim(0,16000000)\n",
    "    for p in ax.patches:\n",
    "        height = int(p.get_height())\n",
    "        ax.text(p.get_x() + p.get_width() / 2., height+(height*0.01), height, ha = 'center', size = 13)\n",
    "    subplot +=1\n",
    "    plt.subplot(1,4,1)\n",
    "    plt.ylabel('Automatic',fontsize= 25)\n",
    "\n",
    "\n",
    "plt.figure(figsize = (12,6),constrained_layout=True)\n",
    "for i in df_krfts.index.tolist():\n",
    "    plt.subplot(2,4,subplot)\n",
    "    ax = sns.barplot(data = df_s_m[df_s_m.index == i],palette=color)\n",
    "    plt.ylim(0,16000000)\n",
    "    for p in ax.patches:\n",
    "        height = int(p.get_height())\n",
    "        ax.text(p.get_x() + p.get_width() / 2., height+(height*0.01), height, ha = 'center', size = 13)\n",
    "    subplot +=1\n",
    "    plt.subplot(2,4,5)\n",
    "    plt.ylabel('Manual',fontsize= 25)\n",
    "    \n",
    "plt.figure(figsize = (12,9),constrained_layout=True)\n",
    "for i in df_krfts.index.tolist():\n",
    "    plt.subplot(3,4,subplot)\n",
    "    ax = sns.barplot(data = df_s_e[df_s_e.index == i],palette=color)\n",
    "    plt.ylim(0,16000000)\n",
    "    for p in ax.patches:\n",
    "        height = int(p.get_height())\n",
    "        ax.text(p.get_x() + p.get_width() / 2., height+(height*0.01), height, ha = 'center', size = 13)\n",
    "    subplot +=1\n",
    "    plt.xlabel(i,fontsize= 25)\n",
    "    plt.subplot(3,4,9)\n",
    "    plt.ylabel('Electric',fontsize= 25)"
   ]
  },
  {
   "cell_type": "markdown",
   "id": "8b941df7",
   "metadata": {},
   "source": [
    " "
   ]
  },
  {
   "cell_type": "markdown",
   "id": "1bce0709",
   "metadata": {},
   "source": [
    " "
   ]
  },
  {
   "cell_type": "markdown",
   "id": "03fd626f",
   "metadata": {},
   "source": [
    "#### 3-2-3 Max_torque_nm"
   ]
  },
  {
   "cell_type": "code",
   "execution_count": 21,
   "id": "615758cd",
   "metadata": {},
   "outputs": [],
   "source": [
    "# 국산차\n",
    "df_krfttn = pd.pivot(df_kr.groupby(['fuel_type','transmission_type'])['max_torque_nm'].mean().reset_index(),\n",
    "        index= 'fuel_type',\n",
    "        columns='transmission_type',\n",
    "        values='max_torque_nm').fillna(0)\n",
    "# 외제차\n",
    "df_nkrfttn = pd.pivot(df_n_kr.groupby(['fuel_type','transmission_type'])['max_torque_nm'].mean().reset_index(),\n",
    "        index= 'fuel_type',\n",
    "        columns='transmission_type',\n",
    "        values='max_torque_nm').fillna(0)\n",
    "# 각 max_torque_nm별 새로운 데이터 프레임을 만든다.\n",
    "df_tn_a = pd.DataFrame({'Korea':df_krfttn['Automatic'],'Other countries':df_nkrfttn['Automatic']}).astype(int)\n",
    "df_tn_m = pd.DataFrame({'Korea':df_krfttn['Manual'],'Other countries':df_nkrfttn['Manual']}).astype(int)\n",
    "df_tn_e = pd.DataFrame({'Korea':df_krfttn['Electric'],'Other countries':df_nkrfttn['Electric']}).astype(int)"
   ]
  },
  {
   "cell_type": "code",
   "execution_count": 22,
   "id": "b402ee90",
   "metadata": {},
   "outputs": [
    {
     "data": {
      "image/png": "[encoded data removed]",
      "text/plain": [
       "<Figure size 864x216 with 4 Axes>"
      ]
     },
     "metadata": {
      "needs_background": "light"
     },
     "output_type": "display_data"
    },
    {
     "data": {
      "image/png": "[encoded data removed]",
      "text/plain": [
       "<Figure size 864x432 with 4 Axes>"
      ]
     },
     "metadata": {
      "needs_background": "light"
     },
     "output_type": "display_data"
    },
    {
     "data": {
      "image/png": "[encoded data removed]",
      "text/plain": [
       "<Figure size 864x648 with 4 Axes>"
      ]
     },
     "metadata": {
      "needs_background": "light"
     },
     "output_type": "display_data"
    }
   ],
   "source": [
    "plt.figure(figsize = (12,3),constrained_layout=True)\n",
    "subplot = 1\n",
    "color = ['#438820','#e9ac06']\n",
    "for i in df_krfttn.index.tolist():\n",
    "    plt.subplot(1,4,subplot)\n",
    "    ax = sns.barplot(data = df_tn_a[df_tn_a.index == i],palette=color)\n",
    "    plt.ylim(0,700)\n",
    "    for p in ax.patches:\n",
    "        height = int(p.get_height())\n",
    "        ax.text(p.get_x() + p.get_width() / 2., height+(height*0.01), height, ha = 'center', size = 13)\n",
    "    subplot +=1\n",
    "    plt.subplot(1,4,1)\n",
    "    plt.ylabel('Automatic',fontsize= 25)\n",
    "\n",
    "plt.figure(figsize = (12,6),constrained_layout=True)\n",
    "for i in df_krfttn.index.tolist():\n",
    "    plt.subplot(2,4,subplot)\n",
    "    ax = sns.barplot(data = df_tn_m[df_tn_m.index == i],palette=color)\n",
    "    plt.ylim(0,700)\n",
    "    for p in ax.patches:\n",
    "        height = int(p.get_height())\n",
    "        ax.text(p.get_x() + p.get_width() / 2., height+(height*0.01), height, ha = 'center', size = 13)\n",
    "    subplot +=1\n",
    "    plt.subplot(2,4,5)\n",
    "    plt.ylabel('Manual',fontsize= 25)\n",
    "    \n",
    "plt.figure(figsize = (12,9),constrained_layout=True)\n",
    "for i in df_krfttn.index.tolist():\n",
    "    plt.subplot(3,4,subplot)\n",
    "    ax = sns.barplot(data = df_tn_e[df_tn_e.index == i],palette=color)\n",
    "    plt.ylim(0,700)\n",
    "    for p in ax.patches:\n",
    "        height = int(p.get_height())\n",
    "        ax.text(p.get_x() + p.get_width() / 2., height+(height*0.01), height, ha = 'center', size = 13)\n",
    "    subplot +=1\n",
    "    plt.xlabel(i,fontsize= 25)\n",
    "    plt.subplot(3,4,9)\n",
    "    plt.ylabel('Electric',fontsize= 25)"
   ]
  },
  {
   "cell_type": "markdown",
   "id": "ef5a213e",
   "metadata": {},
   "source": [
    " "
   ]
  },
  {
   "cell_type": "markdown",
   "id": "afcdb783",
   "metadata": {},
   "source": [
    " "
   ]
  },
  {
   "cell_type": "markdown",
   "id": "b630cd91",
   "metadata": {},
   "source": [
    "#### 3-2-4 Max_power_bhp"
   ]
  },
  {
   "cell_type": "code",
   "execution_count": 23,
   "id": "8d5bedd0",
   "metadata": {},
   "outputs": [],
   "source": [
    "# 국산차\n",
    "df_krftph = pd.pivot(df_kr.groupby(['fuel_type','transmission_type'])['max_power_bhp'].mean().reset_index(),\n",
    "        index= 'fuel_type',\n",
    "        columns='transmission_type',\n",
    "        values='max_power_bhp').fillna(0)\n",
    "# 외제차\n",
    "df_nkrftph = pd.pivot(df_n_kr.groupby(['fuel_type','transmission_type'])['max_power_bhp'].mean().reset_index(),\n",
    "        index= 'fuel_type',\n",
    "        columns='transmission_type',\n",
    "        values='max_power_bhp').fillna(0)\n",
    "# 각 max_power_bhp별 새로운 데이터 프레임을 만든다.\n",
    "df_ph_a = pd.DataFrame({'Korea':df_krftph['Automatic'],'Other countries':df_nkrftph['Automatic']})\n",
    "df_ph_m = pd.DataFrame({'Korea':df_krftph['Manual'],'Other countries':df_nkrftph['Manual']})\n",
    "df_ph_e = pd.DataFrame({'Korea':df_krftph['Electric'],'Other countries':df_nkrftph['Electric']})"
   ]
  },
  {
   "cell_type": "code",
   "execution_count": 24,
   "id": "0e29ba9c",
   "metadata": {},
   "outputs": [
    {
     "data": {
      "image/png": "[encoded data removed]",
      "text/plain": [
       "<Figure size 864x216 with 4 Axes>"
      ]
     },
     "metadata": {
      "needs_background": "light"
     },
     "output_type": "display_data"
    },
    {
     "data": {
      "image/png": "[encoded data removed]",
      "text/plain": [
       "<Figure size 864x432 with 4 Axes>"
      ]
     },
     "metadata": {
      "needs_background": "light"
     },
     "output_type": "display_data"
    },
    {
     "data": {
      "image/png": "[encoded data removed]",
      "text/plain": [
       "<Figure size 864x648 with 4 Axes>"
      ]
     },
     "metadata": {
      "needs_background": "light"
     },
     "output_type": "display_data"
    }
   ],
   "source": [
    "plt.figure(figsize = (12,3),constrained_layout=True)\n",
    "subplot = 1\n",
    "color = ['#438820','#e9ac06']\n",
    "for i in df_krftph.index.tolist():\n",
    "    plt.subplot(1,4,subplot)\n",
    "    ax = sns.barplot(data = df_ph_a[df_ph_a.index == i],palette=color)\n",
    "    plt.ylim(0,350)\n",
    "    for p in ax.patches:\n",
    "        height = p.get_height()\n",
    "        ax.text(p.get_x() + p.get_width() / 2., height+(height*0.01), round(height,1), ha = 'center', size = 13)\n",
    "    subplot +=1\n",
    "    plt.subplot(1,4,1)\n",
    "    plt.ylabel('Automatic',fontsize= 25)\n",
    "\n",
    "plt.figure(figsize = (12,6),constrained_layout=True)\n",
    "for i in df_krftph.index.tolist():\n",
    "    plt.subplot(2,4,subplot)\n",
    "    ax = sns.barplot(data = df_ph_m[df_ph_m.index == i],palette=color)\n",
    "    plt.ylim(0,350)\n",
    "    for p in ax.patches:\n",
    "        height = p.get_height()\n",
    "        ax.text(p.get_x() + p.get_width() / 2., height+(height*0.01), round(height,1), ha = 'center', size = 13)\n",
    "    subplot +=1\n",
    "    plt.subplot(2,4,5)\n",
    "    plt.ylabel('Manual',fontsize= 25)\n",
    "    \n",
    "plt.figure(figsize = (12,9),constrained_layout=True)\n",
    "for i in df_krftph.index.tolist():\n",
    "    plt.subplot(3,4,subplot)\n",
    "    ax = sns.barplot(data = df_ph_e[df_ph_e.index == i],palette=color)\n",
    "    plt.ylim(0,350)\n",
    "    for p in ax.patches:\n",
    "        height = p.get_height()\n",
    "        ax.text(p.get_x() + p.get_width() / 2., height+(height*0.01), round(height,1), ha = 'center', size = 13)\n",
    "    subplot +=1\n",
    "    plt.xlabel(i,fontsize= 25)\n",
    "    plt.subplot(3,4,9)\n",
    "    plt.ylabel('Electric',fontsize= 25)"
   ]
  },
  {
   "cell_type": "markdown",
   "id": "b29f4026",
   "metadata": {},
   "source": [
    " "
   ]
  },
  {
   "cell_type": "markdown",
   "id": "4e26753f",
   "metadata": {},
   "source": [
    " "
   ]
  },
  {
   "cell_type": "markdown",
   "id": "ded78dda",
   "metadata": {},
   "source": [
    "#### 3-3 전기차만의 특징"
   ]
  },
  {
   "cell_type": "markdown",
   "id": "91447903",
   "metadata": {},
   "source": [
    "최근 전기차에 대한 사람들의 관심이 점점 올라가는 추세이다.  \n",
    "트랜드에 맞게 데이터에 있는 전기차들의 특징을 살펴보자"
   ]
  },
  {
   "cell_type": "code",
   "execution_count": 25,
   "id": "a5e1f868",
   "metadata": {},
   "outputs": [
    {
     "data": {
      "text/html": [
       "<div>\n",
       "<style scoped>\n",
       "    .dataframe tbody tr th:only-of-type {\n",
       "        vertical-align: middle;\n",
       "    }\n",
       "\n",
       "    .dataframe tbody tr th {\n",
       "        vertical-align: top;\n",
       "    }\n",
       "\n",
       "    .dataframe thead th {\n",
       "        text-align: right;\n",
       "    }\n",
       "</style>\n",
       "<table border=\"1\" class=\"dataframe\">\n",
       "  <thead>\n",
       "    <tr style=\"text-align: right;\">\n",
       "      <th></th>\n",
       "      <th>Electric</th>\n",
       "      <th>Other</th>\n",
       "    </tr>\n",
       "  </thead>\n",
       "  <tbody>\n",
       "    <tr>\n",
       "      <th>reviews_count</th>\n",
       "      <td>8.19</td>\n",
       "      <td>128.82</td>\n",
       "    </tr>\n",
       "    <tr>\n",
       "      <th>engine_displacement</th>\n",
       "      <td>0.00</td>\n",
       "      <td>2495.20</td>\n",
       "    </tr>\n",
       "    <tr>\n",
       "      <th>no_cylinder</th>\n",
       "      <td>0.00</td>\n",
       "      <td>5.10</td>\n",
       "    </tr>\n",
       "    <tr>\n",
       "      <th>seating_capacity</th>\n",
       "      <td>4.75</td>\n",
       "      <td>5.04</td>\n",
       "    </tr>\n",
       "    <tr>\n",
       "      <th>fuel_tank_capacity</th>\n",
       "      <td>0.00</td>\n",
       "      <td>49.97</td>\n",
       "    </tr>\n",
       "    <tr>\n",
       "      <th>rating</th>\n",
       "      <td>4.47</td>\n",
       "      <td>4.43</td>\n",
       "    </tr>\n",
       "    <tr>\n",
       "      <th>starting_price</th>\n",
       "      <td>12224812.50</td>\n",
       "      <td>9013236.56</td>\n",
       "    </tr>\n",
       "    <tr>\n",
       "      <th>ending_price</th>\n",
       "      <td>13297312.50</td>\n",
       "      <td>10750612.90</td>\n",
       "    </tr>\n",
       "    <tr>\n",
       "      <th>max_torque_nm</th>\n",
       "      <td>477.56</td>\n",
       "      <td>395.15</td>\n",
       "    </tr>\n",
       "    <tr>\n",
       "      <th>max_torque_rpm</th>\n",
       "      <td>250.00</td>\n",
       "      <td>3630.87</td>\n",
       "    </tr>\n",
       "    <tr>\n",
       "      <th>max_power_bhp</th>\n",
       "      <td>288.53</td>\n",
       "      <td>262.83</td>\n",
       "    </tr>\n",
       "    <tr>\n",
       "      <th>max_power_rp</th>\n",
       "      <td>218.75</td>\n",
       "      <td>5209.14</td>\n",
       "    </tr>\n",
       "    <tr>\n",
       "      <th>country</th>\n",
       "      <td>0.12</td>\n",
       "      <td>0.06</td>\n",
       "    </tr>\n",
       "  </tbody>\n",
       "</table>\n",
       "</div>"
      ],
      "text/plain": [
       "                        Electric        Other\n",
       "reviews_count               8.19       128.82\n",
       "engine_displacement         0.00      2495.20\n",
       "no_cylinder                 0.00         5.10\n",
       "seating_capacity            4.75         5.04\n",
       "fuel_tank_capacity          0.00        49.97\n",
       "rating                      4.47         4.43\n",
       "starting_price       12224812.50   9013236.56\n",
       "ending_price         13297312.50  10750612.90\n",
       "max_torque_nm             477.56       395.15\n",
       "max_torque_rpm            250.00      3630.87\n",
       "max_power_bhp             288.53       262.83\n",
       "max_power_rp              218.75      5209.14\n",
       "country                     0.12         0.06"
      ]
     },
     "execution_count": 25,
     "metadata": {},
     "output_type": "execute_result"
    }
   ],
   "source": [
    "# 전기차의 특징\n",
    "df_ele = round(df[df['fuel_type']=='Electric'].mean(),2).reset_index()\n",
    "df_nel = round(df[df['fuel_type']!='Electric'].mean(),2).reset_index()\n",
    "df_el = pd.DataFrame(\n",
    "            {'Electric': df_ele[0],'Other': df_nel[0]})\n",
    "df_el = df_el.set_axis(df_ele['index'].tolist(),axis = 'index')\n",
    "df_el"
   ]
  },
  {
   "cell_type": "code",
   "execution_count": 26,
   "id": "8f90fe14",
   "metadata": {},
   "outputs": [
    {
     "data": {
      "image/png": "[encoded data removed]",
      "text/plain": [
       "<Figure size 864x360 with 12 Axes>"
      ]
     },
     "metadata": {
      "needs_background": "light"
     },
     "output_type": "display_data"
    }
   ],
   "source": [
    "plt.figure(figsize = (12,5),constrained_layout=True)\n",
    "subplot =1\n",
    "color = ['#438820','#e9ac06']\n",
    "for i in numeric_list: \n",
    "    plt.subplot(2,6,subplot)\n",
    "    sns.barplot(data = df_el[df_el.index == i],palette=color)\n",
    "    plt.title(i,loc='center', pad=10)\n",
    "    subplot +=1\n",
    "plt.show()\n",
    "    "
   ]
  },
  {
   "cell_type": "markdown",
   "id": "942a5652",
   "metadata": {},
   "source": [
    "전기차는 다른 자동차와는 다르게 엔진 대신 전기 모터가 존재하고  \n",
    "연료 탱크 대신 배터리가 존재한다.  \n",
    "그러므로 engine_displacement, no_cylinder, fuel_tank_capacit 항목에 데이터가 존재하지 않는다.  \n",
    "  \n",
    "또한, 전기차는 다른 연료를 사용하는 자동차에 비해 최대 토크와 최대 마력이 비교적 크다라는 특징이 보이지만  \n",
    "가격적인 면에서는 비교적 높은 가격을 형성하고 있다.  "
   ]
  },
  {
   "cell_type": "markdown",
   "id": "8728ee87",
   "metadata": {},
   "source": [
    " "
   ]
  },
  {
   "cell_type": "markdown",
   "id": "a8d6c736",
   "metadata": {},
   "source": [
    " "
   ]
  },
  {
   "cell_type": "markdown",
   "id": "5e63e582",
   "metadata": {},
   "source": [
    "#### 3-4 평점 "
   ]
  },
  {
   "cell_type": "code",
   "execution_count": 27,
   "id": "9f962256",
   "metadata": {},
   "outputs": [
    {
     "data": {
      "text/plain": [
       "<AxesSubplot:xlabel='rating'>"
      ]
     },
     "execution_count": 27,
     "metadata": {},
     "output_type": "execute_result"
    },
    {
     "data": {
      "image/png": "[encoded data removed]",
      "text/plain": [
       "<Figure size 432x288 with 1 Axes>"
      ]
     },
     "metadata": {
      "needs_background": "light"
     },
     "output_type": "display_data"
    }
   ],
   "source": [
    "sns.violinplot(df['rating'],color = '#438820')"
   ]
  },
  {
   "cell_type": "markdown",
   "id": "4f60fdd4",
   "metadata": {},
   "source": [
    "rating 항목의 데이터 분포를 살펴보면   \n",
    "평점이 3.0의 이상치를 볼 수 있다.  \n",
    "이것의 데이터와 전체 데이터의 평균을 비교해보자 "
   ]
  },
  {
   "cell_type": "code",
   "execution_count": 28,
   "id": "c194d7b7",
   "metadata": {},
   "outputs": [
    {
     "data": {
      "text/html": [
       "<div>\n",
       "<style scoped>\n",
       "    .dataframe tbody tr th:only-of-type {\n",
       "        vertical-align: middle;\n",
       "    }\n",
       "\n",
       "    .dataframe tbody tr th {\n",
       "        vertical-align: top;\n",
       "    }\n",
       "\n",
       "    .dataframe thead th {\n",
       "        text-align: right;\n",
       "    }\n",
       "</style>\n",
       "<table border=\"1\" class=\"dataframe\">\n",
       "  <thead>\n",
       "    <tr style=\"text-align: right;\">\n",
       "      <th></th>\n",
       "      <th>reviews_count</th>\n",
       "      <th>engine_displacement</th>\n",
       "      <th>no_cylinder</th>\n",
       "      <th>seating_capacity</th>\n",
       "      <th>fuel_tank_capacity</th>\n",
       "      <th>rating</th>\n",
       "      <th>starting_price</th>\n",
       "      <th>ending_price</th>\n",
       "      <th>max_torque_nm</th>\n",
       "      <th>max_torque_rpm</th>\n",
       "      <th>max_power_bhp</th>\n",
       "      <th>max_power_rp</th>\n",
       "    </tr>\n",
       "  </thead>\n",
       "  <tbody>\n",
       "    <tr>\n",
       "      <th>Ghibli</th>\n",
       "      <td>2.00</td>\n",
       "      <td>3799.00</td>\n",
       "      <td>8.00</td>\n",
       "      <td>5.00</td>\n",
       "      <td>80.00</td>\n",
       "      <td>3.00</td>\n",
       "      <td>11500000.00</td>\n",
       "      <td>19300000.00</td>\n",
       "      <td>450.00</td>\n",
       "      <td>1500.00</td>\n",
       "      <td>330.00</td>\n",
       "      <td>1500.00</td>\n",
       "    </tr>\n",
       "    <tr>\n",
       "      <th>Average</th>\n",
       "      <td>119.27</td>\n",
       "      <td>2297.56</td>\n",
       "      <td>4.69</td>\n",
       "      <td>5.01</td>\n",
       "      <td>46.02</td>\n",
       "      <td>4.43</td>\n",
       "      <td>9267618.81</td>\n",
       "      <td>10952331.68</td>\n",
       "      <td>401.68</td>\n",
       "      <td>3363.07</td>\n",
       "      <td>264.87</td>\n",
       "      <td>4813.86</td>\n",
       "    </tr>\n",
       "  </tbody>\n",
       "</table>\n",
       "</div>"
      ],
      "text/plain": [
       "         reviews_count  engine_displacement  no_cylinder  seating_capacity  \\\n",
       "Ghibli            2.00              3799.00         8.00              5.00   \n",
       "Average         119.27              2297.56         4.69              5.01   \n",
       "\n",
       "         fuel_tank_capacity  rating  starting_price  ending_price  \\\n",
       "Ghibli                80.00    3.00     11500000.00   19300000.00   \n",
       "Average               46.02    4.43      9267618.81   10952331.68   \n",
       "\n",
       "         max_torque_nm  max_torque_rpm  max_power_bhp  max_power_rp  \n",
       "Ghibli          450.00         1500.00         330.00       1500.00  \n",
       "Average         401.68         3363.07         264.87       4813.86  "
      ]
     },
     "execution_count": 28,
     "metadata": {},
     "output_type": "execute_result"
    }
   ],
   "source": [
    "df_ma = df[df['car_name'] == 'Maserati Ghibli'][numeric_list]\n",
    "df_ma.loc[len(df_ma)] = round(df[numeric_list].mean(),2).tolist()\n",
    "df_ma = df_ma.set_axis(['Ghibli','Average'],axis = 'index')\n",
    "df_ma"
   ]
  },
  {
   "cell_type": "code",
   "execution_count": 29,
   "id": "0c50f5c9",
   "metadata": {},
   "outputs": [
    {
     "data": {
      "image/png": "[encoded data removed]",
      "text/plain": [
       "<Figure size 864x360 with 12 Axes>"
      ]
     },
     "metadata": {
      "needs_background": "light"
     },
     "output_type": "display_data"
    }
   ],
   "source": [
    "plt.figure(figsize = (12,5),constrained_layout=True)\n",
    "subplot =1\n",
    "df_ma = df_ma.transpose()\n",
    "color = ['#438820','#e9ac06']\n",
    "for i in numeric_list: \n",
    "    plt.subplot(2,6,subplot)\n",
    "    sns.barplot(data = df_ma[df_ma.index == i],palette=color)\n",
    "    plt.title(i,loc='center', pad=10)\n",
    "    subplot +=1\n",
    "plt.show()\n",
    "    "
   ]
  },
  {
   "cell_type": "markdown",
   "id": "f8431870",
   "metadata": {},
   "source": [
    "평점인 3.0인 모델은 Maserati에서 만든 Ghibli모델로  \n",
    "위에 그래프를 보개되면 대부분의 항목에서 평균 이상인 것을 확인 할수 있다.  \n",
    "그해 반해 평점은 비교적 낮은데 개인적인 이유로는 현재 데이터항목에는 없는 또다른   \n",
    "요인이 평점에 영향을 미쳤거나 리뷰에 개수가 낮은 것을 보아 사람들의 관심이 낮아   \n",
    "비교적 낮은 평점을 보이게 된거 같다."
   ]
  },
  {
   "cell_type": "markdown",
   "id": "194077ab",
   "metadata": {},
   "source": [
    " "
   ]
  },
  {
   "cell_type": "markdown",
   "id": "1a54df6e",
   "metadata": {},
   "source": [
    " "
   ]
  },
  {
   "cell_type": "markdown",
   "id": "e2183b4f",
   "metadata": {},
   "source": [
    "#### 3-5 상관관계"
   ]
  },
  {
   "cell_type": "markdown",
   "id": "10901453",
   "metadata": {},
   "source": [
    "여기서 궁금해지는 것은  \n",
    "과연 상관계수와 랜덤포레스트에서 변수중요도가    \n",
    "비슷한 성향을 보이는가?  \n",
    "\n",
    "그것을 알아보기 위해 먼저 상관관계부터 보자"
   ]
  },
  {
   "cell_type": "code",
   "execution_count": 30,
   "id": "83ceff1b",
   "metadata": {},
   "outputs": [
    {
     "data": {
      "text/plain": [
       "<AxesSubplot:>"
      ]
     },
     "execution_count": 30,
     "metadata": {},
     "output_type": "execute_result"
    },
    {
     "data": {
      "image/png": "[encoded data removed]",
      "text/plain": [
       "<Figure size 864x576 with 2 Axes>"
      ]
     },
     "metadata": {
      "needs_background": "light"
     },
     "output_type": "display_data"
    }
   ],
   "source": [
    "# 상관관계\n",
    "plt.figure(figsize = (12,8))\n",
    "sns.heatmap(df.corr(),cmap = \"Greens\",annot = True) "
   ]
  },
  {
   "cell_type": "code",
   "execution_count": 31,
   "id": "738d8361",
   "metadata": {},
   "outputs": [
    {
     "data": {
      "text/html": [
       "<div>\n",
       "<style scoped>\n",
       "    .dataframe tbody tr th:only-of-type {\n",
       "        vertical-align: middle;\n",
       "    }\n",
       "\n",
       "    .dataframe tbody tr th {\n",
       "        vertical-align: top;\n",
       "    }\n",
       "\n",
       "    .dataframe thead th {\n",
       "        text-align: right;\n",
       "    }\n",
       "</style>\n",
       "<table border=\"1\" class=\"dataframe\">\n",
       "  <thead>\n",
       "    <tr style=\"text-align: right;\">\n",
       "      <th></th>\n",
       "      <th>column1</th>\n",
       "      <th>column2</th>\n",
       "      <th>corr</th>\n",
       "    </tr>\n",
       "  </thead>\n",
       "  <tbody>\n",
       "    <tr>\n",
       "      <th>9</th>\n",
       "      <td>starting_price</td>\n",
       "      <td>max_power_bhp</td>\n",
       "      <td>0.663806</td>\n",
       "    </tr>\n",
       "    <tr>\n",
       "      <th>10</th>\n",
       "      <td>starting_price</td>\n",
       "      <td>max_torque_nm</td>\n",
       "      <td>0.633799</td>\n",
       "    </tr>\n",
       "    <tr>\n",
       "      <th>16</th>\n",
       "      <td>starting_price</td>\n",
       "      <td>no_cylinder</td>\n",
       "      <td>0.575832</td>\n",
       "    </tr>\n",
       "    <tr>\n",
       "      <th>32</th>\n",
       "      <td>starting_price</td>\n",
       "      <td>fuel_tank_capacity</td>\n",
       "      <td>0.135617</td>\n",
       "    </tr>\n",
       "    <tr>\n",
       "      <th>41</th>\n",
       "      <td>starting_price</td>\n",
       "      <td>rating</td>\n",
       "      <td>0.025259</td>\n",
       "    </tr>\n",
       "    <tr>\n",
       "      <th>60</th>\n",
       "      <td>starting_price</td>\n",
       "      <td>country</td>\n",
       "      <td>-0.135240</td>\n",
       "    </tr>\n",
       "    <tr>\n",
       "      <th>70</th>\n",
       "      <td>starting_price</td>\n",
       "      <td>reviews_count</td>\n",
       "      <td>-0.216463</td>\n",
       "    </tr>\n",
       "  </tbody>\n",
       "</table>\n",
       "</div>"
      ],
      "text/plain": [
       "           column1             column2      corr\n",
       "9   starting_price       max_power_bhp  0.663806\n",
       "10  starting_price       max_torque_nm  0.633799\n",
       "16  starting_price         no_cylinder  0.575832\n",
       "32  starting_price  fuel_tank_capacity  0.135617\n",
       "41  starting_price              rating  0.025259\n",
       "60  starting_price             country -0.135240\n",
       "70  starting_price       reviews_count -0.216463"
      ]
     },
     "execution_count": 31,
     "metadata": {},
     "output_type": "execute_result"
    }
   ],
   "source": [
    "df_corr = df.corr().unstack().sort_values(ascending = False).drop_duplicates().reset_index()\n",
    "df_corr.columns = ['column1','column2','corr']\n",
    "df_corr[df_corr['column1'] == 'starting_price']"
   ]
  },
  {
   "cell_type": "markdown",
   "id": "9b03add6",
   "metadata": {},
   "source": [
    "가격에대한 상관관계를 보면  \n",
    "같은 가격에대한 ending_price는 제외하고  \n",
    "최대마력, 최대토크, 엔진 배기량 순으로 상관계수가 높은 것을 확인할수 있다."
   ]
  },
  {
   "cell_type": "markdown",
   "id": "930b1f93",
   "metadata": {},
   "source": [
    " "
   ]
  },
  {
   "cell_type": "markdown",
   "id": "6780c514",
   "metadata": {},
   "source": [
    "다음으로 랜덤포레스트를 이용한 변수중요도를 살펴보자"
   ]
  },
  {
   "cell_type": "code",
   "execution_count": 32,
   "id": "9ccf8f08",
   "metadata": {},
   "outputs": [
    {
     "data": {
      "text/html": [
       "<div>\n",
       "<style scoped>\n",
       "    .dataframe tbody tr th:only-of-type {\n",
       "        vertical-align: middle;\n",
       "    }\n",
       "\n",
       "    .dataframe tbody tr th {\n",
       "        vertical-align: top;\n",
       "    }\n",
       "\n",
       "    .dataframe thead th {\n",
       "        text-align: right;\n",
       "    }\n",
       "</style>\n",
       "<table border=\"1\" class=\"dataframe\">\n",
       "  <thead>\n",
       "    <tr style=\"text-align: right;\">\n",
       "      <th></th>\n",
       "      <th>reviews_count</th>\n",
       "      <th>fuel_type</th>\n",
       "      <th>engine_displacement</th>\n",
       "      <th>no_cylinder</th>\n",
       "      <th>seating_capacity</th>\n",
       "      <th>transmission_type</th>\n",
       "      <th>fuel_tank_capacity</th>\n",
       "      <th>body_type</th>\n",
       "      <th>rating</th>\n",
       "      <th>max_torque_nm</th>\n",
       "      <th>max_torque_rpm</th>\n",
       "      <th>max_power_bhp</th>\n",
       "      <th>max_power_rp</th>\n",
       "      <th>brand</th>\n",
       "      <th>country</th>\n",
       "    </tr>\n",
       "  </thead>\n",
       "  <tbody>\n",
       "    <tr>\n",
       "      <th>0</th>\n",
       "      <td>51</td>\n",
       "      <td>Petrol</td>\n",
       "      <td>998</td>\n",
       "      <td>3</td>\n",
       "      <td>5.0</td>\n",
       "      <td>Automatic</td>\n",
       "      <td>27.0</td>\n",
       "      <td>Hatchback</td>\n",
       "      <td>4.5</td>\n",
       "      <td>89.0</td>\n",
       "      <td>3500</td>\n",
       "      <td>65.71</td>\n",
       "      <td>5500</td>\n",
       "      <td>Maruti</td>\n",
       "      <td>0</td>\n",
       "    </tr>\n",
       "    <tr>\n",
       "      <th>1</th>\n",
       "      <td>86</td>\n",
       "      <td>Petrol</td>\n",
       "      <td>1462</td>\n",
       "      <td>4</td>\n",
       "      <td>5.0</td>\n",
       "      <td>Automatic</td>\n",
       "      <td>48.0</td>\n",
       "      <td>SUV</td>\n",
       "      <td>4.5</td>\n",
       "      <td>136.8</td>\n",
       "      <td>4400</td>\n",
       "      <td>101.65</td>\n",
       "      <td>6000</td>\n",
       "      <td>Maruti</td>\n",
       "      <td>0</td>\n",
       "    </tr>\n",
       "    <tr>\n",
       "      <th>2</th>\n",
       "      <td>242</td>\n",
       "      <td>Diesel</td>\n",
       "      <td>2184</td>\n",
       "      <td>4</td>\n",
       "      <td>4.0</td>\n",
       "      <td>Automatic</td>\n",
       "      <td>57.0</td>\n",
       "      <td>SUV</td>\n",
       "      <td>4.5</td>\n",
       "      <td>300.0</td>\n",
       "      <td>2800</td>\n",
       "      <td>130.00</td>\n",
       "      <td>3750</td>\n",
       "      <td>Mahindra</td>\n",
       "      <td>0</td>\n",
       "    </tr>\n",
       "    <tr>\n",
       "      <th>3</th>\n",
       "      <td>313</td>\n",
       "      <td>Diesel</td>\n",
       "      <td>2198</td>\n",
       "      <td>4</td>\n",
       "      <td>7.0</td>\n",
       "      <td>Automatic</td>\n",
       "      <td>60.0</td>\n",
       "      <td>SUV</td>\n",
       "      <td>4.5</td>\n",
       "      <td>450.0</td>\n",
       "      <td>2800</td>\n",
       "      <td>182.38</td>\n",
       "      <td>3500</td>\n",
       "      <td>Mahindra</td>\n",
       "      <td>0</td>\n",
       "    </tr>\n",
       "    <tr>\n",
       "      <th>4</th>\n",
       "      <td>107</td>\n",
       "      <td>Diesel</td>\n",
       "      <td>2198</td>\n",
       "      <td>4</td>\n",
       "      <td>7.0</td>\n",
       "      <td>Automatic</td>\n",
       "      <td>57.0</td>\n",
       "      <td>SUV</td>\n",
       "      <td>4.5</td>\n",
       "      <td>400.0</td>\n",
       "      <td>2750</td>\n",
       "      <td>172.45</td>\n",
       "      <td>3500</td>\n",
       "      <td>Mahindra</td>\n",
       "      <td>0</td>\n",
       "    </tr>\n",
       "  </tbody>\n",
       "</table>\n",
       "</div>"
      ],
      "text/plain": [
       "   reviews_count fuel_type  engine_displacement  no_cylinder  \\\n",
       "0             51    Petrol                  998            3   \n",
       "1             86    Petrol                 1462            4   \n",
       "2            242    Diesel                 2184            4   \n",
       "3            313    Diesel                 2198            4   \n",
       "4            107    Diesel                 2198            4   \n",
       "\n",
       "   seating_capacity transmission_type  fuel_tank_capacity  body_type  rating  \\\n",
       "0               5.0         Automatic                27.0  Hatchback     4.5   \n",
       "1               5.0         Automatic                48.0        SUV     4.5   \n",
       "2               4.0         Automatic                57.0        SUV     4.5   \n",
       "3               7.0         Automatic                60.0        SUV     4.5   \n",
       "4               7.0         Automatic                57.0        SUV     4.5   \n",
       "\n",
       "   max_torque_nm  max_torque_rpm  max_power_bhp  max_power_rp     brand  \\\n",
       "0           89.0            3500          65.71          5500    Maruti   \n",
       "1          136.8            4400         101.65          6000    Maruti   \n",
       "2          300.0            2800         130.00          3750  Mahindra   \n",
       "3          450.0            2800         182.38          3500  Mahindra   \n",
       "4          400.0            2750         172.45          3500  Mahindra   \n",
       "\n",
       "   country  \n",
       "0        0  \n",
       "1        0  \n",
       "2        0  \n",
       "3        0  \n",
       "4        0  "
      ]
     },
     "execution_count": 32,
     "metadata": {},
     "output_type": "execute_result"
    }
   ],
   "source": [
    "df_sc = df.drop('car_name',axis = 1)\n",
    "df_sc =df_sc.drop(['starting_price','ending_price'],axis = 1)\n",
    "df_sc.head()"
   ]
  },
  {
   "cell_type": "code",
   "execution_count": 33,
   "id": "c2c1967b",
   "metadata": {},
   "outputs": [],
   "source": [
    "from sklearn.preprocessing import LabelEncoder\n",
    "encoder = LabelEncoder()"
   ]
  },
  {
   "cell_type": "code",
   "execution_count": 34,
   "id": "251de615",
   "metadata": {},
   "outputs": [
    {
     "data": {
      "text/html": [
       "<div>\n",
       "<style scoped>\n",
       "    .dataframe tbody tr th:only-of-type {\n",
       "        vertical-align: middle;\n",
       "    }\n",
       "\n",
       "    .dataframe tbody tr th {\n",
       "        vertical-align: top;\n",
       "    }\n",
       "\n",
       "    .dataframe thead th {\n",
       "        text-align: right;\n",
       "    }\n",
       "</style>\n",
       "<table border=\"1\" class=\"dataframe\">\n",
       "  <thead>\n",
       "    <tr style=\"text-align: right;\">\n",
       "      <th></th>\n",
       "      <th>reviews_count</th>\n",
       "      <th>fuel_type</th>\n",
       "      <th>engine_displacement</th>\n",
       "      <th>no_cylinder</th>\n",
       "      <th>seating_capacity</th>\n",
       "      <th>transmission_type</th>\n",
       "      <th>fuel_tank_capacity</th>\n",
       "      <th>body_type</th>\n",
       "      <th>rating</th>\n",
       "      <th>max_torque_nm</th>\n",
       "      <th>max_torque_rpm</th>\n",
       "      <th>max_power_bhp</th>\n",
       "      <th>max_power_rp</th>\n",
       "      <th>brand</th>\n",
       "      <th>country</th>\n",
       "    </tr>\n",
       "  </thead>\n",
       "  <tbody>\n",
       "    <tr>\n",
       "      <th>0</th>\n",
       "      <td>51</td>\n",
       "      <td>3</td>\n",
       "      <td>998</td>\n",
       "      <td>3</td>\n",
       "      <td>5.0</td>\n",
       "      <td>0</td>\n",
       "      <td>27.0</td>\n",
       "      <td>2</td>\n",
       "      <td>4.5</td>\n",
       "      <td>89.0</td>\n",
       "      <td>3500</td>\n",
       "      <td>65.71</td>\n",
       "      <td>5500</td>\n",
       "      <td>22</td>\n",
       "      <td>0</td>\n",
       "    </tr>\n",
       "    <tr>\n",
       "      <th>1</th>\n",
       "      <td>86</td>\n",
       "      <td>3</td>\n",
       "      <td>1462</td>\n",
       "      <td>4</td>\n",
       "      <td>5.0</td>\n",
       "      <td>0</td>\n",
       "      <td>48.0</td>\n",
       "      <td>8</td>\n",
       "      <td>4.5</td>\n",
       "      <td>136.8</td>\n",
       "      <td>4400</td>\n",
       "      <td>101.65</td>\n",
       "      <td>6000</td>\n",
       "      <td>22</td>\n",
       "      <td>0</td>\n",
       "    </tr>\n",
       "    <tr>\n",
       "      <th>2</th>\n",
       "      <td>242</td>\n",
       "      <td>1</td>\n",
       "      <td>2184</td>\n",
       "      <td>4</td>\n",
       "      <td>4.0</td>\n",
       "      <td>0</td>\n",
       "      <td>57.0</td>\n",
       "      <td>8</td>\n",
       "      <td>4.5</td>\n",
       "      <td>300.0</td>\n",
       "      <td>2800</td>\n",
       "      <td>130.00</td>\n",
       "      <td>3750</td>\n",
       "      <td>21</td>\n",
       "      <td>0</td>\n",
       "    </tr>\n",
       "    <tr>\n",
       "      <th>3</th>\n",
       "      <td>313</td>\n",
       "      <td>1</td>\n",
       "      <td>2198</td>\n",
       "      <td>4</td>\n",
       "      <td>7.0</td>\n",
       "      <td>0</td>\n",
       "      <td>60.0</td>\n",
       "      <td>8</td>\n",
       "      <td>4.5</td>\n",
       "      <td>450.0</td>\n",
       "      <td>2800</td>\n",
       "      <td>182.38</td>\n",
       "      <td>3500</td>\n",
       "      <td>21</td>\n",
       "      <td>0</td>\n",
       "    </tr>\n",
       "    <tr>\n",
       "      <th>4</th>\n",
       "      <td>107</td>\n",
       "      <td>1</td>\n",
       "      <td>2198</td>\n",
       "      <td>4</td>\n",
       "      <td>7.0</td>\n",
       "      <td>0</td>\n",
       "      <td>57.0</td>\n",
       "      <td>8</td>\n",
       "      <td>4.5</td>\n",
       "      <td>400.0</td>\n",
       "      <td>2750</td>\n",
       "      <td>172.45</td>\n",
       "      <td>3500</td>\n",
       "      <td>21</td>\n",
       "      <td>0</td>\n",
       "    </tr>\n",
       "    <tr>\n",
       "      <th>...</th>\n",
       "      <td>...</td>\n",
       "      <td>...</td>\n",
       "      <td>...</td>\n",
       "      <td>...</td>\n",
       "      <td>...</td>\n",
       "      <td>...</td>\n",
       "      <td>...</td>\n",
       "      <td>...</td>\n",
       "      <td>...</td>\n",
       "      <td>...</td>\n",
       "      <td>...</td>\n",
       "      <td>...</td>\n",
       "      <td>...</td>\n",
       "      <td>...</td>\n",
       "      <td>...</td>\n",
       "    </tr>\n",
       "    <tr>\n",
       "      <th>198</th>\n",
       "      <td>35</td>\n",
       "      <td>3</td>\n",
       "      <td>1991</td>\n",
       "      <td>4</td>\n",
       "      <td>5.0</td>\n",
       "      <td>0</td>\n",
       "      <td>0.0</td>\n",
       "      <td>2</td>\n",
       "      <td>4.5</td>\n",
       "      <td>500.0</td>\n",
       "      <td>5250</td>\n",
       "      <td>415.71</td>\n",
       "      <td>6750</td>\n",
       "      <td>24</td>\n",
       "      <td>0</td>\n",
       "    </tr>\n",
       "    <tr>\n",
       "      <th>199</th>\n",
       "      <td>3</td>\n",
       "      <td>3</td>\n",
       "      <td>1998</td>\n",
       "      <td>4</td>\n",
       "      <td>5.0</td>\n",
       "      <td>0</td>\n",
       "      <td>59.0</td>\n",
       "      <td>9</td>\n",
       "      <td>4.5</td>\n",
       "      <td>400.0</td>\n",
       "      <td>4400</td>\n",
       "      <td>254.79</td>\n",
       "      <td>5000</td>\n",
       "      <td>2</td>\n",
       "      <td>0</td>\n",
       "    </tr>\n",
       "    <tr>\n",
       "      <th>200</th>\n",
       "      <td>2</td>\n",
       "      <td>1</td>\n",
       "      <td>1956</td>\n",
       "      <td>4</td>\n",
       "      <td>7.0</td>\n",
       "      <td>2</td>\n",
       "      <td>60.0</td>\n",
       "      <td>8</td>\n",
       "      <td>4.5</td>\n",
       "      <td>350.0</td>\n",
       "      <td>2500</td>\n",
       "      <td>167.67</td>\n",
       "      <td>3750</td>\n",
       "      <td>20</td>\n",
       "      <td>0</td>\n",
       "    </tr>\n",
       "    <tr>\n",
       "      <th>201</th>\n",
       "      <td>9</td>\n",
       "      <td>3</td>\n",
       "      <td>3998</td>\n",
       "      <td>8</td>\n",
       "      <td>5.0</td>\n",
       "      <td>0</td>\n",
       "      <td>85.0</td>\n",
       "      <td>8</td>\n",
       "      <td>3.5</td>\n",
       "      <td>800.0</td>\n",
       "      <td>4500</td>\n",
       "      <td>591.39</td>\n",
       "      <td>6000</td>\n",
       "      <td>1</td>\n",
       "      <td>0</td>\n",
       "    </tr>\n",
       "    <tr>\n",
       "      <th>202</th>\n",
       "      <td>4</td>\n",
       "      <td>3</td>\n",
       "      <td>796</td>\n",
       "      <td>3</td>\n",
       "      <td>5.0</td>\n",
       "      <td>2</td>\n",
       "      <td>35.0</td>\n",
       "      <td>2</td>\n",
       "      <td>4.5</td>\n",
       "      <td>69.0</td>\n",
       "      <td>3500</td>\n",
       "      <td>47.33</td>\n",
       "      <td>6000</td>\n",
       "      <td>22</td>\n",
       "      <td>0</td>\n",
       "    </tr>\n",
       "  </tbody>\n",
       "</table>\n",
       "<p>202 rows × 15 columns</p>\n",
       "</div>"
      ],
      "text/plain": [
       "     reviews_count  fuel_type  engine_displacement  no_cylinder  \\\n",
       "0               51          3                  998            3   \n",
       "1               86          3                 1462            4   \n",
       "2              242          1                 2184            4   \n",
       "3              313          1                 2198            4   \n",
       "4              107          1                 2198            4   \n",
       "..             ...        ...                  ...          ...   \n",
       "198             35          3                 1991            4   \n",
       "199              3          3                 1998            4   \n",
       "200              2          1                 1956            4   \n",
       "201              9          3                 3998            8   \n",
       "202              4          3                  796            3   \n",
       "\n",
       "     seating_capacity  transmission_type  fuel_tank_capacity  body_type  \\\n",
       "0                 5.0                  0                27.0          2   \n",
       "1                 5.0                  0                48.0          8   \n",
       "2                 4.0                  0                57.0          8   \n",
       "3                 7.0                  0                60.0          8   \n",
       "4                 7.0                  0                57.0          8   \n",
       "..                ...                ...                 ...        ...   \n",
       "198               5.0                  0                 0.0          2   \n",
       "199               5.0                  0                59.0          9   \n",
       "200               7.0                  2                60.0          8   \n",
       "201               5.0                  0                85.0          8   \n",
       "202               5.0                  2                35.0          2   \n",
       "\n",
       "     rating  max_torque_nm  max_torque_rpm  max_power_bhp  max_power_rp  \\\n",
       "0       4.5           89.0            3500          65.71          5500   \n",
       "1       4.5          136.8            4400         101.65          6000   \n",
       "2       4.5          300.0            2800         130.00          3750   \n",
       "3       4.5          450.0            2800         182.38          3500   \n",
       "4       4.5          400.0            2750         172.45          3500   \n",
       "..      ...            ...             ...            ...           ...   \n",
       "198     4.5          500.0            5250         415.71          6750   \n",
       "199     4.5          400.0            4400         254.79          5000   \n",
       "200     4.5          350.0            2500         167.67          3750   \n",
       "201     3.5          800.0            4500         591.39          6000   \n",
       "202     4.5           69.0            3500          47.33          6000   \n",
       "\n",
       "     brand  country  \n",
       "0       22        0  \n",
       "1       22        0  \n",
       "2       21        0  \n",
       "3       21        0  \n",
       "4       21        0  \n",
       "..     ...      ...  \n",
       "198     24        0  \n",
       "199      2        0  \n",
       "200     20        0  \n",
       "201      1        0  \n",
       "202     22        0  \n",
       "\n",
       "[202 rows x 15 columns]"
      ]
     },
     "execution_count": 34,
     "metadata": {},
     "output_type": "execute_result"
    }
   ],
   "source": [
    "#스케일링\n",
    "encoded = df_sc[['fuel_type','transmission_type','body_type','brand']].apply(encoder.fit_transform)\n",
    "df_sc = df_sc.assign(fuel_type = encoded['fuel_type'],\n",
    "                    transmission_type = encoded['transmission_type'],\n",
    "                    body_type = encoded['body_type'],\n",
    "                    brand = encoded['brand'])\n",
    "df_sc"
   ]
  },
  {
   "cell_type": "code",
   "execution_count": 35,
   "id": "6dc94c87",
   "metadata": {},
   "outputs": [
    {
     "data": {
      "text/html": [
       "<div>\n",
       "<style scoped>\n",
       "    .dataframe tbody tr th:only-of-type {\n",
       "        vertical-align: middle;\n",
       "    }\n",
       "\n",
       "    .dataframe tbody tr th {\n",
       "        vertical-align: top;\n",
       "    }\n",
       "\n",
       "    .dataframe thead th {\n",
       "        text-align: right;\n",
       "    }\n",
       "</style>\n",
       "<table border=\"1\" class=\"dataframe\">\n",
       "  <thead>\n",
       "    <tr style=\"text-align: right;\">\n",
       "      <th></th>\n",
       "      <th>reviews_count</th>\n",
       "      <th>fuel_type</th>\n",
       "      <th>engine_displacement</th>\n",
       "      <th>no_cylinder</th>\n",
       "      <th>seating_capacity</th>\n",
       "      <th>transmission_type</th>\n",
       "      <th>fuel_tank_capacity</th>\n",
       "      <th>body_type</th>\n",
       "      <th>rating</th>\n",
       "      <th>max_torque_nm</th>\n",
       "      <th>max_torque_rpm</th>\n",
       "      <th>max_power_bhp</th>\n",
       "      <th>max_power_rp</th>\n",
       "      <th>brand</th>\n",
       "      <th>country</th>\n",
       "    </tr>\n",
       "  </thead>\n",
       "  <tbody>\n",
       "    <tr>\n",
       "      <th>0</th>\n",
       "      <td>-0.217258</td>\n",
       "      <td>0.746385</td>\n",
       "      <td>-0.872727</td>\n",
       "      <td>-0.669719</td>\n",
       "      <td>-0.012823</td>\n",
       "      <td>-0.495951</td>\n",
       "      <td>-0.659205</td>\n",
       "      <td>-1.327409</td>\n",
       "      <td>0.238602</td>\n",
       "      <td>-1.321698</td>\n",
       "      <td>0.086805</td>\n",
       "      <td>-1.037618</td>\n",
       "      <td>0.349714</td>\n",
       "      <td>0.310473</td>\n",
       "      <td>0</td>\n",
       "    </tr>\n",
       "    <tr>\n",
       "      <th>1</th>\n",
       "      <td>-0.105872</td>\n",
       "      <td>0.746385</td>\n",
       "      <td>-0.561126</td>\n",
       "      <td>-0.274154</td>\n",
       "      <td>-0.012823</td>\n",
       "      <td>-0.495951</td>\n",
       "      <td>0.068783</td>\n",
       "      <td>0.574269</td>\n",
       "      <td>0.238602</td>\n",
       "      <td>-1.119648</td>\n",
       "      <td>0.657365</td>\n",
       "      <td>-0.850371</td>\n",
       "      <td>0.604556</td>\n",
       "      <td>0.310473</td>\n",
       "      <td>0</td>\n",
       "    </tr>\n",
       "    <tr>\n",
       "      <th>2</th>\n",
       "      <td>0.390593</td>\n",
       "      <td>-1.304905</td>\n",
       "      <td>-0.076265</td>\n",
       "      <td>-0.274154</td>\n",
       "      <td>-0.876252</td>\n",
       "      <td>-0.495951</td>\n",
       "      <td>0.380778</td>\n",
       "      <td>0.574269</td>\n",
       "      <td>0.238602</td>\n",
       "      <td>-0.429802</td>\n",
       "      <td>-0.356964</td>\n",
       "      <td>-0.702668</td>\n",
       "      <td>-0.542234</td>\n",
       "      <td>0.212785</td>\n",
       "      <td>0</td>\n",
       "    </tr>\n",
       "    <tr>\n",
       "      <th>3</th>\n",
       "      <td>0.616548</td>\n",
       "      <td>-1.304905</td>\n",
       "      <td>-0.066863</td>\n",
       "      <td>-0.274154</td>\n",
       "      <td>1.714035</td>\n",
       "      <td>-0.495951</td>\n",
       "      <td>0.484776</td>\n",
       "      <td>0.574269</td>\n",
       "      <td>0.238602</td>\n",
       "      <td>0.204248</td>\n",
       "      <td>-0.356964</td>\n",
       "      <td>-0.429769</td>\n",
       "      <td>-0.669655</td>\n",
       "      <td>0.212785</td>\n",
       "      <td>0</td>\n",
       "    </tr>\n",
       "    <tr>\n",
       "      <th>4</th>\n",
       "      <td>-0.039040</td>\n",
       "      <td>-1.304905</td>\n",
       "      <td>-0.066863</td>\n",
       "      <td>-0.274154</td>\n",
       "      <td>1.714035</td>\n",
       "      <td>-0.495951</td>\n",
       "      <td>0.380778</td>\n",
       "      <td>0.574269</td>\n",
       "      <td>0.238602</td>\n",
       "      <td>-0.007102</td>\n",
       "      <td>-0.388662</td>\n",
       "      <td>-0.481504</td>\n",
       "      <td>-0.669655</td>\n",
       "      <td>0.212785</td>\n",
       "      <td>0</td>\n",
       "    </tr>\n",
       "    <tr>\n",
       "      <th>...</th>\n",
       "      <td>...</td>\n",
       "      <td>...</td>\n",
       "      <td>...</td>\n",
       "      <td>...</td>\n",
       "      <td>...</td>\n",
       "      <td>...</td>\n",
       "      <td>...</td>\n",
       "      <td>...</td>\n",
       "      <td>...</td>\n",
       "      <td>...</td>\n",
       "      <td>...</td>\n",
       "      <td>...</td>\n",
       "      <td>...</td>\n",
       "      <td>...</td>\n",
       "      <td>...</td>\n",
       "    </tr>\n",
       "    <tr>\n",
       "      <th>198</th>\n",
       "      <td>-0.268178</td>\n",
       "      <td>0.746385</td>\n",
       "      <td>-0.205874</td>\n",
       "      <td>-0.274154</td>\n",
       "      <td>-0.012823</td>\n",
       "      <td>-0.495951</td>\n",
       "      <td>-1.595190</td>\n",
       "      <td>-1.327409</td>\n",
       "      <td>0.238602</td>\n",
       "      <td>0.415598</td>\n",
       "      <td>1.196227</td>\n",
       "      <td>0.785878</td>\n",
       "      <td>0.986820</td>\n",
       "      <td>0.505848</td>\n",
       "      <td>0</td>\n",
       "    </tr>\n",
       "    <tr>\n",
       "      <th>199</th>\n",
       "      <td>-0.370017</td>\n",
       "      <td>0.746385</td>\n",
       "      <td>-0.201173</td>\n",
       "      <td>-0.274154</td>\n",
       "      <td>-0.012823</td>\n",
       "      <td>-0.495951</td>\n",
       "      <td>0.450110</td>\n",
       "      <td>0.891215</td>\n",
       "      <td>0.238602</td>\n",
       "      <td>-0.007102</td>\n",
       "      <td>0.657365</td>\n",
       "      <td>-0.052514</td>\n",
       "      <td>0.094872</td>\n",
       "      <td>-1.643282</td>\n",
       "      <td>0</td>\n",
       "    </tr>\n",
       "    <tr>\n",
       "      <th>200</th>\n",
       "      <td>-0.373199</td>\n",
       "      <td>-1.304905</td>\n",
       "      <td>-0.229379</td>\n",
       "      <td>-0.274154</td>\n",
       "      <td>1.714035</td>\n",
       "      <td>2.286883</td>\n",
       "      <td>0.484776</td>\n",
       "      <td>0.574269</td>\n",
       "      <td>0.238602</td>\n",
       "      <td>-0.218452</td>\n",
       "      <td>-0.547151</td>\n",
       "      <td>-0.506408</td>\n",
       "      <td>-0.542234</td>\n",
       "      <td>0.115097</td>\n",
       "      <td>0</td>\n",
       "    </tr>\n",
       "    <tr>\n",
       "      <th>201</th>\n",
       "      <td>-0.350922</td>\n",
       "      <td>0.746385</td>\n",
       "      <td>1.141933</td>\n",
       "      <td>1.308105</td>\n",
       "      <td>-0.012823</td>\n",
       "      <td>-0.495951</td>\n",
       "      <td>1.351429</td>\n",
       "      <td>0.574269</td>\n",
       "      <td>-3.331590</td>\n",
       "      <td>1.683697</td>\n",
       "      <td>0.720761</td>\n",
       "      <td>1.701169</td>\n",
       "      <td>0.604556</td>\n",
       "      <td>-1.740970</td>\n",
       "      <td>0</td>\n",
       "    </tr>\n",
       "    <tr>\n",
       "      <th>202</th>\n",
       "      <td>-0.366834</td>\n",
       "      <td>0.746385</td>\n",
       "      <td>-1.008380</td>\n",
       "      <td>-0.669719</td>\n",
       "      <td>-0.012823</td>\n",
       "      <td>2.286883</td>\n",
       "      <td>-0.381876</td>\n",
       "      <td>-1.327409</td>\n",
       "      <td>0.238602</td>\n",
       "      <td>-1.406238</td>\n",
       "      <td>0.086805</td>\n",
       "      <td>-1.133378</td>\n",
       "      <td>0.604556</td>\n",
       "      <td>0.310473</td>\n",
       "      <td>0</td>\n",
       "    </tr>\n",
       "  </tbody>\n",
       "</table>\n",
       "<p>202 rows × 15 columns</p>\n",
       "</div>"
      ],
      "text/plain": [
       "     reviews_count  fuel_type  engine_displacement  no_cylinder  \\\n",
       "0        -0.217258   0.746385            -0.872727    -0.669719   \n",
       "1        -0.105872   0.746385            -0.561126    -0.274154   \n",
       "2         0.390593  -1.304905            -0.076265    -0.274154   \n",
       "3         0.616548  -1.304905            -0.066863    -0.274154   \n",
       "4        -0.039040  -1.304905            -0.066863    -0.274154   \n",
       "..             ...        ...                  ...          ...   \n",
       "198      -0.268178   0.746385            -0.205874    -0.274154   \n",
       "199      -0.370017   0.746385            -0.201173    -0.274154   \n",
       "200      -0.373199  -1.304905            -0.229379    -0.274154   \n",
       "201      -0.350922   0.746385             1.141933     1.308105   \n",
       "202      -0.366834   0.746385            -1.008380    -0.669719   \n",
       "\n",
       "     seating_capacity  transmission_type  fuel_tank_capacity  body_type  \\\n",
       "0           -0.012823          -0.495951           -0.659205  -1.327409   \n",
       "1           -0.012823          -0.495951            0.068783   0.574269   \n",
       "2           -0.876252          -0.495951            0.380778   0.574269   \n",
       "3            1.714035          -0.495951            0.484776   0.574269   \n",
       "4            1.714035          -0.495951            0.380778   0.574269   \n",
       "..                ...                ...                 ...        ...   \n",
       "198         -0.012823          -0.495951           -1.595190  -1.327409   \n",
       "199         -0.012823          -0.495951            0.450110   0.891215   \n",
       "200          1.714035           2.286883            0.484776   0.574269   \n",
       "201         -0.012823          -0.495951            1.351429   0.574269   \n",
       "202         -0.012823           2.286883           -0.381876  -1.327409   \n",
       "\n",
       "       rating  max_torque_nm  max_torque_rpm  max_power_bhp  max_power_rp  \\\n",
       "0    0.238602      -1.321698        0.086805      -1.037618      0.349714   \n",
       "1    0.238602      -1.119648        0.657365      -0.850371      0.604556   \n",
       "2    0.238602      -0.429802       -0.356964      -0.702668     -0.542234   \n",
       "3    0.238602       0.204248       -0.356964      -0.429769     -0.669655   \n",
       "4    0.238602      -0.007102       -0.388662      -0.481504     -0.669655   \n",
       "..        ...            ...             ...            ...           ...   \n",
       "198  0.238602       0.415598        1.196227       0.785878      0.986820   \n",
       "199  0.238602      -0.007102        0.657365      -0.052514      0.094872   \n",
       "200  0.238602      -0.218452       -0.547151      -0.506408     -0.542234   \n",
       "201 -3.331590       1.683697        0.720761       1.701169      0.604556   \n",
       "202  0.238602      -1.406238        0.086805      -1.133378      0.604556   \n",
       "\n",
       "        brand  country  \n",
       "0    0.310473        0  \n",
       "1    0.310473        0  \n",
       "2    0.212785        0  \n",
       "3    0.212785        0  \n",
       "4    0.212785        0  \n",
       "..        ...      ...  \n",
       "198  0.505848        0  \n",
       "199 -1.643282        0  \n",
       "200  0.115097        0  \n",
       "201 -1.740970        0  \n",
       "202  0.310473        0  \n",
       "\n",
       "[202 rows x 15 columns]"
      ]
     },
     "execution_count": 35,
     "metadata": {},
     "output_type": "execute_result"
    }
   ],
   "source": [
    "from sklearn.preprocessing import StandardScaler\n",
    "scaler = StandardScaler()\n",
    "df_sc_sc = scaler.fit_transform(df_sc)\n",
    "df_sc = df_sc.assign(reviews_count = df_sc_sc[:,0],\n",
    "                     fuel_type = df_sc_sc[:,1],\n",
    "                      engine_displacement = df_sc_sc[:,2],\n",
    "                      no_cylinder = df_sc_sc[:,3],\n",
    "                      seating_capacity = df_sc_sc[:,4],\n",
    "                      transmission_type = df_sc_sc[:,5],\n",
    "                      fuel_tank_capacity = df_sc_sc[:,6],\n",
    "                      body_type = df_sc_sc[:,7],\n",
    "                       rating = df_sc_sc[:,8],\n",
    "                       max_torque_nm = df_sc_sc[:,9],\n",
    "                       max_torque_rpm = df_sc_sc[:,10],\n",
    "                       max_power_bhp = df_sc_sc[:,11],\n",
    "                       max_power_rp = df_sc_sc[:,12],\n",
    "                     brand = df_sc_sc[:,13]\n",
    "                      )\n",
    "df_sc"
   ]
  },
  {
   "cell_type": "code",
   "execution_count": 36,
   "id": "ea05568c",
   "metadata": {},
   "outputs": [],
   "source": [
    "from sklearn.ensemble import RandomForestRegressor\n",
    "from sklearn.model_selection import train_test_split\n",
    "rf = RandomForestRegressor(random_state= 42, n_estimators= 1000)"
   ]
  },
  {
   "cell_type": "code",
   "execution_count": 37,
   "id": "9c351e46",
   "metadata": {},
   "outputs": [],
   "source": [
    "x = df_sc\n",
    "y = df['starting_price']\n",
    "\n",
    "x_train,x_test,y_train,y_test = train_test_split(x,y,test_size= 0.3, shuffle=True)"
   ]
  },
  {
   "cell_type": "code",
   "execution_count": 38,
   "id": "ece58dd9",
   "metadata": {},
   "outputs": [
    {
     "data": {
      "text/plain": [
       "RandomForestRegressor(n_estimators=1000, random_state=42)"
      ]
     },
     "execution_count": 38,
     "metadata": {},
     "output_type": "execute_result"
    }
   ],
   "source": [
    "rf.fit(x_train,y_train)"
   ]
  },
  {
   "cell_type": "code",
   "execution_count": 39,
   "id": "e76fd072",
   "metadata": {},
   "outputs": [],
   "source": [
    "pred_rf = rf.predict(x_test)"
   ]
  },
  {
   "cell_type": "code",
   "execution_count": 40,
   "id": "bd9035dd",
   "metadata": {},
   "outputs": [
    {
     "data": {
      "text/html": [
       "<div>\n",
       "<style scoped>\n",
       "    .dataframe tbody tr th:only-of-type {\n",
       "        vertical-align: middle;\n",
       "    }\n",
       "\n",
       "    .dataframe tbody tr th {\n",
       "        vertical-align: top;\n",
       "    }\n",
       "\n",
       "    .dataframe thead th {\n",
       "        text-align: right;\n",
       "    }\n",
       "</style>\n",
       "<table border=\"1\" class=\"dataframe\">\n",
       "  <thead>\n",
       "    <tr style=\"text-align: right;\">\n",
       "      <th></th>\n",
       "      <th>Actual</th>\n",
       "      <th>Predicted</th>\n",
       "    </tr>\n",
       "  </thead>\n",
       "  <tbody>\n",
       "    <tr>\n",
       "      <th>28</th>\n",
       "      <td>941000</td>\n",
       "      <td>1067659.0</td>\n",
       "    </tr>\n",
       "    <tr>\n",
       "      <th>200</th>\n",
       "      <td>1615000</td>\n",
       "      <td>6523454.0</td>\n",
       "    </tr>\n",
       "    <tr>\n",
       "      <th>130</th>\n",
       "      <td>17100000</td>\n",
       "      <td>19334243.0</td>\n",
       "    </tr>\n",
       "    <tr>\n",
       "      <th>102</th>\n",
       "      <td>4150000</td>\n",
       "      <td>4358562.0</td>\n",
       "    </tr>\n",
       "    <tr>\n",
       "      <th>54</th>\n",
       "      <td>463000</td>\n",
       "      <td>831341.0</td>\n",
       "    </tr>\n",
       "  </tbody>\n",
       "</table>\n",
       "</div>"
      ],
      "text/plain": [
       "       Actual   Predicted\n",
       "28     941000   1067659.0\n",
       "200   1615000   6523454.0\n",
       "130  17100000  19334243.0\n",
       "102   4150000   4358562.0\n",
       "54     463000    831341.0"
      ]
     },
     "execution_count": 40,
     "metadata": {},
     "output_type": "execute_result"
    }
   ],
   "source": [
    "df_rf = pd.DataFrame({'Actual': y_test, 'Predicted' : pred_rf})\n",
    "df_rf.head()"
   ]
  },
  {
   "cell_type": "code",
   "execution_count": 42,
   "id": "fbebef4a",
   "metadata": {},
   "outputs": [
    {
     "data": {
      "image/png": "[encoded data removed]",
      "text/plain": [
       "<Figure size 576x432 with 1 Axes>"
      ]
     },
     "metadata": {
      "needs_background": "light"
     },
     "output_type": "display_data"
    }
   ],
   "source": [
    "f_i_values = rf.feature_importances_\n",
    "f_i = pd.Series(f_i_values, index = x_train.columns)\n",
    "fi_top = f_i.sort_values(ascending=False)\n",
    "\n",
    "plt.figure(figsize=(8,6))\n",
    "plt.title('Feature Importances')\n",
    "sns.barplot(x=fi_top, y=fi_top.index,palette='YlGn_r')\n",
    "# plt.rc('xtick', labelsize=5)\n",
    "plt.show()"
   ]
  },
  {
   "cell_type": "markdown",
   "id": "5d32c5b5",
   "metadata": {},
   "source": [
    "랜덤 포레스트를 이용해서 변수중요도를 살펴본 결과  \n",
    "최대토크, 최대마력, 엔진 배기량 순으로  \n",
    "변수중요도도 상관계수와 비슷한 성향을 볼 수 있다."
   ]
  }
 ],
 "metadata": {
  "kernelspec": {
   "display_name": "Python 3 (ipykernel)",
   "language": "python",
   "name": "python3"
  },
  "language_info": {
   "codemirror_mode": {
    "name": "ipython",
    "version": 3
   },
   "file_extension": ".py",
   "mimetype": "text/x-python",
   "name": "python",
   "nbconvert_exporter": "python",
   "pygments_lexer": "ipython3",
   "version": "3.9.12"
  }
 },
 "nbformat": 4,
 "nbformat_minor": 5
}
